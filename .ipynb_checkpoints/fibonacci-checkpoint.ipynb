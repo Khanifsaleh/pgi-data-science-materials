{
 "cells": [
  {
   "cell_type": "code",
   "execution_count": 4,
   "id": "9ab86ec5",
   "metadata": {},
   "outputs": [
    {
     "name": "stdout",
     "output_type": "stream",
     "text": [
      "Deret hasil: [10, 2, 12, 14, 26, 40, 66, 106, 172, 278]\n"
     ]
    }
   ],
   "source": [
    "def generate_fibonacci_like_series(bilangan_pertama, bilangan_kedua, panjang_deret):\n",
    "    deret = [bilangan_pertama, bilangan_kedua]\n",
    "    \n",
    "    for _ in range(panjang_deret - 2):\n",
    "        next_bilangan = deret[-1] + deret[-2]\n",
    "        deret.append(next_bilangan)\n",
    "    \n",
    "    return deret\n",
    "\n",
    "bilangan_pertama = 10\n",
    "bilangan_kedua = 2\n",
    "panjang_deret = 10\n",
    "\n",
    "hasil_deret = generate_fibonacci_like_series(bilangan_pertama, bilangan_kedua, panjang_deret)\n",
    "print(\"Deret hasil:\", hasil_deret)\n"
   ]
  },
  {
   "cell_type": "code",
   "execution_count": 6,
   "id": "d1f626f3",
   "metadata": {},
   "outputs": [
    {
     "name": "stdout",
     "output_type": "stream",
     "text": [
      "Angka 3 muncul sebanyak 13 kali dalam rentang [1, 40]\n",
      "Bilangan yang mengandung angka tersebut: [3, 13, 23, 30, 31, 32, 33, 34, 35, 36, 37, 38, 39]\n"
     ]
    }
   ],
   "source": [
    "def count_occurrences_in_range(batas_bawah, batas_atas, angka):\n",
    "    count = 0\n",
    "    angka_muncul = []\n",
    "\n",
    "    for num in range(batas_bawah, batas_atas + 1):\n",
    "        if str(angka) in str(num):\n",
    "            count += 1\n",
    "            angka_muncul.append(num)\n",
    "\n",
    "    return count, angka_muncul\n",
    "\n",
    "batas_bawah = 1\n",
    "batas_atas = 40\n",
    "angka = 3\n",
    "\n",
    "jumlah_muncul, angka_muncul = count_occurrences_in_range(batas_bawah, batas_atas, angka)\n",
    "print(f\"Angka {angka} muncul sebanyak {jumlah_muncul} kali dalam rentang [{batas_bawah}, {batas_atas}]\")\n",
    "print(\"Bilangan yang mengandung angka tersebut:\", angka_muncul)\n"
   ]
  },
  {
   "cell_type": "code",
   "execution_count": null,
   "id": "dca64af5",
   "metadata": {},
   "outputs": [],
   "source": [
    "range(1,)"
   ]
  }
 ],
 "metadata": {
  "kernelspec": {
   "display_name": "Python 3 (ipykernel)",
   "language": "python",
   "name": "python3"
  },
  "language_info": {
   "codemirror_mode": {
    "name": "ipython",
    "version": 3
   },
   "file_extension": ".py",
   "mimetype": "text/x-python",
   "name": "python",
   "nbconvert_exporter": "python",
   "pygments_lexer": "ipython3",
   "version": "3.8.12"
  }
 },
 "nbformat": 4,
 "nbformat_minor": 5
}
