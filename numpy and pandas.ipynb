{
 "cells": [
  {
   "cell_type": "code",
   "execution_count": 1,
   "id": "26317d83",
   "metadata": {},
   "outputs": [],
   "source": [
    "import numpy "
   ]
  },
  {
   "cell_type": "code",
   "execution_count": 2,
   "id": "2fba2ea3",
   "metadata": {},
   "outputs": [
    {
     "name": "stdout",
     "output_type": "stream",
     "text": [
      "Requirement already satisfied: numpy in c:\\miniconda\\lib\\site-packages (1.25.0)\n"
     ]
    }
   ],
   "source": [
    "!pip install numpy"
   ]
  },
  {
   "cell_type": "code",
   "execution_count": 5,
   "id": "86c0d61f",
   "metadata": {},
   "outputs": [],
   "source": [
    "import numpy as np"
   ]
  },
  {
   "cell_type": "code",
   "execution_count": 16,
   "id": "8f50751d",
   "metadata": {},
   "outputs": [],
   "source": [
    "_0_dim = np.array(10)\n",
    "_1_dim = np.array([1,2,3,4])\n",
    "_2_dim = np.array(\n",
    "    [\n",
    "        [1,2,3],\n",
    "        [4,5,6]\n",
    "    ]\n",
    ")\n",
    "_3_dim = np.array(\n",
    "    [\n",
    "        [[1,2,3],[4,5,6]],\n",
    "        [[7,8,9],[1,1,1]],\n",
    "        [[0,1,2],[1,2,0]],\n",
    "        [[10,1,3],[10,5,6]]\n",
    "    ]\n",
    ")"
   ]
  },
  {
   "cell_type": "code",
   "execution_count": 17,
   "id": "6598f06e",
   "metadata": {},
   "outputs": [
    {
     "name": "stdout",
     "output_type": "stream",
     "text": [
      "()\n",
      "(4,)\n",
      "(2, 3)\n",
      "(4, 2, 3)\n"
     ]
    }
   ],
   "source": [
    "# melihat ukuran array\n",
    "print(_0_dim.shape)\n",
    "print(_1_dim.shape)\n",
    "print(_2_dim.shape)\n",
    "print(_3_dim.shape)"
   ]
  },
  {
   "cell_type": "code",
   "execution_count": 21,
   "id": "06504f3d",
   "metadata": {},
   "outputs": [
    {
     "name": "stdout",
     "output_type": "stream",
     "text": [
      "2\n",
      "[1 2 3]\n"
     ]
    }
   ],
   "source": [
    "# mengambil nilai dari array\n",
    "print(_1_dim[1])\n",
    "print(_1_dim[:3])"
   ]
  },
  {
   "cell_type": "code",
   "execution_count": 23,
   "id": "9be57b74",
   "metadata": {},
   "outputs": [
    {
     "data": {
      "text/plain": [
       "array([[1, 2, 3],\n",
       "       [4, 5, 6]])"
      ]
     },
     "execution_count": 23,
     "metadata": {},
     "output_type": "execute_result"
    }
   ],
   "source": [
    "_2_dim"
   ]
  },
  {
   "cell_type": "code",
   "execution_count": 25,
   "id": "a6fb1fe2",
   "metadata": {},
   "outputs": [
    {
     "data": {
      "text/plain": [
       "2"
      ]
     },
     "execution_count": 25,
     "metadata": {},
     "output_type": "execute_result"
    }
   ],
   "source": [
    "#mengambil nilai 2 [baris, kolom]\n",
    "_2_dim[0,1]"
   ]
  },
  {
   "cell_type": "code",
   "execution_count": 26,
   "id": "1dc35bb9",
   "metadata": {},
   "outputs": [
    {
     "data": {
      "text/plain": [
       "6"
      ]
     },
     "execution_count": 26,
     "metadata": {},
     "output_type": "execute_result"
    }
   ],
   "source": [
    "_2_dim[1,2]"
   ]
  },
  {
   "cell_type": "code",
   "execution_count": 27,
   "id": "61c44471",
   "metadata": {},
   "outputs": [
    {
     "data": {
      "text/plain": [
       "array([3, 6])"
      ]
     },
     "execution_count": 27,
     "metadata": {},
     "output_type": "execute_result"
    }
   ],
   "source": [
    "_2_dim[:, 2]"
   ]
  },
  {
   "cell_type": "code",
   "execution_count": 33,
   "id": "c238d99f",
   "metadata": {},
   "outputs": [
    {
     "data": {
      "text/plain": [
       "array([[14, 15,  1,  5, 17],\n",
       "       [ 3,  8,  1, 10, 10],\n",
       "       [ 8,  7,  4, 18,  5]])"
      ]
     },
     "execution_count": 33,
     "metadata": {},
     "output_type": "execute_result"
    }
   ],
   "source": [
    "random_int_matrix = np.random.randint(1, 20, size=(3,5))\n",
    "random_int_matrix"
   ]
  },
  {
   "cell_type": "code",
   "execution_count": 42,
   "id": "939bb72d",
   "metadata": {},
   "outputs": [
    {
     "data": {
      "text/plain": [
       "array([[ 8,  1, 10],\n",
       "       [ 7,  4, 18]])"
      ]
     },
     "execution_count": 42,
     "metadata": {},
     "output_type": "execute_result"
    }
   ],
   "source": [
    "# [8,1,10]\n",
    "# [7,4,18]\n",
    "random_int_matrix[1:, 1:4]"
   ]
  },
  {
   "cell_type": "code",
   "execution_count": 43,
   "id": "fb04286f",
   "metadata": {},
   "outputs": [
    {
     "data": {
      "text/plain": [
       "array([[ 6, 13,  2,  9, 14],\n",
       "       [ 7,  6,  5, 14,  1],\n",
       "       [ 4,  4,  4,  2, 16],\n",
       "       [11, 12, 16, 17,  3]])"
      ]
     },
     "execution_count": 43,
     "metadata": {},
     "output_type": "execute_result"
    }
   ],
   "source": [
    "random_int_matrix = np.random.randint(1, 20, size=(4,5))\n",
    "random_int_matrix"
   ]
  },
  {
   "cell_type": "code",
   "execution_count": 44,
   "id": "5c64886a",
   "metadata": {},
   "outputs": [
    {
     "data": {
      "text/plain": [
       "(4, 5)"
      ]
     },
     "execution_count": 44,
     "metadata": {},
     "output_type": "execute_result"
    }
   ],
   "source": [
    "random_int_matrix.shape"
   ]
  },
  {
   "cell_type": "code",
   "execution_count": 45,
   "id": "cabf6ee5",
   "metadata": {},
   "outputs": [
    {
     "data": {
      "text/plain": [
       "array([[ 5, 14],\n",
       "       [ 4,  2],\n",
       "       [16, 17]])"
      ]
     },
     "execution_count": 45,
     "metadata": {},
     "output_type": "execute_result"
    }
   ],
   "source": [
    "# [5,14]\n",
    "# [4,2]\n",
    "# [16,17]\n",
    "random_int_matrix[1:,2:4]"
   ]
  },
  {
   "cell_type": "code",
   "execution_count": 52,
   "id": "28f22465",
   "metadata": {},
   "outputs": [
    {
     "data": {
      "text/plain": [
       "array(['laki-laki', 'perempuan', 'laki-laki', '8', '10.1'], dtype='<U32')"
      ]
     },
     "execution_count": 52,
     "metadata": {},
     "output_type": "execute_result"
    }
   ],
   "source": [
    "np.array(['laki-laki', 'perempuan', 'laki-laki', 8, 10.1])"
   ]
  },
  {
   "cell_type": "code",
   "execution_count": 56,
   "id": "f20e5262",
   "metadata": {},
   "outputs": [
    {
     "data": {
      "text/plain": [
       "(dtype('int32'), dtype('int32'), dtype('int32'))"
      ]
     },
     "execution_count": 56,
     "metadata": {},
     "output_type": "execute_result"
    }
   ],
   "source": [
    "#melihat tipe\n",
    "_0_dim.dtype, _1_dim.dtype, _2_dim.dtype"
   ]
  },
  {
   "cell_type": "code",
   "execution_count": 58,
   "id": "b70f9ebb",
   "metadata": {},
   "outputs": [
    {
     "data": {
      "text/plain": [
       "array([[1, 2, 3],\n",
       "       [4, 5, 6]])"
      ]
     },
     "execution_count": 58,
     "metadata": {},
     "output_type": "execute_result"
    }
   ],
   "source": [
    "_2_dim"
   ]
  },
  {
   "cell_type": "code",
   "execution_count": 62,
   "id": "8f127a7d",
   "metadata": {},
   "outputs": [
    {
     "name": "stdout",
     "output_type": "stream",
     "text": [
      "[[1. 2. 3.]\n",
      " [4. 5. 6.]]\n",
      "float64\n"
     ]
    }
   ],
   "source": [
    "#mengubah tipe data\n",
    "_2_dim_float = _2_dim.astype(float)\n",
    "print(_2_dim_float)\n",
    "print(_2_dim_float.dtype)"
   ]
  },
  {
   "cell_type": "code",
   "execution_count": 63,
   "id": "e5104b5d",
   "metadata": {},
   "outputs": [
    {
     "data": {
      "text/plain": [
       "dtype('float32')"
      ]
     },
     "execution_count": 63,
     "metadata": {},
     "output_type": "execute_result"
    }
   ],
   "source": [
    "_2_dim_float32 = _2_dim.astype('float32')\n",
    "_2_dim_float32.dtype"
   ]
  },
  {
   "cell_type": "code",
   "execution_count": 64,
   "id": "3ef5b9e2",
   "metadata": {},
   "outputs": [
    {
     "data": {
      "text/plain": [
       "array([['1', '2', '3'],\n",
       "       ['4', '5', '6']], dtype='<U11')"
      ]
     },
     "execution_count": 64,
     "metadata": {},
     "output_type": "execute_result"
    }
   ],
   "source": [
    "_2_dim.astype(str)"
   ]
  },
  {
   "cell_type": "markdown",
   "id": "ca04f828",
   "metadata": {},
   "source": [
    "### Operasi Matrix"
   ]
  },
  {
   "cell_type": "code",
   "execution_count": 67,
   "id": "7eff60cc",
   "metadata": {},
   "outputs": [
    {
     "data": {
      "text/plain": [
       "array([[0., 0., 0.],\n",
       "       [0., 0., 0.]])"
      ]
     },
     "execution_count": 67,
     "metadata": {},
     "output_type": "execute_result"
    }
   ],
   "source": [
    "zero_matrix = np.zeros((2,3))\n",
    "zero_matrix"
   ]
  },
  {
   "cell_type": "code",
   "execution_count": 69,
   "id": "ed10b91e",
   "metadata": {},
   "outputs": [
    {
     "data": {
      "text/plain": [
       "array([[1., 1., 1., 1., 1.],\n",
       "       [1., 1., 1., 1., 1.],\n",
       "       [1., 1., 1., 1., 1.]])"
      ]
     },
     "execution_count": 69,
     "metadata": {},
     "output_type": "execute_result"
    }
   ],
   "source": [
    "ones_matrix = np.ones((3,5))\n",
    "ones_matrix"
   ]
  },
  {
   "cell_type": "code",
   "execution_count": 74,
   "id": "0eabd340",
   "metadata": {},
   "outputs": [
    {
     "data": {
      "text/plain": [
       "array([[1., 0., 0., 0.],\n",
       "       [0., 1., 0., 0.],\n",
       "       [0., 0., 1., 0.],\n",
       "       [0., 0., 0., 1.]])"
      ]
     },
     "execution_count": 74,
     "metadata": {},
     "output_type": "execute_result"
    }
   ],
   "source": [
    "identity_matrix = np.identity(4)\n",
    "identity_matrix"
   ]
  },
  {
   "cell_type": "code",
   "execution_count": 87,
   "id": "bc13e672",
   "metadata": {},
   "outputs": [
    {
     "data": {
      "text/plain": [
       "array([[27, 95],\n",
       "       [50,  4],\n",
       "       [80, 11]])"
      ]
     },
     "execution_count": 87,
     "metadata": {},
     "output_type": "execute_result"
    }
   ],
   "source": [
    "m_int = np.random.randint(1, high=100, size=(3,2))\n",
    "m_int"
   ]
  },
  {
   "cell_type": "code",
   "execution_count": 102,
   "id": "4c21d1e4",
   "metadata": {},
   "outputs": [
    {
     "data": {
      "text/plain": [
       "array([[0.99093178, 0.94777769],\n",
       "       [0.46889298, 0.27051536],\n",
       "       [0.9504099 , 0.09986965]])"
      ]
     },
     "execution_count": 102,
     "metadata": {},
     "output_type": "execute_result"
    }
   ],
   "source": [
    "m_float = np.random.rand(3, 2)\n",
    "m_float"
   ]
  },
  {
   "cell_type": "code",
   "execution_count": 103,
   "id": "65b1147c",
   "metadata": {},
   "outputs": [
    {
     "data": {
      "text/plain": [
       "array([[27.99093178, 95.94777769],\n",
       "       [50.46889298,  4.27051536],\n",
       "       [80.9504099 , 11.09986965]])"
      ]
     },
     "execution_count": 103,
     "metadata": {},
     "output_type": "execute_result"
    }
   ],
   "source": [
    "#penjumlahan matrix\n",
    "m_int + m_float"
   ]
  },
  {
   "cell_type": "code",
   "execution_count": 104,
   "id": "cea117a3",
   "metadata": {},
   "outputs": [
    {
     "data": {
      "text/plain": [
       "array([[26.00906822, 94.05222231],\n",
       "       [49.53110702,  3.72948464],\n",
       "       [79.0495901 , 10.90013035]])"
      ]
     },
     "execution_count": 104,
     "metadata": {},
     "output_type": "execute_result"
    }
   ],
   "source": [
    "m_int - m_float"
   ]
  },
  {
   "cell_type": "code",
   "execution_count": 105,
   "id": "7ae3c53f",
   "metadata": {},
   "outputs": [
    {
     "data": {
      "text/plain": [
       "array([[ 27.24708262, 100.23447563],\n",
       "       [106.63414181,  14.78659124],\n",
       "       [ 84.17420714, 110.14357262]])"
      ]
     },
     "execution_count": 105,
     "metadata": {},
     "output_type": "execute_result"
    }
   ],
   "source": [
    "m_int / m_float"
   ]
  },
  {
   "cell_type": "code",
   "execution_count": 106,
   "id": "97b2019b",
   "metadata": {},
   "outputs": [
    {
     "data": {
      "text/plain": [
       "array([[26.75515798, 90.03888077],\n",
       "       [23.44464875,  1.08206143],\n",
       "       [76.0327922 ,  1.09856615]])"
      ]
     },
     "execution_count": 106,
     "metadata": {},
     "output_type": "execute_result"
    }
   ],
   "source": [
    "m_int * m_float"
   ]
  },
  {
   "cell_type": "code",
   "execution_count": 120,
   "id": "654a44ee",
   "metadata": {},
   "outputs": [],
   "source": [
    "a = np.random.randint(1, 30, size=(10,30))\n",
    "b = np.random.randint(1, 30, size=(30,299))"
   ]
  },
  {
   "cell_type": "code",
   "execution_count": 122,
   "id": "9211ab3a",
   "metadata": {},
   "outputs": [
    {
     "data": {
      "text/plain": [
       "(10, 299)"
      ]
     },
     "execution_count": 122,
     "metadata": {},
     "output_type": "execute_result"
    }
   ],
   "source": [
    "c = np.dot(a,b)\n",
    "c.shape"
   ]
  },
  {
   "cell_type": "code",
   "execution_count": 123,
   "id": "c10d147f",
   "metadata": {},
   "outputs": [
    {
     "data": {
      "text/plain": [
       "14.896666666666667"
      ]
     },
     "execution_count": 123,
     "metadata": {},
     "output_type": "execute_result"
    }
   ],
   "source": [
    "a.mean()"
   ]
  },
  {
   "cell_type": "code",
   "execution_count": 126,
   "id": "97ec3211",
   "metadata": {},
   "outputs": [
    {
     "data": {
      "text/plain": [
       "15.0"
      ]
     },
     "execution_count": 126,
     "metadata": {},
     "output_type": "execute_result"
    }
   ],
   "source": [
    "np.median(a)"
   ]
  },
  {
   "cell_type": "code",
   "execution_count": 127,
   "id": "5a1f8e71",
   "metadata": {},
   "outputs": [
    {
     "data": {
      "text/plain": [
       "14.896666666666667"
      ]
     },
     "execution_count": 127,
     "metadata": {},
     "output_type": "execute_result"
    }
   ],
   "source": [
    "np.mean(a)"
   ]
  },
  {
   "cell_type": "code",
   "execution_count": 132,
   "id": "628c1ba1",
   "metadata": {},
   "outputs": [
    {
     "data": {
      "text/plain": [
       "(array([[27, 95],\n",
       "        [50,  4],\n",
       "        [80, 11]]),\n",
       " (3, 2))"
      ]
     },
     "execution_count": 132,
     "metadata": {},
     "output_type": "execute_result"
    }
   ],
   "source": [
    "m_int, m_int.shape"
   ]
  },
  {
   "cell_type": "code",
   "execution_count": 133,
   "id": "b390e7ed",
   "metadata": {},
   "outputs": [
    {
     "data": {
      "text/plain": [
       "array([27, 95, 50,  4, 80, 11])"
      ]
     },
     "execution_count": 133,
     "metadata": {},
     "output_type": "execute_result"
    }
   ],
   "source": [
    "m_int.reshape(-1)"
   ]
  },
  {
   "cell_type": "code",
   "execution_count": 134,
   "id": "45202824",
   "metadata": {},
   "outputs": [
    {
     "data": {
      "text/plain": [
       "array([[27, 95, 50],\n",
       "       [ 4, 80, 11]])"
      ]
     },
     "execution_count": 134,
     "metadata": {},
     "output_type": "execute_result"
    }
   ],
   "source": [
    "m_int.reshape(2,3)"
   ]
  },
  {
   "cell_type": "code",
   "execution_count": 138,
   "id": "75730d57",
   "metadata": {},
   "outputs": [],
   "source": [
    "a = np.random.rand(5,6)"
   ]
  },
  {
   "cell_type": "code",
   "execution_count": 140,
   "id": "9a54c1ef",
   "metadata": {},
   "outputs": [
    {
     "data": {
      "text/plain": [
       "(3, 10)"
      ]
     },
     "execution_count": 140,
     "metadata": {},
     "output_type": "execute_result"
    }
   ],
   "source": [
    "a.reshape(3,-1).shape"
   ]
  },
  {
   "cell_type": "code",
   "execution_count": 141,
   "id": "75cc9f54",
   "metadata": {},
   "outputs": [
    {
     "data": {
      "text/plain": [
       "(10, 3)"
      ]
     },
     "execution_count": 141,
     "metadata": {},
     "output_type": "execute_result"
    }
   ],
   "source": [
    "a.reshape(-1,3).shape"
   ]
  },
  {
   "cell_type": "code",
   "execution_count": 142,
   "id": "8d8903d2",
   "metadata": {},
   "outputs": [
    {
     "ename": "ValueError",
     "evalue": "can only specify one unknown dimension",
     "output_type": "error",
     "traceback": [
      "\u001b[1;31m---------------------------------------------------------------------------\u001b[0m",
      "\u001b[1;31mValueError\u001b[0m                                Traceback (most recent call last)",
      "Cell \u001b[1;32mIn[142], line 1\u001b[0m\n\u001b[1;32m----> 1\u001b[0m \u001b[43ma\u001b[49m\u001b[38;5;241;43m.\u001b[39;49m\u001b[43mreshape\u001b[49m\u001b[43m(\u001b[49m\u001b[38;5;241;43m-\u001b[39;49m\u001b[38;5;241;43m1\u001b[39;49m\u001b[43m,\u001b[49m\u001b[38;5;241;43m-\u001b[39;49m\u001b[38;5;241;43m1\u001b[39;49m\u001b[43m)\u001b[49m\u001b[38;5;241m.\u001b[39mshape\n",
      "\u001b[1;31mValueError\u001b[0m: can only specify one unknown dimension"
     ]
    }
   ],
   "source": [
    "a.reshape(-1,-1).shape"
   ]
  },
  {
   "cell_type": "code",
   "execution_count": 143,
   "id": "f2810220",
   "metadata": {},
   "outputs": [
    {
     "data": {
      "text/plain": [
       "array([[27, 95],\n",
       "       [50,  4],\n",
       "       [80, 11]])"
      ]
     },
     "execution_count": 143,
     "metadata": {},
     "output_type": "execute_result"
    }
   ],
   "source": [
    "m_int"
   ]
  },
  {
   "cell_type": "code",
   "execution_count": 144,
   "id": "628803d1",
   "metadata": {},
   "outputs": [
    {
     "data": {
      "text/plain": [
       "267"
      ]
     },
     "execution_count": 144,
     "metadata": {},
     "output_type": "execute_result"
    }
   ],
   "source": [
    "np.sum(m_int)"
   ]
  },
  {
   "cell_type": "code",
   "execution_count": 146,
   "id": "239cc46a",
   "metadata": {},
   "outputs": [
    {
     "data": {
      "text/plain": [
       "267"
      ]
     },
     "execution_count": 146,
     "metadata": {},
     "output_type": "execute_result"
    }
   ],
   "source": [
    "m_int.sum()"
   ]
  },
  {
   "cell_type": "code",
   "execution_count": 148,
   "id": "171a9431",
   "metadata": {},
   "outputs": [
    {
     "data": {
      "text/plain": [
       "array([157, 110])"
      ]
     },
     "execution_count": 148,
     "metadata": {},
     "output_type": "execute_result"
    }
   ],
   "source": [
    "np.sum(m_int, axis=0) #menjumlahkan per kolom"
   ]
  },
  {
   "cell_type": "code",
   "execution_count": 151,
   "id": "ef0db3cd",
   "metadata": {},
   "outputs": [
    {
     "data": {
      "text/plain": [
       "array([52.33333333, 36.66666667])"
      ]
     },
     "execution_count": 151,
     "metadata": {},
     "output_type": "execute_result"
    }
   ],
   "source": [
    "np.mean(m_int, axis=0) #rata per kolom"
   ]
  },
  {
   "cell_type": "code",
   "execution_count": 149,
   "id": "d084ff7e",
   "metadata": {},
   "outputs": [
    {
     "data": {
      "text/plain": [
       "array([122,  54,  91])"
      ]
     },
     "execution_count": 149,
     "metadata": {},
     "output_type": "execute_result"
    }
   ],
   "source": [
    "np.sum(m_int, axis=1) #menjumlahkan per baris"
   ]
  },
  {
   "cell_type": "code",
   "execution_count": 152,
   "id": "33de3b1d",
   "metadata": {},
   "outputs": [
    {
     "data": {
      "text/plain": [
       "array([61. , 27. , 45.5])"
      ]
     },
     "execution_count": 152,
     "metadata": {},
     "output_type": "execute_result"
    }
   ],
   "source": [
    "np.mean(m_int, axis=1) #rata-rata per baris"
   ]
  },
  {
   "cell_type": "code",
   "execution_count": 150,
   "id": "64cd7cbb",
   "metadata": {},
   "outputs": [
    {
     "ename": "AxisError",
     "evalue": "axis 2 is out of bounds for array of dimension 2",
     "output_type": "error",
     "traceback": [
      "\u001b[1;31m---------------------------------------------------------------------------\u001b[0m",
      "\u001b[1;31mAxisError\u001b[0m                                 Traceback (most recent call last)",
      "Cell \u001b[1;32mIn[150], line 1\u001b[0m\n\u001b[1;32m----> 1\u001b[0m \u001b[43mnp\u001b[49m\u001b[38;5;241;43m.\u001b[39;49m\u001b[43msum\u001b[49m\u001b[43m(\u001b[49m\u001b[43mm_int\u001b[49m\u001b[43m,\u001b[49m\u001b[43m \u001b[49m\u001b[43maxis\u001b[49m\u001b[38;5;241;43m=\u001b[39;49m\u001b[38;5;241;43m2\u001b[39;49m\u001b[43m)\u001b[49m \u001b[38;5;66;03m#menjumlahkan per baris\u001b[39;00m\n",
      "File \u001b[1;32mC:\\miniconda\\lib\\site-packages\\numpy\\core\\fromnumeric.py:2313\u001b[0m, in \u001b[0;36msum\u001b[1;34m(a, axis, dtype, out, keepdims, initial, where)\u001b[0m\n\u001b[0;32m   2310\u001b[0m         \u001b[38;5;28;01mreturn\u001b[39;00m out\n\u001b[0;32m   2311\u001b[0m     \u001b[38;5;28;01mreturn\u001b[39;00m res\n\u001b[1;32m-> 2313\u001b[0m \u001b[38;5;28;01mreturn\u001b[39;00m \u001b[43m_wrapreduction\u001b[49m\u001b[43m(\u001b[49m\u001b[43ma\u001b[49m\u001b[43m,\u001b[49m\u001b[43m \u001b[49m\u001b[43mnp\u001b[49m\u001b[38;5;241;43m.\u001b[39;49m\u001b[43madd\u001b[49m\u001b[43m,\u001b[49m\u001b[43m \u001b[49m\u001b[38;5;124;43m'\u001b[39;49m\u001b[38;5;124;43msum\u001b[39;49m\u001b[38;5;124;43m'\u001b[39;49m\u001b[43m,\u001b[49m\u001b[43m \u001b[49m\u001b[43maxis\u001b[49m\u001b[43m,\u001b[49m\u001b[43m \u001b[49m\u001b[43mdtype\u001b[49m\u001b[43m,\u001b[49m\u001b[43m \u001b[49m\u001b[43mout\u001b[49m\u001b[43m,\u001b[49m\u001b[43m \u001b[49m\u001b[43mkeepdims\u001b[49m\u001b[38;5;241;43m=\u001b[39;49m\u001b[43mkeepdims\u001b[49m\u001b[43m,\u001b[49m\n\u001b[0;32m   2314\u001b[0m \u001b[43m                      \u001b[49m\u001b[43minitial\u001b[49m\u001b[38;5;241;43m=\u001b[39;49m\u001b[43minitial\u001b[49m\u001b[43m,\u001b[49m\u001b[43m \u001b[49m\u001b[43mwhere\u001b[49m\u001b[38;5;241;43m=\u001b[39;49m\u001b[43mwhere\u001b[49m\u001b[43m)\u001b[49m\n",
      "File \u001b[1;32mC:\\miniconda\\lib\\site-packages\\numpy\\core\\fromnumeric.py:88\u001b[0m, in \u001b[0;36m_wrapreduction\u001b[1;34m(obj, ufunc, method, axis, dtype, out, **kwargs)\u001b[0m\n\u001b[0;32m     85\u001b[0m         \u001b[38;5;28;01melse\u001b[39;00m:\n\u001b[0;32m     86\u001b[0m             \u001b[38;5;28;01mreturn\u001b[39;00m reduction(axis\u001b[38;5;241m=\u001b[39maxis, out\u001b[38;5;241m=\u001b[39mout, \u001b[38;5;241m*\u001b[39m\u001b[38;5;241m*\u001b[39mpasskwargs)\n\u001b[1;32m---> 88\u001b[0m \u001b[38;5;28;01mreturn\u001b[39;00m ufunc\u001b[38;5;241m.\u001b[39mreduce(obj, axis, dtype, out, \u001b[38;5;241m*\u001b[39m\u001b[38;5;241m*\u001b[39mpasskwargs)\n",
      "\u001b[1;31mAxisError\u001b[0m: axis 2 is out of bounds for array of dimension 2"
     ]
    }
   ],
   "source": [
    "np.sum(m_int, axis=2) #menjumlahkan per baris"
   ]
  },
  {
   "cell_type": "markdown",
   "id": "7058481f",
   "metadata": {},
   "source": [
    "## Pandas"
   ]
  },
  {
   "cell_type": "code",
   "execution_count": 153,
   "id": "9a8ad263",
   "metadata": {},
   "outputs": [],
   "source": [
    "import pandas as pd"
   ]
  },
  {
   "cell_type": "code",
   "execution_count": 154,
   "id": "e56c1d54",
   "metadata": {},
   "outputs": [],
   "source": [
    "# !pip install pandas"
   ]
  },
  {
   "cell_type": "code",
   "execution_count": 162,
   "id": "b47fc627",
   "metadata": {},
   "outputs": [
    {
     "data": {
      "text/html": [
       "<div>\n",
       "<style scoped>\n",
       "    .dataframe tbody tr th:only-of-type {\n",
       "        vertical-align: middle;\n",
       "    }\n",
       "\n",
       "    .dataframe tbody tr th {\n",
       "        vertical-align: top;\n",
       "    }\n",
       "\n",
       "    .dataframe thead th {\n",
       "        text-align: right;\n",
       "    }\n",
       "</style>\n",
       "<table border=\"1\" class=\"dataframe\">\n",
       "  <thead>\n",
       "    <tr style=\"text-align: right;\">\n",
       "      <th></th>\n",
       "      <th>kolom_1</th>\n",
       "      <th>kolom_2</th>\n",
       "    </tr>\n",
       "  </thead>\n",
       "  <tbody>\n",
       "    <tr>\n",
       "      <th>0</th>\n",
       "      <td>1</td>\n",
       "      <td>a</td>\n",
       "    </tr>\n",
       "    <tr>\n",
       "      <th>1</th>\n",
       "      <td>2</td>\n",
       "      <td>b</td>\n",
       "    </tr>\n",
       "    <tr>\n",
       "      <th>2</th>\n",
       "      <td>3</td>\n",
       "      <td>c</td>\n",
       "    </tr>\n",
       "    <tr>\n",
       "      <th>3</th>\n",
       "      <td>4</td>\n",
       "      <td>d</td>\n",
       "    </tr>\n",
       "  </tbody>\n",
       "</table>\n",
       "</div>"
      ],
      "text/plain": [
       "   kolom_1 kolom_2\n",
       "0        1       a\n",
       "1        2       b\n",
       "2        3       c\n",
       "3        4       d"
      ]
     },
     "execution_count": 162,
     "metadata": {},
     "output_type": "execute_result"
    }
   ],
   "source": [
    "#membuat data frame dari dictionary (key : string/int, values: [list])\n",
    "_dict = {\n",
    "    'kolom_1': [1,2,3,4],\n",
    "    'kolom_2': ['a', 'b', 'c', 'd']\n",
    "}\n",
    "df = pd.DataFrame(\n",
    "    _dict\n",
    ")\n",
    "df"
   ]
  },
  {
   "cell_type": "code",
   "execution_count": 163,
   "id": "a2dc7719",
   "metadata": {},
   "outputs": [
    {
     "data": {
      "text/plain": [
       "(4, 2)"
      ]
     },
     "execution_count": 163,
     "metadata": {},
     "output_type": "execute_result"
    }
   ],
   "source": [
    "df.shape"
   ]
  },
  {
   "cell_type": "code",
   "execution_count": 166,
   "id": "1020d76b",
   "metadata": {},
   "outputs": [
    {
     "data": {
      "text/html": [
       "<div>\n",
       "<style scoped>\n",
       "    .dataframe tbody tr th:only-of-type {\n",
       "        vertical-align: middle;\n",
       "    }\n",
       "\n",
       "    .dataframe tbody tr th {\n",
       "        vertical-align: top;\n",
       "    }\n",
       "\n",
       "    .dataframe thead th {\n",
       "        text-align: right;\n",
       "    }\n",
       "</style>\n",
       "<table border=\"1\" class=\"dataframe\">\n",
       "  <thead>\n",
       "    <tr style=\"text-align: right;\">\n",
       "      <th></th>\n",
       "      <th>kolom_1</th>\n",
       "      <th>kolom_2</th>\n",
       "    </tr>\n",
       "  </thead>\n",
       "  <tbody>\n",
       "    <tr>\n",
       "      <th>0</th>\n",
       "      <td>1</td>\n",
       "      <td>a</td>\n",
       "    </tr>\n",
       "    <tr>\n",
       "      <th>1</th>\n",
       "      <td>2</td>\n",
       "      <td>b</td>\n",
       "    </tr>\n",
       "    <tr>\n",
       "      <th>2</th>\n",
       "      <td>3</td>\n",
       "      <td>c</td>\n",
       "    </tr>\n",
       "    <tr>\n",
       "      <th>3</th>\n",
       "      <td>4</td>\n",
       "      <td>d</td>\n",
       "    </tr>\n",
       "  </tbody>\n",
       "</table>\n",
       "</div>"
      ],
      "text/plain": [
       "  kolom_1 kolom_2\n",
       "0       1       a\n",
       "1       2       b\n",
       "2       3       c\n",
       "3       4       d"
      ]
     },
     "execution_count": 166,
     "metadata": {},
     "output_type": "execute_result"
    }
   ],
   "source": [
    "# membuat data frame dari numpy/list of list\n",
    "_numpy = np.array([\n",
    "    [1, 'a'],\n",
    "    [2, 'b'],\n",
    "    [3, 'c'],\n",
    "    [4, 'd']\n",
    "])\n",
    "df = pd.DataFrame(\n",
    "    _numpy,\n",
    "    columns = ['kolom_1', 'kolom_2'],\n",
    ")\n",
    "df"
   ]
  },
  {
   "cell_type": "code",
   "execution_count": 167,
   "id": "8677d702",
   "metadata": {},
   "outputs": [],
   "source": [
    "df.columns = ['kolom_1_diubah', 'kolom_2_diubah']"
   ]
  },
  {
   "cell_type": "code",
   "execution_count": 168,
   "id": "a40fcf2a",
   "metadata": {},
   "outputs": [
    {
     "data": {
      "text/html": [
       "<div>\n",
       "<style scoped>\n",
       "    .dataframe tbody tr th:only-of-type {\n",
       "        vertical-align: middle;\n",
       "    }\n",
       "\n",
       "    .dataframe tbody tr th {\n",
       "        vertical-align: top;\n",
       "    }\n",
       "\n",
       "    .dataframe thead th {\n",
       "        text-align: right;\n",
       "    }\n",
       "</style>\n",
       "<table border=\"1\" class=\"dataframe\">\n",
       "  <thead>\n",
       "    <tr style=\"text-align: right;\">\n",
       "      <th></th>\n",
       "      <th>kolom_1_diubah</th>\n",
       "      <th>kolom_2_diubah</th>\n",
       "    </tr>\n",
       "  </thead>\n",
       "  <tbody>\n",
       "    <tr>\n",
       "      <th>0</th>\n",
       "      <td>1</td>\n",
       "      <td>a</td>\n",
       "    </tr>\n",
       "    <tr>\n",
       "      <th>1</th>\n",
       "      <td>2</td>\n",
       "      <td>b</td>\n",
       "    </tr>\n",
       "    <tr>\n",
       "      <th>2</th>\n",
       "      <td>3</td>\n",
       "      <td>c</td>\n",
       "    </tr>\n",
       "    <tr>\n",
       "      <th>3</th>\n",
       "      <td>4</td>\n",
       "      <td>d</td>\n",
       "    </tr>\n",
       "  </tbody>\n",
       "</table>\n",
       "</div>"
      ],
      "text/plain": [
       "  kolom_1_diubah kolom_2_diubah\n",
       "0              1              a\n",
       "1              2              b\n",
       "2              3              c\n",
       "3              4              d"
      ]
     },
     "execution_count": 168,
     "metadata": {},
     "output_type": "execute_result"
    }
   ],
   "source": [
    "df"
   ]
  },
  {
   "cell_type": "code",
   "execution_count": 169,
   "id": "f199db0f",
   "metadata": {},
   "outputs": [],
   "source": [
    "df.index = [1,2,3,4]"
   ]
  },
  {
   "cell_type": "code",
   "execution_count": 170,
   "id": "f274792c",
   "metadata": {},
   "outputs": [
    {
     "data": {
      "text/html": [
       "<div>\n",
       "<style scoped>\n",
       "    .dataframe tbody tr th:only-of-type {\n",
       "        vertical-align: middle;\n",
       "    }\n",
       "\n",
       "    .dataframe tbody tr th {\n",
       "        vertical-align: top;\n",
       "    }\n",
       "\n",
       "    .dataframe thead th {\n",
       "        text-align: right;\n",
       "    }\n",
       "</style>\n",
       "<table border=\"1\" class=\"dataframe\">\n",
       "  <thead>\n",
       "    <tr style=\"text-align: right;\">\n",
       "      <th></th>\n",
       "      <th>kolom_1_diubah</th>\n",
       "      <th>kolom_2_diubah</th>\n",
       "    </tr>\n",
       "  </thead>\n",
       "  <tbody>\n",
       "    <tr>\n",
       "      <th>1</th>\n",
       "      <td>1</td>\n",
       "      <td>a</td>\n",
       "    </tr>\n",
       "    <tr>\n",
       "      <th>2</th>\n",
       "      <td>2</td>\n",
       "      <td>b</td>\n",
       "    </tr>\n",
       "    <tr>\n",
       "      <th>3</th>\n",
       "      <td>3</td>\n",
       "      <td>c</td>\n",
       "    </tr>\n",
       "    <tr>\n",
       "      <th>4</th>\n",
       "      <td>4</td>\n",
       "      <td>d</td>\n",
       "    </tr>\n",
       "  </tbody>\n",
       "</table>\n",
       "</div>"
      ],
      "text/plain": [
       "  kolom_1_diubah kolom_2_diubah\n",
       "1              1              a\n",
       "2              2              b\n",
       "3              3              c\n",
       "4              4              d"
      ]
     },
     "execution_count": 170,
     "metadata": {},
     "output_type": "execute_result"
    }
   ],
   "source": [
    "df"
   ]
  },
  {
   "cell_type": "code",
   "execution_count": 173,
   "id": "0f60daee",
   "metadata": {},
   "outputs": [
    {
     "data": {
      "text/html": [
       "<div>\n",
       "<style scoped>\n",
       "    .dataframe tbody tr th:only-of-type {\n",
       "        vertical-align: middle;\n",
       "    }\n",
       "\n",
       "    .dataframe tbody tr th {\n",
       "        vertical-align: top;\n",
       "    }\n",
       "\n",
       "    .dataframe thead th {\n",
       "        text-align: right;\n",
       "    }\n",
       "</style>\n",
       "<table border=\"1\" class=\"dataframe\">\n",
       "  <thead>\n",
       "    <tr style=\"text-align: right;\">\n",
       "      <th></th>\n",
       "      <th>kolom_1</th>\n",
       "      <th>kolom_2</th>\n",
       "    </tr>\n",
       "  </thead>\n",
       "  <tbody>\n",
       "    <tr>\n",
       "      <th>100</th>\n",
       "      <td>1</td>\n",
       "      <td>a</td>\n",
       "    </tr>\n",
       "    <tr>\n",
       "      <th>101</th>\n",
       "      <td>2</td>\n",
       "      <td>b</td>\n",
       "    </tr>\n",
       "    <tr>\n",
       "      <th>102</th>\n",
       "      <td>3</td>\n",
       "      <td>c</td>\n",
       "    </tr>\n",
       "    <tr>\n",
       "      <th>103</th>\n",
       "      <td>4</td>\n",
       "      <td>d</td>\n",
       "    </tr>\n",
       "  </tbody>\n",
       "</table>\n",
       "</div>"
      ],
      "text/plain": [
       "    kolom_1 kolom_2\n",
       "100       1       a\n",
       "101       2       b\n",
       "102       3       c\n",
       "103       4       d"
      ]
     },
     "execution_count": 173,
     "metadata": {},
     "output_type": "execute_result"
    }
   ],
   "source": [
    "df = pd.DataFrame(\n",
    "    _numpy,\n",
    "    columns = ['kolom_1', 'kolom_2'],\n",
    "    index = range(100, 104)\n",
    ")\n",
    "df"
   ]
  },
  {
   "cell_type": "code",
   "execution_count": 176,
   "id": "8cdf3867",
   "metadata": {},
   "outputs": [
    {
     "data": {
      "text/html": [
       "<div>\n",
       "<style scoped>\n",
       "    .dataframe tbody tr th:only-of-type {\n",
       "        vertical-align: middle;\n",
       "    }\n",
       "\n",
       "    .dataframe tbody tr th {\n",
       "        vertical-align: top;\n",
       "    }\n",
       "\n",
       "    .dataframe thead th {\n",
       "        text-align: right;\n",
       "    }\n",
       "</style>\n",
       "<table border=\"1\" class=\"dataframe\">\n",
       "  <thead>\n",
       "    <tr style=\"text-align: right;\">\n",
       "      <th></th>\n",
       "      <th>kolom_1</th>\n",
       "      <th>kolom_2</th>\n",
       "    </tr>\n",
       "  </thead>\n",
       "  <tbody>\n",
       "    <tr>\n",
       "      <th>0</th>\n",
       "      <td>1.0</td>\n",
       "      <td>a</td>\n",
       "    </tr>\n",
       "    <tr>\n",
       "      <th>1</th>\n",
       "      <td>2.0</td>\n",
       "      <td>b</td>\n",
       "    </tr>\n",
       "    <tr>\n",
       "      <th>2</th>\n",
       "      <td>3.0</td>\n",
       "      <td>c</td>\n",
       "    </tr>\n",
       "    <tr>\n",
       "      <th>3</th>\n",
       "      <td>NaN</td>\n",
       "      <td>d</td>\n",
       "    </tr>\n",
       "  </tbody>\n",
       "</table>\n",
       "</div>"
      ],
      "text/plain": [
       "   kolom_1 kolom_2\n",
       "0      1.0       a\n",
       "1      2.0       b\n",
       "2      3.0       c\n",
       "3      NaN       d"
      ]
     },
     "execution_count": 176,
     "metadata": {},
     "output_type": "execute_result"
    }
   ],
   "source": [
    "# membuat data frame dari list of dictionary\n",
    "_list_of_dict = [\n",
    "    {'kolom_1': 1, 'kolom_2': 'a'},\n",
    "    {'kolom_1': 2, 'kolom_2': 'b'},\n",
    "    {'kolom_1': 3, 'kolom_2': 'c'},\n",
    "    {'kolom_2': 'd'}\n",
    "]\n",
    "pd.DataFrame(_list_of_dict)"
   ]
  },
  {
   "cell_type": "code",
   "execution_count": 178,
   "id": "8f4f3a95",
   "metadata": {},
   "outputs": [],
   "source": [
    "#load csv file to dataframe\n",
    "df = pd.read_csv('creditapproval.xls - DT_NasabahKredit.csv')"
   ]
  },
  {
   "cell_type": "code",
   "execution_count": 180,
   "id": "78ec2dd0",
   "metadata": {},
   "outputs": [],
   "source": [
    "df.to_csv('temp_csv.csv')"
   ]
  },
  {
   "cell_type": "markdown",
   "id": "7af7392a",
   "metadata": {},
   "source": [
    "### Melihat tipe data"
   ]
  },
  {
   "cell_type": "code",
   "execution_count": 182,
   "id": "570c6b35",
   "metadata": {},
   "outputs": [
    {
     "data": {
      "text/plain": [
       "nama_nasabah               object\n",
       "jenis_kelamin              object\n",
       "umur                      float64\n",
       "jml_pinjaman              float64\n",
       "jkw                         int64\n",
       "jml_angsuran_per_bulan    float64\n",
       "type_pinjaman               int64\n",
       "jenis_pinjaman              int64\n",
       "bi_sektor_ekonomi         float64\n",
       "col                         int64\n",
       "bi_golongan_debitur         int64\n",
       "bi_gol_penjamin             int64\n",
       "saldo_nominatif           float64\n",
       "tunggakan_pokok           float64\n",
       "tunggakan_bunga           float64\n",
       "status kredit              object\n",
       "dtype: object"
      ]
     },
     "execution_count": 182,
     "metadata": {},
     "output_type": "execute_result"
    }
   ],
   "source": [
    "df.dtypes"
   ]
  },
  {
   "cell_type": "code",
   "execution_count": 187,
   "id": "fb5c2571",
   "metadata": {},
   "outputs": [
    {
     "data": {
      "text/plain": [
       "nama_nasabah              0\n",
       "jenis_kelamin             0\n",
       "umur                      1\n",
       "jml_pinjaman              0\n",
       "jkw                       0\n",
       "jml_angsuran_per_bulan    0\n",
       "type_pinjaman             0\n",
       "jenis_pinjaman            0\n",
       "bi_sektor_ekonomi         1\n",
       "col                       0\n",
       "bi_golongan_debitur       0\n",
       "bi_gol_penjamin           0\n",
       "saldo_nominatif           0\n",
       "tunggakan_pokok           0\n",
       "tunggakan_bunga           0\n",
       "status kredit             0\n",
       "dtype: int64"
      ]
     },
     "execution_count": 187,
     "metadata": {},
     "output_type": "execute_result"
    }
   ],
   "source": [
    "#jumlah missing values\n",
    "df.isna().sum()"
   ]
  },
  {
   "cell_type": "code",
   "execution_count": 183,
   "id": "0860a21c",
   "metadata": {},
   "outputs": [],
   "source": [
    "#mengubah tipe data"
   ]
  },
  {
   "cell_type": "code",
   "execution_count": 185,
   "id": "7af9d430",
   "metadata": {},
   "outputs": [
    {
     "data": {
      "text/plain": [
       "dtype('float64')"
      ]
     },
     "execution_count": 185,
     "metadata": {},
     "output_type": "execute_result"
    }
   ],
   "source": [
    "df['umur'].dtype"
   ]
  },
  {
   "cell_type": "code",
   "execution_count": 188,
   "id": "647e401c",
   "metadata": {},
   "outputs": [
    {
     "data": {
      "text/plain": [
       "0      40\n",
       "1      31\n",
       "2      37\n",
       "3       2\n",
       "4      34\n",
       "       ..\n",
       "761    38\n",
       "762    36\n",
       "763    28\n",
       "764    31\n",
       "765    36\n",
       "Name: umur, Length: 765, dtype: int32"
      ]
     },
     "execution_count": 188,
     "metadata": {},
     "output_type": "execute_result"
    }
   ],
   "source": [
    "df['umur'].dropna().astype(int)"
   ]
  },
  {
   "cell_type": "code",
   "execution_count": 189,
   "id": "583b99d1",
   "metadata": {},
   "outputs": [
    {
     "data": {
      "text/plain": [
       "0      40.0\n",
       "1      31.0\n",
       "2      37.0\n",
       "3       2.0\n",
       "4      34.0\n",
       "       ... \n",
       "761    38.0\n",
       "762    36.0\n",
       "763    28.0\n",
       "764    31.0\n",
       "765    36.0\n",
       "Name: umur, Length: 765, dtype: object"
      ]
     },
     "execution_count": 189,
     "metadata": {},
     "output_type": "execute_result"
    }
   ],
   "source": [
    "df['umur'].dropna().astype(str)"
   ]
  },
  {
   "cell_type": "code",
   "execution_count": 190,
   "id": "ca48c470",
   "metadata": {},
   "outputs": [
    {
     "name": "stdout",
     "output_type": "stream",
     "text": [
      "<class 'pandas.core.frame.DataFrame'>\n",
      "RangeIndex: 766 entries, 0 to 765\n",
      "Data columns (total 16 columns):\n",
      " #   Column                  Non-Null Count  Dtype  \n",
      "---  ------                  --------------  -----  \n",
      " 0   nama_nasabah            766 non-null    object \n",
      " 1   jenis_kelamin           766 non-null    object \n",
      " 2   umur                    765 non-null    float64\n",
      " 3   jml_pinjaman            766 non-null    float64\n",
      " 4   jkw                     766 non-null    int64  \n",
      " 5   jml_angsuran_per_bulan  766 non-null    float64\n",
      " 6   type_pinjaman           766 non-null    int64  \n",
      " 7   jenis_pinjaman          766 non-null    int64  \n",
      " 8   bi_sektor_ekonomi       765 non-null    float64\n",
      " 9   col                     766 non-null    int64  \n",
      " 10  bi_golongan_debitur     766 non-null    int64  \n",
      " 11  bi_gol_penjamin         766 non-null    int64  \n",
      " 12  saldo_nominatif         766 non-null    float64\n",
      " 13  tunggakan_pokok         766 non-null    float64\n",
      " 14  tunggakan_bunga         766 non-null    float64\n",
      " 15  status kredit           766 non-null    object \n",
      "dtypes: float64(7), int64(6), object(3)\n",
      "memory usage: 95.9+ KB\n"
     ]
    }
   ],
   "source": [
    "df.info()"
   ]
  },
  {
   "cell_type": "code",
   "execution_count": 191,
   "id": "d842b2c8",
   "metadata": {},
   "outputs": [
    {
     "data": {
      "text/plain": [
       "array([['x1', 'P', 40.0, ..., 345000.0, 0.0, 'MACET'],\n",
       "       ['x2', 'L', 31.0, ..., 111428.0, 0.0, 'MACET'],\n",
       "       ['x3', 'L', 37.0, ..., 216642.0, 0.0, 'MACET'],\n",
       "       ...,\n",
       "       ['x764', 'L', 28.0, ..., 600000.0, 180000.0, 'MACET'],\n",
       "       ['x765', 'P', 31.0, ..., 1312500.0, 78750.0, 'MACET'],\n",
       "       ['x766', 'P', 36.0, ..., 1000000.0, 100000.0, 'MACET']],\n",
       "      dtype=object)"
      ]
     },
     "execution_count": 191,
     "metadata": {},
     "output_type": "execute_result"
    }
   ],
   "source": [
    "df.values"
   ]
  },
  {
   "cell_type": "code",
   "execution_count": 194,
   "id": "8dafb217",
   "metadata": {},
   "outputs": [
    {
     "data": {
      "text/html": [
       "<div>\n",
       "<style scoped>\n",
       "    .dataframe tbody tr th:only-of-type {\n",
       "        vertical-align: middle;\n",
       "    }\n",
       "\n",
       "    .dataframe tbody tr th {\n",
       "        vertical-align: top;\n",
       "    }\n",
       "\n",
       "    .dataframe thead th {\n",
       "        text-align: right;\n",
       "    }\n",
       "</style>\n",
       "<table border=\"1\" class=\"dataframe\">\n",
       "  <thead>\n",
       "    <tr style=\"text-align: right;\">\n",
       "      <th></th>\n",
       "      <th>nama_nasabah</th>\n",
       "      <th>jenis_kelamin</th>\n",
       "      <th>umur</th>\n",
       "      <th>jml_pinjaman</th>\n",
       "      <th>jkw</th>\n",
       "      <th>jml_angsuran_per_bulan</th>\n",
       "      <th>type_pinjaman</th>\n",
       "      <th>jenis_pinjaman</th>\n",
       "      <th>bi_sektor_ekonomi</th>\n",
       "      <th>col</th>\n",
       "      <th>bi_golongan_debitur</th>\n",
       "      <th>bi_gol_penjamin</th>\n",
       "      <th>saldo_nominatif</th>\n",
       "      <th>tunggakan_pokok</th>\n",
       "      <th>tunggakan_bunga</th>\n",
       "      <th>status kredit</th>\n",
       "    </tr>\n",
       "  </thead>\n",
       "  <tbody>\n",
       "    <tr>\n",
       "      <th>423</th>\n",
       "      <td>x424</td>\n",
       "      <td>L</td>\n",
       "      <td>1043.0</td>\n",
       "      <td>686667.34</td>\n",
       "      <td>3</td>\n",
       "      <td>62222.68</td>\n",
       "      <td>100</td>\n",
       "      <td>301</td>\n",
       "      <td>6000.0</td>\n",
       "      <td>1</td>\n",
       "      <td>874</td>\n",
       "      <td>875</td>\n",
       "      <td>186667.34</td>\n",
       "      <td>186667.34</td>\n",
       "      <td>0.00</td>\n",
       "      <td>MACET</td>\n",
       "    </tr>\n",
       "    <tr>\n",
       "      <th>571</th>\n",
       "      <td>x572</td>\n",
       "      <td>L</td>\n",
       "      <td>80.0</td>\n",
       "      <td>940000.00</td>\n",
       "      <td>47</td>\n",
       "      <td>20000.00</td>\n",
       "      <td>100</td>\n",
       "      <td>305</td>\n",
       "      <td>6000.0</td>\n",
       "      <td>1</td>\n",
       "      <td>874</td>\n",
       "      <td>875</td>\n",
       "      <td>940000.00</td>\n",
       "      <td>240000.00</td>\n",
       "      <td>0.00</td>\n",
       "      <td>MACET</td>\n",
       "    </tr>\n",
       "    <tr>\n",
       "      <th>526</th>\n",
       "      <td>x527</td>\n",
       "      <td>P</td>\n",
       "      <td>76.0</td>\n",
       "      <td>2000000.00</td>\n",
       "      <td>6</td>\n",
       "      <td>393333.35</td>\n",
       "      <td>100</td>\n",
       "      <td>301</td>\n",
       "      <td>6000.0</td>\n",
       "      <td>1</td>\n",
       "      <td>874</td>\n",
       "      <td>0</td>\n",
       "      <td>2000000.00</td>\n",
       "      <td>0.00</td>\n",
       "      <td>0.00</td>\n",
       "      <td>LANCAR</td>\n",
       "    </tr>\n",
       "    <tr>\n",
       "      <th>413</th>\n",
       "      <td>x414</td>\n",
       "      <td>L</td>\n",
       "      <td>68.0</td>\n",
       "      <td>769167.00</td>\n",
       "      <td>12</td>\n",
       "      <td>70347.25</td>\n",
       "      <td>100</td>\n",
       "      <td>301</td>\n",
       "      <td>6000.0</td>\n",
       "      <td>1</td>\n",
       "      <td>874</td>\n",
       "      <td>875</td>\n",
       "      <td>744167.00</td>\n",
       "      <td>603472.50</td>\n",
       "      <td>0.00</td>\n",
       "      <td>MACET</td>\n",
       "    </tr>\n",
       "    <tr>\n",
       "      <th>67</th>\n",
       "      <td>x68</td>\n",
       "      <td>L</td>\n",
       "      <td>67.0</td>\n",
       "      <td>875000.00</td>\n",
       "      <td>17</td>\n",
       "      <td>54529.78</td>\n",
       "      <td>100</td>\n",
       "      <td>301</td>\n",
       "      <td>6000.0</td>\n",
       "      <td>1</td>\n",
       "      <td>874</td>\n",
       "      <td>0</td>\n",
       "      <td>875000.00</td>\n",
       "      <td>566176.38</td>\n",
       "      <td>33649.00</td>\n",
       "      <td>MACET</td>\n",
       "    </tr>\n",
       "    <tr>\n",
       "      <th>...</th>\n",
       "      <td>...</td>\n",
       "      <td>...</td>\n",
       "      <td>...</td>\n",
       "      <td>...</td>\n",
       "      <td>...</td>\n",
       "      <td>...</td>\n",
       "      <td>...</td>\n",
       "      <td>...</td>\n",
       "      <td>...</td>\n",
       "      <td>...</td>\n",
       "      <td>...</td>\n",
       "      <td>...</td>\n",
       "      <td>...</td>\n",
       "      <td>...</td>\n",
       "      <td>...</td>\n",
       "      <td>...</td>\n",
       "    </tr>\n",
       "    <tr>\n",
       "      <th>560</th>\n",
       "      <td>x561</td>\n",
       "      <td>L</td>\n",
       "      <td>-48.0</td>\n",
       "      <td>330000.00</td>\n",
       "      <td>8</td>\n",
       "      <td>41250.00</td>\n",
       "      <td>100</td>\n",
       "      <td>303</td>\n",
       "      <td>6000.0</td>\n",
       "      <td>1</td>\n",
       "      <td>874</td>\n",
       "      <td>0</td>\n",
       "      <td>330000.00</td>\n",
       "      <td>82500.00</td>\n",
       "      <td>0.00</td>\n",
       "      <td>MACET</td>\n",
       "    </tr>\n",
       "    <tr>\n",
       "      <th>361</th>\n",
       "      <td>x362</td>\n",
       "      <td>P</td>\n",
       "      <td>-48.0</td>\n",
       "      <td>500000.00</td>\n",
       "      <td>8</td>\n",
       "      <td>67500.00</td>\n",
       "      <td>100</td>\n",
       "      <td>301</td>\n",
       "      <td>6000.0</td>\n",
       "      <td>1</td>\n",
       "      <td>874</td>\n",
       "      <td>0</td>\n",
       "      <td>500000.00</td>\n",
       "      <td>62500.00</td>\n",
       "      <td>5000.00</td>\n",
       "      <td>LANCAR</td>\n",
       "    </tr>\n",
       "    <tr>\n",
       "      <th>525</th>\n",
       "      <td>x526</td>\n",
       "      <td>L</td>\n",
       "      <td>-49.0</td>\n",
       "      <td>1500000.00</td>\n",
       "      <td>5</td>\n",
       "      <td>345000.00</td>\n",
       "      <td>100</td>\n",
       "      <td>301</td>\n",
       "      <td>6000.0</td>\n",
       "      <td>1</td>\n",
       "      <td>874</td>\n",
       "      <td>0</td>\n",
       "      <td>1500000.00</td>\n",
       "      <td>0.00</td>\n",
       "      <td>0.00</td>\n",
       "      <td>LANCAR</td>\n",
       "    </tr>\n",
       "    <tr>\n",
       "      <th>622</th>\n",
       "      <td>x623</td>\n",
       "      <td>L</td>\n",
       "      <td>-7162.0</td>\n",
       "      <td>750000.00</td>\n",
       "      <td>8</td>\n",
       "      <td>105000.00</td>\n",
       "      <td>100</td>\n",
       "      <td>301</td>\n",
       "      <td>6000.0</td>\n",
       "      <td>2</td>\n",
       "      <td>874</td>\n",
       "      <td>0</td>\n",
       "      <td>750000.00</td>\n",
       "      <td>750000.00</td>\n",
       "      <td>90000.00</td>\n",
       "      <td>MACET</td>\n",
       "    </tr>\n",
       "    <tr>\n",
       "      <th>723</th>\n",
       "      <td>x724</td>\n",
       "      <td>L</td>\n",
       "      <td>NaN</td>\n",
       "      <td>632728.00</td>\n",
       "      <td>11</td>\n",
       "      <td>62727.86</td>\n",
       "      <td>100</td>\n",
       "      <td>301</td>\n",
       "      <td>6000.0</td>\n",
       "      <td>2</td>\n",
       "      <td>874</td>\n",
       "      <td>0</td>\n",
       "      <td>632728.00</td>\n",
       "      <td>632728.00</td>\n",
       "      <td>57277.06</td>\n",
       "      <td>MACET</td>\n",
       "    </tr>\n",
       "  </tbody>\n",
       "</table>\n",
       "<p>766 rows × 16 columns</p>\n",
       "</div>"
      ],
      "text/plain": [
       "    nama_nasabah jenis_kelamin    umur  jml_pinjaman  jkw  \\\n",
       "423         x424             L  1043.0     686667.34    3   \n",
       "571         x572             L    80.0     940000.00   47   \n",
       "526         x527             P    76.0    2000000.00    6   \n",
       "413         x414             L    68.0     769167.00   12   \n",
       "67           x68             L    67.0     875000.00   17   \n",
       "..           ...           ...     ...           ...  ...   \n",
       "560         x561             L   -48.0     330000.00    8   \n",
       "361         x362             P   -48.0     500000.00    8   \n",
       "525         x526             L   -49.0    1500000.00    5   \n",
       "622         x623             L -7162.0     750000.00    8   \n",
       "723         x724             L     NaN     632728.00   11   \n",
       "\n",
       "     jml_angsuran_per_bulan  type_pinjaman  jenis_pinjaman  bi_sektor_ekonomi  \\\n",
       "423                62222.68            100             301             6000.0   \n",
       "571                20000.00            100             305             6000.0   \n",
       "526               393333.35            100             301             6000.0   \n",
       "413                70347.25            100             301             6000.0   \n",
       "67                 54529.78            100             301             6000.0   \n",
       "..                      ...            ...             ...                ...   \n",
       "560                41250.00            100             303             6000.0   \n",
       "361                67500.00            100             301             6000.0   \n",
       "525               345000.00            100             301             6000.0   \n",
       "622               105000.00            100             301             6000.0   \n",
       "723                62727.86            100             301             6000.0   \n",
       "\n",
       "     col  bi_golongan_debitur  bi_gol_penjamin  saldo_nominatif  \\\n",
       "423    1                  874              875        186667.34   \n",
       "571    1                  874              875        940000.00   \n",
       "526    1                  874                0       2000000.00   \n",
       "413    1                  874              875        744167.00   \n",
       "67     1                  874                0        875000.00   \n",
       "..   ...                  ...              ...              ...   \n",
       "560    1                  874                0        330000.00   \n",
       "361    1                  874                0        500000.00   \n",
       "525    1                  874                0       1500000.00   \n",
       "622    2                  874                0        750000.00   \n",
       "723    2                  874                0        632728.00   \n",
       "\n",
       "     tunggakan_pokok  tunggakan_bunga status kredit  \n",
       "423        186667.34             0.00         MACET  \n",
       "571        240000.00             0.00         MACET  \n",
       "526             0.00             0.00        LANCAR  \n",
       "413        603472.50             0.00         MACET  \n",
       "67         566176.38         33649.00         MACET  \n",
       "..               ...              ...           ...  \n",
       "560         82500.00             0.00         MACET  \n",
       "361         62500.00          5000.00        LANCAR  \n",
       "525             0.00             0.00        LANCAR  \n",
       "622        750000.00         90000.00         MACET  \n",
       "723        632728.00         57277.06         MACET  \n",
       "\n",
       "[766 rows x 16 columns]"
      ]
     },
     "execution_count": 194,
     "metadata": {},
     "output_type": "execute_result"
    }
   ],
   "source": [
    "#mengurutkan berdasarkan umur\n",
    "df.sort_values(by='umur', ascending=False)"
   ]
  },
  {
   "cell_type": "code",
   "execution_count": 196,
   "id": "578db23e",
   "metadata": {
    "scrolled": true
   },
   "outputs": [
    {
     "data": {
      "text/html": [
       "<div>\n",
       "<style scoped>\n",
       "    .dataframe tbody tr th:only-of-type {\n",
       "        vertical-align: middle;\n",
       "    }\n",
       "\n",
       "    .dataframe tbody tr th {\n",
       "        vertical-align: top;\n",
       "    }\n",
       "\n",
       "    .dataframe thead th {\n",
       "        text-align: right;\n",
       "    }\n",
       "</style>\n",
       "<table border=\"1\" class=\"dataframe\">\n",
       "  <thead>\n",
       "    <tr style=\"text-align: right;\">\n",
       "      <th></th>\n",
       "      <th>nama_nasabah</th>\n",
       "      <th>jenis_kelamin</th>\n",
       "      <th>umur</th>\n",
       "      <th>jml_pinjaman</th>\n",
       "      <th>jkw</th>\n",
       "      <th>jml_angsuran_per_bulan</th>\n",
       "      <th>type_pinjaman</th>\n",
       "      <th>jenis_pinjaman</th>\n",
       "      <th>bi_sektor_ekonomi</th>\n",
       "      <th>col</th>\n",
       "      <th>bi_golongan_debitur</th>\n",
       "      <th>bi_gol_penjamin</th>\n",
       "      <th>saldo_nominatif</th>\n",
       "      <th>tunggakan_pokok</th>\n",
       "      <th>tunggakan_bunga</th>\n",
       "      <th>status kredit</th>\n",
       "    </tr>\n",
       "  </thead>\n",
       "  <tbody>\n",
       "    <tr>\n",
       "      <th>12</th>\n",
       "      <td>x13</td>\n",
       "      <td>L</td>\n",
       "      <td>35.0</td>\n",
       "      <td>2.286550e+08</td>\n",
       "      <td>33</td>\n",
       "      <td>7495303.73</td>\n",
       "      <td>100</td>\n",
       "      <td>301</td>\n",
       "      <td>6000.0</td>\n",
       "      <td>1</td>\n",
       "      <td>874</td>\n",
       "      <td>875</td>\n",
       "      <td>2.094041e+08</td>\n",
       "      <td>91612122.24</td>\n",
       "      <td>7362732.0</td>\n",
       "      <td>MACET</td>\n",
       "    </tr>\n",
       "    <tr>\n",
       "      <th>657</th>\n",
       "      <td>x658</td>\n",
       "      <td>L</td>\n",
       "      <td>40.0</td>\n",
       "      <td>1.000000e+08</td>\n",
       "      <td>20</td>\n",
       "      <td>0.00</td>\n",
       "      <td>100</td>\n",
       "      <td>301</td>\n",
       "      <td>6000.0</td>\n",
       "      <td>2</td>\n",
       "      <td>874</td>\n",
       "      <td>875</td>\n",
       "      <td>6.200000e+07</td>\n",
       "      <td>57000000.00</td>\n",
       "      <td>11000000.0</td>\n",
       "      <td>MACET</td>\n",
       "    </tr>\n",
       "    <tr>\n",
       "      <th>430</th>\n",
       "      <td>x431</td>\n",
       "      <td>L</td>\n",
       "      <td>43.0</td>\n",
       "      <td>8.000000e+07</td>\n",
       "      <td>48</td>\n",
       "      <td>2004166.98</td>\n",
       "      <td>100</td>\n",
       "      <td>301</td>\n",
       "      <td>6000.0</td>\n",
       "      <td>1</td>\n",
       "      <td>874</td>\n",
       "      <td>800</td>\n",
       "      <td>8.000000e+07</td>\n",
       "      <td>26666666.56</td>\n",
       "      <td>5400000.0</td>\n",
       "      <td>MACET</td>\n",
       "    </tr>\n",
       "    <tr>\n",
       "      <th>212</th>\n",
       "      <td>x213</td>\n",
       "      <td>L</td>\n",
       "      <td>2.0</td>\n",
       "      <td>4.250000e+07</td>\n",
       "      <td>25</td>\n",
       "      <td>2166000.00</td>\n",
       "      <td>100</td>\n",
       "      <td>301</td>\n",
       "      <td>6000.0</td>\n",
       "      <td>1</td>\n",
       "      <td>874</td>\n",
       "      <td>875</td>\n",
       "      <td>4.150000e+07</td>\n",
       "      <td>26200000.00</td>\n",
       "      <td>6064000.0</td>\n",
       "      <td>MACET</td>\n",
       "    </tr>\n",
       "    <tr>\n",
       "      <th>277</th>\n",
       "      <td>x278</td>\n",
       "      <td>L</td>\n",
       "      <td>40.0</td>\n",
       "      <td>4.000000e+07</td>\n",
       "      <td>40</td>\n",
       "      <td>0.00</td>\n",
       "      <td>100</td>\n",
       "      <td>301</td>\n",
       "      <td>6000.0</td>\n",
       "      <td>1</td>\n",
       "      <td>874</td>\n",
       "      <td>875</td>\n",
       "      <td>1.000000e+07</td>\n",
       "      <td>0.00</td>\n",
       "      <td>0.0</td>\n",
       "      <td>LANCAR</td>\n",
       "    </tr>\n",
       "    <tr>\n",
       "      <th>...</th>\n",
       "      <td>...</td>\n",
       "      <td>...</td>\n",
       "      <td>...</td>\n",
       "      <td>...</td>\n",
       "      <td>...</td>\n",
       "      <td>...</td>\n",
       "      <td>...</td>\n",
       "      <td>...</td>\n",
       "      <td>...</td>\n",
       "      <td>...</td>\n",
       "      <td>...</td>\n",
       "      <td>...</td>\n",
       "      <td>...</td>\n",
       "      <td>...</td>\n",
       "      <td>...</td>\n",
       "      <td>...</td>\n",
       "    </tr>\n",
       "    <tr>\n",
       "      <th>669</th>\n",
       "      <td>x670</td>\n",
       "      <td>P</td>\n",
       "      <td>48.0</td>\n",
       "      <td>1.000000e+05</td>\n",
       "      <td>10</td>\n",
       "      <td>11500.00</td>\n",
       "      <td>100</td>\n",
       "      <td>301</td>\n",
       "      <td>6000.0</td>\n",
       "      <td>2</td>\n",
       "      <td>874</td>\n",
       "      <td>800</td>\n",
       "      <td>1.150000e+05</td>\n",
       "      <td>115000.00</td>\n",
       "      <td>0.0</td>\n",
       "      <td>MACET</td>\n",
       "    </tr>\n",
       "    <tr>\n",
       "      <th>313</th>\n",
       "      <td>x314</td>\n",
       "      <td>P</td>\n",
       "      <td>37.0</td>\n",
       "      <td>9.375000e+04</td>\n",
       "      <td>1</td>\n",
       "      <td>105000.00</td>\n",
       "      <td>100</td>\n",
       "      <td>301</td>\n",
       "      <td>6000.0</td>\n",
       "      <td>1</td>\n",
       "      <td>874</td>\n",
       "      <td>0</td>\n",
       "      <td>9.375000e+04</td>\n",
       "      <td>93750.00</td>\n",
       "      <td>11250.0</td>\n",
       "      <td>MACET</td>\n",
       "    </tr>\n",
       "    <tr>\n",
       "      <th>33</th>\n",
       "      <td>x34</td>\n",
       "      <td>P</td>\n",
       "      <td>58.0</td>\n",
       "      <td>9.000000e+04</td>\n",
       "      <td>5</td>\n",
       "      <td>18000.00</td>\n",
       "      <td>100</td>\n",
       "      <td>301</td>\n",
       "      <td>6000.0</td>\n",
       "      <td>1</td>\n",
       "      <td>874</td>\n",
       "      <td>875</td>\n",
       "      <td>9.000000e+04</td>\n",
       "      <td>36000.00</td>\n",
       "      <td>0.0</td>\n",
       "      <td>MACET</td>\n",
       "    </tr>\n",
       "    <tr>\n",
       "      <th>18</th>\n",
       "      <td>x19</td>\n",
       "      <td>P</td>\n",
       "      <td>29.0</td>\n",
       "      <td>8.333700e+04</td>\n",
       "      <td>8</td>\n",
       "      <td>12812.20</td>\n",
       "      <td>100</td>\n",
       "      <td>301</td>\n",
       "      <td>6000.0</td>\n",
       "      <td>1</td>\n",
       "      <td>874</td>\n",
       "      <td>875</td>\n",
       "      <td>1.024970e+05</td>\n",
       "      <td>102497.04</td>\n",
       "      <td>0.0</td>\n",
       "      <td>MACET</td>\n",
       "    </tr>\n",
       "    <tr>\n",
       "      <th>684</th>\n",
       "      <td>x685</td>\n",
       "      <td>P</td>\n",
       "      <td>44.0</td>\n",
       "      <td>8.333333e+04</td>\n",
       "      <td>1</td>\n",
       "      <td>90833.33</td>\n",
       "      <td>100</td>\n",
       "      <td>301</td>\n",
       "      <td>6000.0</td>\n",
       "      <td>2</td>\n",
       "      <td>874</td>\n",
       "      <td>0</td>\n",
       "      <td>8.333333e+04</td>\n",
       "      <td>83333.33</td>\n",
       "      <td>7500.0</td>\n",
       "      <td>MACET</td>\n",
       "    </tr>\n",
       "  </tbody>\n",
       "</table>\n",
       "<p>766 rows × 16 columns</p>\n",
       "</div>"
      ],
      "text/plain": [
       "    nama_nasabah jenis_kelamin  umur  jml_pinjaman  jkw  \\\n",
       "12           x13             L  35.0  2.286550e+08   33   \n",
       "657         x658             L  40.0  1.000000e+08   20   \n",
       "430         x431             L  43.0  8.000000e+07   48   \n",
       "212         x213             L   2.0  4.250000e+07   25   \n",
       "277         x278             L  40.0  4.000000e+07   40   \n",
       "..           ...           ...   ...           ...  ...   \n",
       "669         x670             P  48.0  1.000000e+05   10   \n",
       "313         x314             P  37.0  9.375000e+04    1   \n",
       "33           x34             P  58.0  9.000000e+04    5   \n",
       "18           x19             P  29.0  8.333700e+04    8   \n",
       "684         x685             P  44.0  8.333333e+04    1   \n",
       "\n",
       "     jml_angsuran_per_bulan  type_pinjaman  jenis_pinjaman  bi_sektor_ekonomi  \\\n",
       "12               7495303.73            100             301             6000.0   \n",
       "657                    0.00            100             301             6000.0   \n",
       "430              2004166.98            100             301             6000.0   \n",
       "212              2166000.00            100             301             6000.0   \n",
       "277                    0.00            100             301             6000.0   \n",
       "..                      ...            ...             ...                ...   \n",
       "669                11500.00            100             301             6000.0   \n",
       "313               105000.00            100             301             6000.0   \n",
       "33                 18000.00            100             301             6000.0   \n",
       "18                 12812.20            100             301             6000.0   \n",
       "684                90833.33            100             301             6000.0   \n",
       "\n",
       "     col  bi_golongan_debitur  bi_gol_penjamin  saldo_nominatif  \\\n",
       "12     1                  874              875     2.094041e+08   \n",
       "657    2                  874              875     6.200000e+07   \n",
       "430    1                  874              800     8.000000e+07   \n",
       "212    1                  874              875     4.150000e+07   \n",
       "277    1                  874              875     1.000000e+07   \n",
       "..   ...                  ...              ...              ...   \n",
       "669    2                  874              800     1.150000e+05   \n",
       "313    1                  874                0     9.375000e+04   \n",
       "33     1                  874              875     9.000000e+04   \n",
       "18     1                  874              875     1.024970e+05   \n",
       "684    2                  874                0     8.333333e+04   \n",
       "\n",
       "     tunggakan_pokok  tunggakan_bunga status kredit  \n",
       "12       91612122.24        7362732.0         MACET  \n",
       "657      57000000.00       11000000.0         MACET  \n",
       "430      26666666.56        5400000.0         MACET  \n",
       "212      26200000.00        6064000.0         MACET  \n",
       "277             0.00              0.0        LANCAR  \n",
       "..               ...              ...           ...  \n",
       "669        115000.00              0.0         MACET  \n",
       "313         93750.00          11250.0         MACET  \n",
       "33          36000.00              0.0         MACET  \n",
       "18         102497.04              0.0         MACET  \n",
       "684         83333.33           7500.0         MACET  \n",
       "\n",
       "[766 rows x 16 columns]"
      ]
     },
     "execution_count": 196,
     "metadata": {},
     "output_type": "execute_result"
    }
   ],
   "source": [
    "#mengurutkan berdasarkan beberapa kolom\n",
    "df.sort_values(by=['jml_pinjaman', 'jml_angsuran_per_bulan'], ascending=[False, True])"
   ]
  },
  {
   "cell_type": "code",
   "execution_count": 201,
   "id": "7a903f5d",
   "metadata": {},
   "outputs": [],
   "source": [
    "#mengubah nama kolom\n",
    "df = df.rename(columns={\n",
    "    'nama_nasabah': 'nama',\n",
    "    'jml_pinjaman': 'jumlah pinjaman',\n",
    "})"
   ]
  },
  {
   "cell_type": "code",
   "execution_count": 204,
   "id": "b5a6d8ec",
   "metadata": {
    "scrolled": true
   },
   "outputs": [
    {
     "data": {
      "text/html": [
       "<div>\n",
       "<style scoped>\n",
       "    .dataframe tbody tr th:only-of-type {\n",
       "        vertical-align: middle;\n",
       "    }\n",
       "\n",
       "    .dataframe tbody tr th {\n",
       "        vertical-align: top;\n",
       "    }\n",
       "\n",
       "    .dataframe thead th {\n",
       "        text-align: right;\n",
       "    }\n",
       "</style>\n",
       "<table border=\"1\" class=\"dataframe\">\n",
       "  <thead>\n",
       "    <tr style=\"text-align: right;\">\n",
       "      <th></th>\n",
       "      <th>nama</th>\n",
       "      <th>jenis_kelamin</th>\n",
       "      <th>umur</th>\n",
       "      <th>jumlah pinjaman</th>\n",
       "      <th>jkw</th>\n",
       "      <th>jml_angsuran_per_bulan</th>\n",
       "      <th>type_pinjaman</th>\n",
       "      <th>jenis_pinjaman</th>\n",
       "      <th>bi_sektor_ekonomi</th>\n",
       "      <th>bi_gol_penjamin</th>\n",
       "      <th>saldo_nominatif</th>\n",
       "      <th>tunggakan_pokok</th>\n",
       "      <th>tunggakan_bunga</th>\n",
       "      <th>status kredit</th>\n",
       "    </tr>\n",
       "  </thead>\n",
       "  <tbody>\n",
       "    <tr>\n",
       "      <th>0</th>\n",
       "      <td>x1</td>\n",
       "      <td>P</td>\n",
       "      <td>40.0</td>\n",
       "      <td>345000.0</td>\n",
       "      <td>1</td>\n",
       "      <td>345000.00</td>\n",
       "      <td>100</td>\n",
       "      <td>301</td>\n",
       "      <td>6000.0</td>\n",
       "      <td>875</td>\n",
       "      <td>345000.0</td>\n",
       "      <td>345000.00</td>\n",
       "      <td>0.0</td>\n",
       "      <td>MACET</td>\n",
       "    </tr>\n",
       "    <tr>\n",
       "      <th>1</th>\n",
       "      <td>x2</td>\n",
       "      <td>L</td>\n",
       "      <td>31.0</td>\n",
       "      <td>350000.0</td>\n",
       "      <td>7</td>\n",
       "      <td>55716.00</td>\n",
       "      <td>100</td>\n",
       "      <td>301</td>\n",
       "      <td>6000.0</td>\n",
       "      <td>875</td>\n",
       "      <td>390000.0</td>\n",
       "      <td>111428.00</td>\n",
       "      <td>0.0</td>\n",
       "      <td>MACET</td>\n",
       "    </tr>\n",
       "    <tr>\n",
       "      <th>2</th>\n",
       "      <td>x3</td>\n",
       "      <td>L</td>\n",
       "      <td>37.0</td>\n",
       "      <td>649926.0</td>\n",
       "      <td>6</td>\n",
       "      <td>108321.00</td>\n",
       "      <td>100</td>\n",
       "      <td>301</td>\n",
       "      <td>6000.0</td>\n",
       "      <td>875</td>\n",
       "      <td>649926.0</td>\n",
       "      <td>216642.00</td>\n",
       "      <td>0.0</td>\n",
       "      <td>MACET</td>\n",
       "    </tr>\n",
       "    <tr>\n",
       "      <th>3</th>\n",
       "      <td>x4</td>\n",
       "      <td>P</td>\n",
       "      <td>2.0</td>\n",
       "      <td>459168.0</td>\n",
       "      <td>12</td>\n",
       "      <td>38264.00</td>\n",
       "      <td>100</td>\n",
       "      <td>301</td>\n",
       "      <td>6000.0</td>\n",
       "      <td>875</td>\n",
       "      <td>459168.0</td>\n",
       "      <td>382640.00</td>\n",
       "      <td>0.0</td>\n",
       "      <td>MACET</td>\n",
       "    </tr>\n",
       "    <tr>\n",
       "      <th>4</th>\n",
       "      <td>x5</td>\n",
       "      <td>P</td>\n",
       "      <td>34.0</td>\n",
       "      <td>3055499.0</td>\n",
       "      <td>8</td>\n",
       "      <td>381937.41</td>\n",
       "      <td>100</td>\n",
       "      <td>301</td>\n",
       "      <td>6000.0</td>\n",
       "      <td>875</td>\n",
       "      <td>3055499.0</td>\n",
       "      <td>1527749.48</td>\n",
       "      <td>0.0</td>\n",
       "      <td>MACET</td>\n",
       "    </tr>\n",
       "    <tr>\n",
       "      <th>...</th>\n",
       "      <td>...</td>\n",
       "      <td>...</td>\n",
       "      <td>...</td>\n",
       "      <td>...</td>\n",
       "      <td>...</td>\n",
       "      <td>...</td>\n",
       "      <td>...</td>\n",
       "      <td>...</td>\n",
       "      <td>...</td>\n",
       "      <td>...</td>\n",
       "      <td>...</td>\n",
       "      <td>...</td>\n",
       "      <td>...</td>\n",
       "      <td>...</td>\n",
       "    </tr>\n",
       "    <tr>\n",
       "      <th>761</th>\n",
       "      <td>x762</td>\n",
       "      <td>L</td>\n",
       "      <td>38.0</td>\n",
       "      <td>1000000.0</td>\n",
       "      <td>16</td>\n",
       "      <td>70000.00</td>\n",
       "      <td>100</td>\n",
       "      <td>301</td>\n",
       "      <td>6000.0</td>\n",
       "      <td>0</td>\n",
       "      <td>812500.0</td>\n",
       "      <td>812500.00</td>\n",
       "      <td>97500.0</td>\n",
       "      <td>MACET</td>\n",
       "    </tr>\n",
       "    <tr>\n",
       "      <th>762</th>\n",
       "      <td>x763</td>\n",
       "      <td>P</td>\n",
       "      <td>36.0</td>\n",
       "      <td>1000000.0</td>\n",
       "      <td>12</td>\n",
       "      <td>90833.37</td>\n",
       "      <td>100</td>\n",
       "      <td>301</td>\n",
       "      <td>6000.0</td>\n",
       "      <td>0</td>\n",
       "      <td>429000.0</td>\n",
       "      <td>429000.00</td>\n",
       "      <td>45000.0</td>\n",
       "      <td>MACET</td>\n",
       "    </tr>\n",
       "    <tr>\n",
       "      <th>763</th>\n",
       "      <td>x764</td>\n",
       "      <td>L</td>\n",
       "      <td>28.0</td>\n",
       "      <td>2000000.0</td>\n",
       "      <td>10</td>\n",
       "      <td>260000.00</td>\n",
       "      <td>100</td>\n",
       "      <td>301</td>\n",
       "      <td>6000.0</td>\n",
       "      <td>0</td>\n",
       "      <td>600000.0</td>\n",
       "      <td>600000.00</td>\n",
       "      <td>180000.0</td>\n",
       "      <td>MACET</td>\n",
       "    </tr>\n",
       "    <tr>\n",
       "      <th>764</th>\n",
       "      <td>x765</td>\n",
       "      <td>P</td>\n",
       "      <td>31.0</td>\n",
       "      <td>1312500.0</td>\n",
       "      <td>7</td>\n",
       "      <td>198750.00</td>\n",
       "      <td>100</td>\n",
       "      <td>301</td>\n",
       "      <td>6000.0</td>\n",
       "      <td>0</td>\n",
       "      <td>1312500.0</td>\n",
       "      <td>1312500.00</td>\n",
       "      <td>78750.0</td>\n",
       "      <td>MACET</td>\n",
       "    </tr>\n",
       "    <tr>\n",
       "      <th>765</th>\n",
       "      <td>x766</td>\n",
       "      <td>P</td>\n",
       "      <td>36.0</td>\n",
       "      <td>2000000.0</td>\n",
       "      <td>4</td>\n",
       "      <td>550000.00</td>\n",
       "      <td>100</td>\n",
       "      <td>301</td>\n",
       "      <td>6000.0</td>\n",
       "      <td>0</td>\n",
       "      <td>1000000.0</td>\n",
       "      <td>1000000.00</td>\n",
       "      <td>100000.0</td>\n",
       "      <td>MACET</td>\n",
       "    </tr>\n",
       "  </tbody>\n",
       "</table>\n",
       "<p>766 rows × 14 columns</p>\n",
       "</div>"
      ],
      "text/plain": [
       "     nama jenis_kelamin  umur  jumlah pinjaman  jkw  jml_angsuran_per_bulan  \\\n",
       "0      x1             P  40.0         345000.0    1               345000.00   \n",
       "1      x2             L  31.0         350000.0    7                55716.00   \n",
       "2      x3             L  37.0         649926.0    6               108321.00   \n",
       "3      x4             P   2.0         459168.0   12                38264.00   \n",
       "4      x5             P  34.0        3055499.0    8               381937.41   \n",
       "..    ...           ...   ...              ...  ...                     ...   \n",
       "761  x762             L  38.0        1000000.0   16                70000.00   \n",
       "762  x763             P  36.0        1000000.0   12                90833.37   \n",
       "763  x764             L  28.0        2000000.0   10               260000.00   \n",
       "764  x765             P  31.0        1312500.0    7               198750.00   \n",
       "765  x766             P  36.0        2000000.0    4               550000.00   \n",
       "\n",
       "     type_pinjaman  jenis_pinjaman  bi_sektor_ekonomi  bi_gol_penjamin  \\\n",
       "0              100             301             6000.0              875   \n",
       "1              100             301             6000.0              875   \n",
       "2              100             301             6000.0              875   \n",
       "3              100             301             6000.0              875   \n",
       "4              100             301             6000.0              875   \n",
       "..             ...             ...                ...              ...   \n",
       "761            100             301             6000.0                0   \n",
       "762            100             301             6000.0                0   \n",
       "763            100             301             6000.0                0   \n",
       "764            100             301             6000.0                0   \n",
       "765            100             301             6000.0                0   \n",
       "\n",
       "     saldo_nominatif  tunggakan_pokok  tunggakan_bunga status kredit  \n",
       "0           345000.0        345000.00              0.0         MACET  \n",
       "1           390000.0        111428.00              0.0         MACET  \n",
       "2           649926.0        216642.00              0.0         MACET  \n",
       "3           459168.0        382640.00              0.0         MACET  \n",
       "4          3055499.0       1527749.48              0.0         MACET  \n",
       "..               ...              ...              ...           ...  \n",
       "761         812500.0        812500.00          97500.0         MACET  \n",
       "762         429000.0        429000.00          45000.0         MACET  \n",
       "763         600000.0        600000.00         180000.0         MACET  \n",
       "764        1312500.0       1312500.00          78750.0         MACET  \n",
       "765        1000000.0       1000000.00         100000.0         MACET  \n",
       "\n",
       "[766 rows x 14 columns]"
      ]
     },
     "execution_count": 204,
     "metadata": {},
     "output_type": "execute_result"
    }
   ],
   "source": [
    "df.drop(['col', 'bi_golongan_debitur'], axis=1)"
   ]
  },
  {
   "cell_type": "code",
   "execution_count": 210,
   "id": "0fbbd267",
   "metadata": {},
   "outputs": [
    {
     "data": {
      "text/html": [
       "<div>\n",
       "<style scoped>\n",
       "    .dataframe tbody tr th:only-of-type {\n",
       "        vertical-align: middle;\n",
       "    }\n",
       "\n",
       "    .dataframe tbody tr th {\n",
       "        vertical-align: top;\n",
       "    }\n",
       "\n",
       "    .dataframe thead th {\n",
       "        text-align: right;\n",
       "    }\n",
       "</style>\n",
       "<table border=\"1\" class=\"dataframe\">\n",
       "  <thead>\n",
       "    <tr style=\"text-align: right;\">\n",
       "      <th></th>\n",
       "      <th>nama</th>\n",
       "      <th>jenis_kelamin</th>\n",
       "      <th>umur</th>\n",
       "      <th>jumlah pinjaman</th>\n",
       "      <th>jkw</th>\n",
       "      <th>jml_angsuran_per_bulan</th>\n",
       "      <th>type_pinjaman</th>\n",
       "      <th>jenis_pinjaman</th>\n",
       "      <th>bi_sektor_ekonomi</th>\n",
       "      <th>col</th>\n",
       "      <th>bi_golongan_debitur</th>\n",
       "      <th>bi_gol_penjamin</th>\n",
       "      <th>saldo_nominatif</th>\n",
       "      <th>tunggakan_pokok</th>\n",
       "      <th>tunggakan_bunga</th>\n",
       "      <th>status kredit</th>\n",
       "    </tr>\n",
       "  </thead>\n",
       "  <tbody>\n",
       "    <tr>\n",
       "      <th>0</th>\n",
       "      <td>x1</td>\n",
       "      <td>P</td>\n",
       "      <td>40.0</td>\n",
       "      <td>345000.0</td>\n",
       "      <td>1</td>\n",
       "      <td>345000.0</td>\n",
       "      <td>100</td>\n",
       "      <td>301</td>\n",
       "      <td>6000.0</td>\n",
       "      <td>1</td>\n",
       "      <td>874</td>\n",
       "      <td>875</td>\n",
       "      <td>345000.0</td>\n",
       "      <td>345000.0</td>\n",
       "      <td>0.0</td>\n",
       "      <td>MACET</td>\n",
       "    </tr>\n",
       "    <tr>\n",
       "      <th>1</th>\n",
       "      <td>x2</td>\n",
       "      <td>L</td>\n",
       "      <td>31.0</td>\n",
       "      <td>350000.0</td>\n",
       "      <td>7</td>\n",
       "      <td>55716.0</td>\n",
       "      <td>100</td>\n",
       "      <td>301</td>\n",
       "      <td>6000.0</td>\n",
       "      <td>1</td>\n",
       "      <td>874</td>\n",
       "      <td>875</td>\n",
       "      <td>390000.0</td>\n",
       "      <td>111428.0</td>\n",
       "      <td>0.0</td>\n",
       "      <td>MACET</td>\n",
       "    </tr>\n",
       "    <tr>\n",
       "      <th>2</th>\n",
       "      <td>x3</td>\n",
       "      <td>L</td>\n",
       "      <td>37.0</td>\n",
       "      <td>649926.0</td>\n",
       "      <td>6</td>\n",
       "      <td>108321.0</td>\n",
       "      <td>100</td>\n",
       "      <td>301</td>\n",
       "      <td>6000.0</td>\n",
       "      <td>1</td>\n",
       "      <td>874</td>\n",
       "      <td>875</td>\n",
       "      <td>649926.0</td>\n",
       "      <td>216642.0</td>\n",
       "      <td>0.0</td>\n",
       "      <td>MACET</td>\n",
       "    </tr>\n",
       "  </tbody>\n",
       "</table>\n",
       "</div>"
      ],
      "text/plain": [
       "  nama jenis_kelamin  umur  jumlah pinjaman  jkw  jml_angsuran_per_bulan  \\\n",
       "0   x1             P  40.0         345000.0    1                345000.0   \n",
       "1   x2             L  31.0         350000.0    7                 55716.0   \n",
       "2   x3             L  37.0         649926.0    6                108321.0   \n",
       "\n",
       "   type_pinjaman  jenis_pinjaman  bi_sektor_ekonomi  col  bi_golongan_debitur  \\\n",
       "0            100             301             6000.0    1                  874   \n",
       "1            100             301             6000.0    1                  874   \n",
       "2            100             301             6000.0    1                  874   \n",
       "\n",
       "   bi_gol_penjamin  saldo_nominatif  tunggakan_pokok  tunggakan_bunga  \\\n",
       "0              875         345000.0         345000.0              0.0   \n",
       "1              875         390000.0         111428.0              0.0   \n",
       "2              875         649926.0         216642.0              0.0   \n",
       "\n",
       "  status kredit  \n",
       "0         MACET  \n",
       "1         MACET  \n",
       "2         MACET  "
      ]
     },
     "execution_count": 210,
     "metadata": {},
     "output_type": "execute_result"
    }
   ],
   "source": [
    "df.head(3)#n rows pertama"
   ]
  },
  {
   "cell_type": "code",
   "execution_count": 211,
   "id": "4c10202b",
   "metadata": {},
   "outputs": [
    {
     "data": {
      "text/html": [
       "<div>\n",
       "<style scoped>\n",
       "    .dataframe tbody tr th:only-of-type {\n",
       "        vertical-align: middle;\n",
       "    }\n",
       "\n",
       "    .dataframe tbody tr th {\n",
       "        vertical-align: top;\n",
       "    }\n",
       "\n",
       "    .dataframe thead th {\n",
       "        text-align: right;\n",
       "    }\n",
       "</style>\n",
       "<table border=\"1\" class=\"dataframe\">\n",
       "  <thead>\n",
       "    <tr style=\"text-align: right;\">\n",
       "      <th></th>\n",
       "      <th>nama</th>\n",
       "      <th>jenis_kelamin</th>\n",
       "      <th>umur</th>\n",
       "      <th>jumlah pinjaman</th>\n",
       "      <th>jkw</th>\n",
       "      <th>jml_angsuran_per_bulan</th>\n",
       "      <th>type_pinjaman</th>\n",
       "      <th>jenis_pinjaman</th>\n",
       "      <th>bi_sektor_ekonomi</th>\n",
       "      <th>col</th>\n",
       "      <th>bi_golongan_debitur</th>\n",
       "      <th>bi_gol_penjamin</th>\n",
       "      <th>saldo_nominatif</th>\n",
       "      <th>tunggakan_pokok</th>\n",
       "      <th>tunggakan_bunga</th>\n",
       "      <th>status kredit</th>\n",
       "    </tr>\n",
       "  </thead>\n",
       "  <tbody>\n",
       "    <tr>\n",
       "      <th>763</th>\n",
       "      <td>x764</td>\n",
       "      <td>L</td>\n",
       "      <td>28.0</td>\n",
       "      <td>2000000.0</td>\n",
       "      <td>10</td>\n",
       "      <td>260000.0</td>\n",
       "      <td>100</td>\n",
       "      <td>301</td>\n",
       "      <td>6000.0</td>\n",
       "      <td>2</td>\n",
       "      <td>874</td>\n",
       "      <td>0</td>\n",
       "      <td>600000.0</td>\n",
       "      <td>600000.0</td>\n",
       "      <td>180000.0</td>\n",
       "      <td>MACET</td>\n",
       "    </tr>\n",
       "    <tr>\n",
       "      <th>764</th>\n",
       "      <td>x765</td>\n",
       "      <td>P</td>\n",
       "      <td>31.0</td>\n",
       "      <td>1312500.0</td>\n",
       "      <td>7</td>\n",
       "      <td>198750.0</td>\n",
       "      <td>100</td>\n",
       "      <td>301</td>\n",
       "      <td>6000.0</td>\n",
       "      <td>2</td>\n",
       "      <td>874</td>\n",
       "      <td>0</td>\n",
       "      <td>1312500.0</td>\n",
       "      <td>1312500.0</td>\n",
       "      <td>78750.0</td>\n",
       "      <td>MACET</td>\n",
       "    </tr>\n",
       "    <tr>\n",
       "      <th>765</th>\n",
       "      <td>x766</td>\n",
       "      <td>P</td>\n",
       "      <td>36.0</td>\n",
       "      <td>2000000.0</td>\n",
       "      <td>4</td>\n",
       "      <td>550000.0</td>\n",
       "      <td>100</td>\n",
       "      <td>301</td>\n",
       "      <td>6000.0</td>\n",
       "      <td>2</td>\n",
       "      <td>874</td>\n",
       "      <td>0</td>\n",
       "      <td>1000000.0</td>\n",
       "      <td>1000000.0</td>\n",
       "      <td>100000.0</td>\n",
       "      <td>MACET</td>\n",
       "    </tr>\n",
       "  </tbody>\n",
       "</table>\n",
       "</div>"
      ],
      "text/plain": [
       "     nama jenis_kelamin  umur  jumlah pinjaman  jkw  jml_angsuran_per_bulan  \\\n",
       "763  x764             L  28.0        2000000.0   10                260000.0   \n",
       "764  x765             P  31.0        1312500.0    7                198750.0   \n",
       "765  x766             P  36.0        2000000.0    4                550000.0   \n",
       "\n",
       "     type_pinjaman  jenis_pinjaman  bi_sektor_ekonomi  col  \\\n",
       "763            100             301             6000.0    2   \n",
       "764            100             301             6000.0    2   \n",
       "765            100             301             6000.0    2   \n",
       "\n",
       "     bi_golongan_debitur  bi_gol_penjamin  saldo_nominatif  tunggakan_pokok  \\\n",
       "763                  874                0         600000.0         600000.0   \n",
       "764                  874                0        1312500.0        1312500.0   \n",
       "765                  874                0        1000000.0        1000000.0   \n",
       "\n",
       "     tunggakan_bunga status kredit  \n",
       "763         180000.0         MACET  \n",
       "764          78750.0         MACET  \n",
       "765         100000.0         MACET  "
      ]
     },
     "execution_count": 211,
     "metadata": {},
     "output_type": "execute_result"
    }
   ],
   "source": [
    "df.tail(3)#nrows terakhir"
   ]
  },
  {
   "cell_type": "code",
   "execution_count": 217,
   "id": "7695fd7e",
   "metadata": {},
   "outputs": [
    {
     "data": {
      "text/html": [
       "<div>\n",
       "<style scoped>\n",
       "    .dataframe tbody tr th:only-of-type {\n",
       "        vertical-align: middle;\n",
       "    }\n",
       "\n",
       "    .dataframe tbody tr th {\n",
       "        vertical-align: top;\n",
       "    }\n",
       "\n",
       "    .dataframe thead th {\n",
       "        text-align: right;\n",
       "    }\n",
       "</style>\n",
       "<table border=\"1\" class=\"dataframe\">\n",
       "  <thead>\n",
       "    <tr style=\"text-align: right;\">\n",
       "      <th></th>\n",
       "      <th>nama</th>\n",
       "      <th>jenis_kelamin</th>\n",
       "      <th>umur</th>\n",
       "      <th>jumlah pinjaman</th>\n",
       "      <th>jkw</th>\n",
       "      <th>jml_angsuran_per_bulan</th>\n",
       "      <th>type_pinjaman</th>\n",
       "      <th>jenis_pinjaman</th>\n",
       "      <th>bi_sektor_ekonomi</th>\n",
       "      <th>col</th>\n",
       "      <th>bi_golongan_debitur</th>\n",
       "      <th>bi_gol_penjamin</th>\n",
       "      <th>saldo_nominatif</th>\n",
       "      <th>tunggakan_pokok</th>\n",
       "      <th>tunggakan_bunga</th>\n",
       "      <th>status kredit</th>\n",
       "    </tr>\n",
       "  </thead>\n",
       "  <tbody>\n",
       "    <tr>\n",
       "      <th>289</th>\n",
       "      <td>x290</td>\n",
       "      <td>L</td>\n",
       "      <td>46.0</td>\n",
       "      <td>264284.0</td>\n",
       "      <td>7</td>\n",
       "      <td>37754.90</td>\n",
       "      <td>100</td>\n",
       "      <td>301</td>\n",
       "      <td>6000.0</td>\n",
       "      <td>1</td>\n",
       "      <td>874</td>\n",
       "      <td>875</td>\n",
       "      <td>264284.00</td>\n",
       "      <td>75509.70</td>\n",
       "      <td>0.0</td>\n",
       "      <td>MACET</td>\n",
       "    </tr>\n",
       "    <tr>\n",
       "      <th>458</th>\n",
       "      <td>x459</td>\n",
       "      <td>L</td>\n",
       "      <td>32.0</td>\n",
       "      <td>1741750.0</td>\n",
       "      <td>20</td>\n",
       "      <td>87087.50</td>\n",
       "      <td>100</td>\n",
       "      <td>301</td>\n",
       "      <td>6000.0</td>\n",
       "      <td>1</td>\n",
       "      <td>874</td>\n",
       "      <td>0</td>\n",
       "      <td>526750.00</td>\n",
       "      <td>0.00</td>\n",
       "      <td>0.0</td>\n",
       "      <td>LANCAR</td>\n",
       "    </tr>\n",
       "    <tr>\n",
       "      <th>180</th>\n",
       "      <td>x181</td>\n",
       "      <td>L</td>\n",
       "      <td>48.0</td>\n",
       "      <td>1600000.0</td>\n",
       "      <td>10</td>\n",
       "      <td>160000.00</td>\n",
       "      <td>100</td>\n",
       "      <td>301</td>\n",
       "      <td>6000.0</td>\n",
       "      <td>1</td>\n",
       "      <td>874</td>\n",
       "      <td>875</td>\n",
       "      <td>1458651.05</td>\n",
       "      <td>498651.05</td>\n",
       "      <td>0.0</td>\n",
       "      <td>MACET</td>\n",
       "    </tr>\n",
       "    <tr>\n",
       "      <th>589</th>\n",
       "      <td>x590</td>\n",
       "      <td>P</td>\n",
       "      <td>29.0</td>\n",
       "      <td>2500000.0</td>\n",
       "      <td>12</td>\n",
       "      <td>208333.37</td>\n",
       "      <td>100</td>\n",
       "      <td>305</td>\n",
       "      <td>6000.0</td>\n",
       "      <td>1</td>\n",
       "      <td>874</td>\n",
       "      <td>0</td>\n",
       "      <td>1033333.34</td>\n",
       "      <td>199999.98</td>\n",
       "      <td>0.0</td>\n",
       "      <td>MACET</td>\n",
       "    </tr>\n",
       "    <tr>\n",
       "      <th>507</th>\n",
       "      <td>x508</td>\n",
       "      <td>P</td>\n",
       "      <td>40.0</td>\n",
       "      <td>500000.0</td>\n",
       "      <td>8</td>\n",
       "      <td>66250.00</td>\n",
       "      <td>100</td>\n",
       "      <td>301</td>\n",
       "      <td>6000.0</td>\n",
       "      <td>1</td>\n",
       "      <td>874</td>\n",
       "      <td>0</td>\n",
       "      <td>437500.00</td>\n",
       "      <td>187500.00</td>\n",
       "      <td>11250.0</td>\n",
       "      <td>MACET</td>\n",
       "    </tr>\n",
       "  </tbody>\n",
       "</table>\n",
       "</div>"
      ],
      "text/plain": [
       "     nama jenis_kelamin  umur  jumlah pinjaman  jkw  jml_angsuran_per_bulan  \\\n",
       "289  x290             L  46.0         264284.0    7                37754.90   \n",
       "458  x459             L  32.0        1741750.0   20                87087.50   \n",
       "180  x181             L  48.0        1600000.0   10               160000.00   \n",
       "589  x590             P  29.0        2500000.0   12               208333.37   \n",
       "507  x508             P  40.0         500000.0    8                66250.00   \n",
       "\n",
       "     type_pinjaman  jenis_pinjaman  bi_sektor_ekonomi  col  \\\n",
       "289            100             301             6000.0    1   \n",
       "458            100             301             6000.0    1   \n",
       "180            100             301             6000.0    1   \n",
       "589            100             305             6000.0    1   \n",
       "507            100             301             6000.0    1   \n",
       "\n",
       "     bi_golongan_debitur  bi_gol_penjamin  saldo_nominatif  tunggakan_pokok  \\\n",
       "289                  874              875        264284.00         75509.70   \n",
       "458                  874                0        526750.00             0.00   \n",
       "180                  874              875       1458651.05        498651.05   \n",
       "589                  874                0       1033333.34        199999.98   \n",
       "507                  874                0        437500.00        187500.00   \n",
       "\n",
       "     tunggakan_bunga status kredit  \n",
       "289              0.0         MACET  \n",
       "458              0.0        LANCAR  \n",
       "180              0.0         MACET  \n",
       "589              0.0         MACET  \n",
       "507          11250.0         MACET  "
      ]
     },
     "execution_count": 217,
     "metadata": {},
     "output_type": "execute_result"
    }
   ],
   "source": [
    "df.sample(5) #mengambil sample"
   ]
  },
  {
   "cell_type": "code",
   "execution_count": 219,
   "id": "49330b7b",
   "metadata": {},
   "outputs": [
    {
     "data": {
      "text/html": [
       "<div>\n",
       "<style scoped>\n",
       "    .dataframe tbody tr th:only-of-type {\n",
       "        vertical-align: middle;\n",
       "    }\n",
       "\n",
       "    .dataframe tbody tr th {\n",
       "        vertical-align: top;\n",
       "    }\n",
       "\n",
       "    .dataframe thead th {\n",
       "        text-align: right;\n",
       "    }\n",
       "</style>\n",
       "<table border=\"1\" class=\"dataframe\">\n",
       "  <thead>\n",
       "    <tr style=\"text-align: right;\">\n",
       "      <th></th>\n",
       "      <th>nama</th>\n",
       "      <th>jenis_kelamin</th>\n",
       "      <th>umur</th>\n",
       "      <th>jumlah pinjaman</th>\n",
       "      <th>jkw</th>\n",
       "      <th>jml_angsuran_per_bulan</th>\n",
       "      <th>type_pinjaman</th>\n",
       "      <th>jenis_pinjaman</th>\n",
       "      <th>bi_sektor_ekonomi</th>\n",
       "      <th>col</th>\n",
       "      <th>bi_golongan_debitur</th>\n",
       "      <th>bi_gol_penjamin</th>\n",
       "      <th>saldo_nominatif</th>\n",
       "      <th>tunggakan_pokok</th>\n",
       "      <th>tunggakan_bunga</th>\n",
       "      <th>status kredit</th>\n",
       "    </tr>\n",
       "  </thead>\n",
       "  <tbody>\n",
       "    <tr>\n",
       "      <th>12</th>\n",
       "      <td>x13</td>\n",
       "      <td>L</td>\n",
       "      <td>35.0</td>\n",
       "      <td>228655000.0</td>\n",
       "      <td>33</td>\n",
       "      <td>7495303.73</td>\n",
       "      <td>100</td>\n",
       "      <td>301</td>\n",
       "      <td>6000.0</td>\n",
       "      <td>1</td>\n",
       "      <td>874</td>\n",
       "      <td>875</td>\n",
       "      <td>209404092.0</td>\n",
       "      <td>91612122.24</td>\n",
       "      <td>7362732.0</td>\n",
       "      <td>MACET</td>\n",
       "    </tr>\n",
       "    <tr>\n",
       "      <th>657</th>\n",
       "      <td>x658</td>\n",
       "      <td>L</td>\n",
       "      <td>40.0</td>\n",
       "      <td>100000000.0</td>\n",
       "      <td>20</td>\n",
       "      <td>0.00</td>\n",
       "      <td>100</td>\n",
       "      <td>301</td>\n",
       "      <td>6000.0</td>\n",
       "      <td>2</td>\n",
       "      <td>874</td>\n",
       "      <td>875</td>\n",
       "      <td>62000000.0</td>\n",
       "      <td>57000000.00</td>\n",
       "      <td>11000000.0</td>\n",
       "      <td>MACET</td>\n",
       "    </tr>\n",
       "    <tr>\n",
       "      <th>430</th>\n",
       "      <td>x431</td>\n",
       "      <td>L</td>\n",
       "      <td>43.0</td>\n",
       "      <td>80000000.0</td>\n",
       "      <td>48</td>\n",
       "      <td>2004166.98</td>\n",
       "      <td>100</td>\n",
       "      <td>301</td>\n",
       "      <td>6000.0</td>\n",
       "      <td>1</td>\n",
       "      <td>874</td>\n",
       "      <td>800</td>\n",
       "      <td>80000000.0</td>\n",
       "      <td>26666666.56</td>\n",
       "      <td>5400000.0</td>\n",
       "      <td>MACET</td>\n",
       "    </tr>\n",
       "  </tbody>\n",
       "</table>\n",
       "</div>"
      ],
      "text/plain": [
       "     nama jenis_kelamin  umur  jumlah pinjaman  jkw  jml_angsuran_per_bulan  \\\n",
       "12    x13             L  35.0      228655000.0   33              7495303.73   \n",
       "657  x658             L  40.0      100000000.0   20                    0.00   \n",
       "430  x431             L  43.0       80000000.0   48              2004166.98   \n",
       "\n",
       "     type_pinjaman  jenis_pinjaman  bi_sektor_ekonomi  col  \\\n",
       "12             100             301             6000.0    1   \n",
       "657            100             301             6000.0    2   \n",
       "430            100             301             6000.0    1   \n",
       "\n",
       "     bi_golongan_debitur  bi_gol_penjamin  saldo_nominatif  tunggakan_pokok  \\\n",
       "12                   874              875      209404092.0      91612122.24   \n",
       "657                  874              875       62000000.0      57000000.00   \n",
       "430                  874              800       80000000.0      26666666.56   \n",
       "\n",
       "     tunggakan_bunga status kredit  \n",
       "12         7362732.0         MACET  \n",
       "657       11000000.0         MACET  \n",
       "430        5400000.0         MACET  "
      ]
     },
     "execution_count": 219,
     "metadata": {},
     "output_type": "execute_result"
    }
   ],
   "source": [
    "df.nlargest(3, 'jumlah pinjaman')"
   ]
  },
  {
   "cell_type": "code",
   "execution_count": 220,
   "id": "8703267a",
   "metadata": {},
   "outputs": [
    {
     "data": {
      "text/html": [
       "<div>\n",
       "<style scoped>\n",
       "    .dataframe tbody tr th:only-of-type {\n",
       "        vertical-align: middle;\n",
       "    }\n",
       "\n",
       "    .dataframe tbody tr th {\n",
       "        vertical-align: top;\n",
       "    }\n",
       "\n",
       "    .dataframe thead th {\n",
       "        text-align: right;\n",
       "    }\n",
       "</style>\n",
       "<table border=\"1\" class=\"dataframe\">\n",
       "  <thead>\n",
       "    <tr style=\"text-align: right;\">\n",
       "      <th></th>\n",
       "      <th>nama</th>\n",
       "      <th>jenis_kelamin</th>\n",
       "      <th>umur</th>\n",
       "      <th>jumlah pinjaman</th>\n",
       "      <th>jkw</th>\n",
       "      <th>jml_angsuran_per_bulan</th>\n",
       "      <th>type_pinjaman</th>\n",
       "      <th>jenis_pinjaman</th>\n",
       "      <th>bi_sektor_ekonomi</th>\n",
       "      <th>col</th>\n",
       "      <th>bi_golongan_debitur</th>\n",
       "      <th>bi_gol_penjamin</th>\n",
       "      <th>saldo_nominatif</th>\n",
       "      <th>tunggakan_pokok</th>\n",
       "      <th>tunggakan_bunga</th>\n",
       "      <th>status kredit</th>\n",
       "    </tr>\n",
       "  </thead>\n",
       "  <tbody>\n",
       "    <tr>\n",
       "      <th>684</th>\n",
       "      <td>x685</td>\n",
       "      <td>P</td>\n",
       "      <td>44.0</td>\n",
       "      <td>83333.33</td>\n",
       "      <td>1</td>\n",
       "      <td>90833.33</td>\n",
       "      <td>100</td>\n",
       "      <td>301</td>\n",
       "      <td>6000.0</td>\n",
       "      <td>2</td>\n",
       "      <td>874</td>\n",
       "      <td>0</td>\n",
       "      <td>83333.33</td>\n",
       "      <td>83333.33</td>\n",
       "      <td>7500.0</td>\n",
       "      <td>MACET</td>\n",
       "    </tr>\n",
       "    <tr>\n",
       "      <th>18</th>\n",
       "      <td>x19</td>\n",
       "      <td>P</td>\n",
       "      <td>29.0</td>\n",
       "      <td>83337.00</td>\n",
       "      <td>8</td>\n",
       "      <td>12812.20</td>\n",
       "      <td>100</td>\n",
       "      <td>301</td>\n",
       "      <td>6000.0</td>\n",
       "      <td>1</td>\n",
       "      <td>874</td>\n",
       "      <td>875</td>\n",
       "      <td>102497.04</td>\n",
       "      <td>102497.04</td>\n",
       "      <td>0.0</td>\n",
       "      <td>MACET</td>\n",
       "    </tr>\n",
       "    <tr>\n",
       "      <th>33</th>\n",
       "      <td>x34</td>\n",
       "      <td>P</td>\n",
       "      <td>58.0</td>\n",
       "      <td>90000.00</td>\n",
       "      <td>5</td>\n",
       "      <td>18000.00</td>\n",
       "      <td>100</td>\n",
       "      <td>301</td>\n",
       "      <td>6000.0</td>\n",
       "      <td>1</td>\n",
       "      <td>874</td>\n",
       "      <td>875</td>\n",
       "      <td>90000.00</td>\n",
       "      <td>36000.00</td>\n",
       "      <td>0.0</td>\n",
       "      <td>MACET</td>\n",
       "    </tr>\n",
       "  </tbody>\n",
       "</table>\n",
       "</div>"
      ],
      "text/plain": [
       "     nama jenis_kelamin  umur  jumlah pinjaman  jkw  jml_angsuran_per_bulan  \\\n",
       "684  x685             P  44.0         83333.33    1                90833.33   \n",
       "18    x19             P  29.0         83337.00    8                12812.20   \n",
       "33    x34             P  58.0         90000.00    5                18000.00   \n",
       "\n",
       "     type_pinjaman  jenis_pinjaman  bi_sektor_ekonomi  col  \\\n",
       "684            100             301             6000.0    2   \n",
       "18             100             301             6000.0    1   \n",
       "33             100             301             6000.0    1   \n",
       "\n",
       "     bi_golongan_debitur  bi_gol_penjamin  saldo_nominatif  tunggakan_pokok  \\\n",
       "684                  874                0         83333.33         83333.33   \n",
       "18                   874              875        102497.04        102497.04   \n",
       "33                   874              875         90000.00         36000.00   \n",
       "\n",
       "     tunggakan_bunga status kredit  \n",
       "684           7500.0         MACET  \n",
       "18               0.0         MACET  \n",
       "33               0.0         MACET  "
      ]
     },
     "execution_count": 220,
     "metadata": {},
     "output_type": "execute_result"
    }
   ],
   "source": [
    "df.nsmallest(3, 'jumlah pinjaman')"
   ]
  },
  {
   "cell_type": "code",
   "execution_count": 222,
   "id": "fad2b7f7",
   "metadata": {},
   "outputs": [
    {
     "data": {
      "text/html": [
       "<div>\n",
       "<style scoped>\n",
       "    .dataframe tbody tr th:only-of-type {\n",
       "        vertical-align: middle;\n",
       "    }\n",
       "\n",
       "    .dataframe tbody tr th {\n",
       "        vertical-align: top;\n",
       "    }\n",
       "\n",
       "    .dataframe thead th {\n",
       "        text-align: right;\n",
       "    }\n",
       "</style>\n",
       "<table border=\"1\" class=\"dataframe\">\n",
       "  <thead>\n",
       "    <tr style=\"text-align: right;\">\n",
       "      <th></th>\n",
       "      <th>nama</th>\n",
       "      <th>jenis_kelamin</th>\n",
       "      <th>umur</th>\n",
       "      <th>jumlah pinjaman</th>\n",
       "      <th>jkw</th>\n",
       "      <th>jml_angsuran_per_bulan</th>\n",
       "      <th>type_pinjaman</th>\n",
       "      <th>jenis_pinjaman</th>\n",
       "      <th>bi_sektor_ekonomi</th>\n",
       "      <th>col</th>\n",
       "      <th>bi_golongan_debitur</th>\n",
       "      <th>bi_gol_penjamin</th>\n",
       "      <th>saldo_nominatif</th>\n",
       "      <th>tunggakan_pokok</th>\n",
       "      <th>tunggakan_bunga</th>\n",
       "      <th>status kredit</th>\n",
       "    </tr>\n",
       "  </thead>\n",
       "  <tbody>\n",
       "    <tr>\n",
       "      <th>0</th>\n",
       "      <td>x1</td>\n",
       "      <td>P</td>\n",
       "      <td>40.0</td>\n",
       "      <td>345000.0</td>\n",
       "      <td>1</td>\n",
       "      <td>345000.00</td>\n",
       "      <td>100</td>\n",
       "      <td>301</td>\n",
       "      <td>6000.0</td>\n",
       "      <td>1</td>\n",
       "      <td>874</td>\n",
       "      <td>875</td>\n",
       "      <td>345000.0</td>\n",
       "      <td>345000.00</td>\n",
       "      <td>0.0</td>\n",
       "      <td>MACET</td>\n",
       "    </tr>\n",
       "    <tr>\n",
       "      <th>3</th>\n",
       "      <td>x4</td>\n",
       "      <td>P</td>\n",
       "      <td>2.0</td>\n",
       "      <td>459168.0</td>\n",
       "      <td>12</td>\n",
       "      <td>38264.00</td>\n",
       "      <td>100</td>\n",
       "      <td>301</td>\n",
       "      <td>6000.0</td>\n",
       "      <td>1</td>\n",
       "      <td>874</td>\n",
       "      <td>875</td>\n",
       "      <td>459168.0</td>\n",
       "      <td>382640.00</td>\n",
       "      <td>0.0</td>\n",
       "      <td>MACET</td>\n",
       "    </tr>\n",
       "    <tr>\n",
       "      <th>4</th>\n",
       "      <td>x5</td>\n",
       "      <td>P</td>\n",
       "      <td>34.0</td>\n",
       "      <td>3055499.0</td>\n",
       "      <td>8</td>\n",
       "      <td>381937.41</td>\n",
       "      <td>100</td>\n",
       "      <td>301</td>\n",
       "      <td>6000.0</td>\n",
       "      <td>1</td>\n",
       "      <td>874</td>\n",
       "      <td>875</td>\n",
       "      <td>3055499.0</td>\n",
       "      <td>1527749.48</td>\n",
       "      <td>0.0</td>\n",
       "      <td>MACET</td>\n",
       "    </tr>\n",
       "    <tr>\n",
       "      <th>11</th>\n",
       "      <td>x12</td>\n",
       "      <td>P</td>\n",
       "      <td>26.0</td>\n",
       "      <td>4071669.0</td>\n",
       "      <td>20</td>\n",
       "      <td>203583.45</td>\n",
       "      <td>100</td>\n",
       "      <td>301</td>\n",
       "      <td>6000.0</td>\n",
       "      <td>1</td>\n",
       "      <td>874</td>\n",
       "      <td>875</td>\n",
       "      <td>3671669.0</td>\n",
       "      <td>1228667.60</td>\n",
       "      <td>0.0</td>\n",
       "      <td>MACET</td>\n",
       "    </tr>\n",
       "    <tr>\n",
       "      <th>15</th>\n",
       "      <td>x16</td>\n",
       "      <td>P</td>\n",
       "      <td>39.0</td>\n",
       "      <td>1640000.0</td>\n",
       "      <td>16</td>\n",
       "      <td>102500.00</td>\n",
       "      <td>100</td>\n",
       "      <td>301</td>\n",
       "      <td>6000.0</td>\n",
       "      <td>1</td>\n",
       "      <td>874</td>\n",
       "      <td>875</td>\n",
       "      <td>1600000.0</td>\n",
       "      <td>985000.00</td>\n",
       "      <td>0.0</td>\n",
       "      <td>MACET</td>\n",
       "    </tr>\n",
       "    <tr>\n",
       "      <th>...</th>\n",
       "      <td>...</td>\n",
       "      <td>...</td>\n",
       "      <td>...</td>\n",
       "      <td>...</td>\n",
       "      <td>...</td>\n",
       "      <td>...</td>\n",
       "      <td>...</td>\n",
       "      <td>...</td>\n",
       "      <td>...</td>\n",
       "      <td>...</td>\n",
       "      <td>...</td>\n",
       "      <td>...</td>\n",
       "      <td>...</td>\n",
       "      <td>...</td>\n",
       "      <td>...</td>\n",
       "      <td>...</td>\n",
       "    </tr>\n",
       "    <tr>\n",
       "      <th>759</th>\n",
       "      <td>x760</td>\n",
       "      <td>P</td>\n",
       "      <td>25.0</td>\n",
       "      <td>1500000.0</td>\n",
       "      <td>100</td>\n",
       "      <td>17250.00</td>\n",
       "      <td>100</td>\n",
       "      <td>301</td>\n",
       "      <td>6000.0</td>\n",
       "      <td>2</td>\n",
       "      <td>874</td>\n",
       "      <td>0</td>\n",
       "      <td>1080000.0</td>\n",
       "      <td>1080000.00</td>\n",
       "      <td>164000.0</td>\n",
       "      <td>MACET</td>\n",
       "    </tr>\n",
       "    <tr>\n",
       "      <th>760</th>\n",
       "      <td>x761</td>\n",
       "      <td>P</td>\n",
       "      <td>24.0</td>\n",
       "      <td>1500000.0</td>\n",
       "      <td>16</td>\n",
       "      <td>105000.00</td>\n",
       "      <td>100</td>\n",
       "      <td>301</td>\n",
       "      <td>6000.0</td>\n",
       "      <td>2</td>\n",
       "      <td>874</td>\n",
       "      <td>0</td>\n",
       "      <td>700000.0</td>\n",
       "      <td>700000.00</td>\n",
       "      <td>90000.0</td>\n",
       "      <td>MACET</td>\n",
       "    </tr>\n",
       "    <tr>\n",
       "      <th>762</th>\n",
       "      <td>x763</td>\n",
       "      <td>P</td>\n",
       "      <td>36.0</td>\n",
       "      <td>1000000.0</td>\n",
       "      <td>12</td>\n",
       "      <td>90833.37</td>\n",
       "      <td>100</td>\n",
       "      <td>301</td>\n",
       "      <td>6000.0</td>\n",
       "      <td>2</td>\n",
       "      <td>874</td>\n",
       "      <td>0</td>\n",
       "      <td>429000.0</td>\n",
       "      <td>429000.00</td>\n",
       "      <td>45000.0</td>\n",
       "      <td>MACET</td>\n",
       "    </tr>\n",
       "    <tr>\n",
       "      <th>764</th>\n",
       "      <td>x765</td>\n",
       "      <td>P</td>\n",
       "      <td>31.0</td>\n",
       "      <td>1312500.0</td>\n",
       "      <td>7</td>\n",
       "      <td>198750.00</td>\n",
       "      <td>100</td>\n",
       "      <td>301</td>\n",
       "      <td>6000.0</td>\n",
       "      <td>2</td>\n",
       "      <td>874</td>\n",
       "      <td>0</td>\n",
       "      <td>1312500.0</td>\n",
       "      <td>1312500.00</td>\n",
       "      <td>78750.0</td>\n",
       "      <td>MACET</td>\n",
       "    </tr>\n",
       "    <tr>\n",
       "      <th>765</th>\n",
       "      <td>x766</td>\n",
       "      <td>P</td>\n",
       "      <td>36.0</td>\n",
       "      <td>2000000.0</td>\n",
       "      <td>4</td>\n",
       "      <td>550000.00</td>\n",
       "      <td>100</td>\n",
       "      <td>301</td>\n",
       "      <td>6000.0</td>\n",
       "      <td>2</td>\n",
       "      <td>874</td>\n",
       "      <td>0</td>\n",
       "      <td>1000000.0</td>\n",
       "      <td>1000000.00</td>\n",
       "      <td>100000.0</td>\n",
       "      <td>MACET</td>\n",
       "    </tr>\n",
       "  </tbody>\n",
       "</table>\n",
       "<p>462 rows × 16 columns</p>\n",
       "</div>"
      ],
      "text/plain": [
       "     nama jenis_kelamin  umur  jumlah pinjaman  jkw  jml_angsuran_per_bulan  \\\n",
       "0      x1             P  40.0         345000.0    1               345000.00   \n",
       "3      x4             P   2.0         459168.0   12                38264.00   \n",
       "4      x5             P  34.0        3055499.0    8               381937.41   \n",
       "11    x12             P  26.0        4071669.0   20               203583.45   \n",
       "15    x16             P  39.0        1640000.0   16               102500.00   \n",
       "..    ...           ...   ...              ...  ...                     ...   \n",
       "759  x760             P  25.0        1500000.0  100                17250.00   \n",
       "760  x761             P  24.0        1500000.0   16               105000.00   \n",
       "762  x763             P  36.0        1000000.0   12                90833.37   \n",
       "764  x765             P  31.0        1312500.0    7               198750.00   \n",
       "765  x766             P  36.0        2000000.0    4               550000.00   \n",
       "\n",
       "     type_pinjaman  jenis_pinjaman  bi_sektor_ekonomi  col  \\\n",
       "0              100             301             6000.0    1   \n",
       "3              100             301             6000.0    1   \n",
       "4              100             301             6000.0    1   \n",
       "11             100             301             6000.0    1   \n",
       "15             100             301             6000.0    1   \n",
       "..             ...             ...                ...  ...   \n",
       "759            100             301             6000.0    2   \n",
       "760            100             301             6000.0    2   \n",
       "762            100             301             6000.0    2   \n",
       "764            100             301             6000.0    2   \n",
       "765            100             301             6000.0    2   \n",
       "\n",
       "     bi_golongan_debitur  bi_gol_penjamin  saldo_nominatif  tunggakan_pokok  \\\n",
       "0                    874              875         345000.0        345000.00   \n",
       "3                    874              875         459168.0        382640.00   \n",
       "4                    874              875        3055499.0       1527749.48   \n",
       "11                   874              875        3671669.0       1228667.60   \n",
       "15                   874              875        1600000.0        985000.00   \n",
       "..                   ...              ...              ...              ...   \n",
       "759                  874                0        1080000.0       1080000.00   \n",
       "760                  874                0         700000.0        700000.00   \n",
       "762                  874                0         429000.0        429000.00   \n",
       "764                  874                0        1312500.0       1312500.00   \n",
       "765                  874                0        1000000.0       1000000.00   \n",
       "\n",
       "     tunggakan_bunga status kredit  \n",
       "0                0.0         MACET  \n",
       "3                0.0         MACET  \n",
       "4                0.0         MACET  \n",
       "11               0.0         MACET  \n",
       "15               0.0         MACET  \n",
       "..               ...           ...  \n",
       "759         164000.0         MACET  \n",
       "760          90000.0         MACET  \n",
       "762          45000.0         MACET  \n",
       "764          78750.0         MACET  \n",
       "765         100000.0         MACET  \n",
       "\n",
       "[462 rows x 16 columns]"
      ]
     },
     "execution_count": 222,
     "metadata": {},
     "output_type": "execute_result"
    }
   ],
   "source": [
    "#filter dataframe\n",
    "df[df['jenis_kelamin']=='P']"
   ]
  },
  {
   "cell_type": "code",
   "execution_count": 225,
   "id": "7ba94ce6",
   "metadata": {
    "scrolled": true
   },
   "outputs": [
    {
     "data": {
      "text/html": [
       "<div>\n",
       "<style scoped>\n",
       "    .dataframe tbody tr th:only-of-type {\n",
       "        vertical-align: middle;\n",
       "    }\n",
       "\n",
       "    .dataframe tbody tr th {\n",
       "        vertical-align: top;\n",
       "    }\n",
       "\n",
       "    .dataframe thead th {\n",
       "        text-align: right;\n",
       "    }\n",
       "</style>\n",
       "<table border=\"1\" class=\"dataframe\">\n",
       "  <thead>\n",
       "    <tr style=\"text-align: right;\">\n",
       "      <th></th>\n",
       "      <th>nama</th>\n",
       "      <th>jenis_kelamin</th>\n",
       "      <th>umur</th>\n",
       "      <th>jumlah pinjaman</th>\n",
       "      <th>jkw</th>\n",
       "      <th>jml_angsuran_per_bulan</th>\n",
       "      <th>type_pinjaman</th>\n",
       "      <th>jenis_pinjaman</th>\n",
       "      <th>bi_sektor_ekonomi</th>\n",
       "      <th>col</th>\n",
       "      <th>bi_golongan_debitur</th>\n",
       "      <th>bi_gol_penjamin</th>\n",
       "      <th>saldo_nominatif</th>\n",
       "      <th>tunggakan_pokok</th>\n",
       "      <th>tunggakan_bunga</th>\n",
       "      <th>status kredit</th>\n",
       "    </tr>\n",
       "  </thead>\n",
       "  <tbody>\n",
       "    <tr>\n",
       "      <th>21</th>\n",
       "      <td>x22</td>\n",
       "      <td>P</td>\n",
       "      <td>49.0</td>\n",
       "      <td>4000000.00</td>\n",
       "      <td>24</td>\n",
       "      <td>81944.25</td>\n",
       "      <td>100</td>\n",
       "      <td>301</td>\n",
       "      <td>6000.0</td>\n",
       "      <td>1</td>\n",
       "      <td>874</td>\n",
       "      <td>875</td>\n",
       "      <td>742662.00</td>\n",
       "      <td>0.00</td>\n",
       "      <td>0.0</td>\n",
       "      <td>LANCAR</td>\n",
       "    </tr>\n",
       "    <tr>\n",
       "      <th>25</th>\n",
       "      <td>x26</td>\n",
       "      <td>P</td>\n",
       "      <td>42.0</td>\n",
       "      <td>860000.00</td>\n",
       "      <td>8</td>\n",
       "      <td>88607.16</td>\n",
       "      <td>100</td>\n",
       "      <td>301</td>\n",
       "      <td>6000.0</td>\n",
       "      <td>1</td>\n",
       "      <td>874</td>\n",
       "      <td>875</td>\n",
       "      <td>708857.00</td>\n",
       "      <td>708857.00</td>\n",
       "      <td>0.0</td>\n",
       "      <td>MACET</td>\n",
       "    </tr>\n",
       "    <tr>\n",
       "      <th>26</th>\n",
       "      <td>x27</td>\n",
       "      <td>P</td>\n",
       "      <td>49.0</td>\n",
       "      <td>270000.00</td>\n",
       "      <td>6</td>\n",
       "      <td>45000.00</td>\n",
       "      <td>100</td>\n",
       "      <td>301</td>\n",
       "      <td>6000.0</td>\n",
       "      <td>1</td>\n",
       "      <td>874</td>\n",
       "      <td>875</td>\n",
       "      <td>270000.00</td>\n",
       "      <td>90000.00</td>\n",
       "      <td>0.0</td>\n",
       "      <td>MACET</td>\n",
       "    </tr>\n",
       "    <tr>\n",
       "      <th>30</th>\n",
       "      <td>x31</td>\n",
       "      <td>P</td>\n",
       "      <td>42.0</td>\n",
       "      <td>185169.00</td>\n",
       "      <td>8</td>\n",
       "      <td>25021.16</td>\n",
       "      <td>100</td>\n",
       "      <td>301</td>\n",
       "      <td>6000.0</td>\n",
       "      <td>1</td>\n",
       "      <td>874</td>\n",
       "      <td>875</td>\n",
       "      <td>200169.00</td>\n",
       "      <td>200169.00</td>\n",
       "      <td>0.0</td>\n",
       "      <td>MACET</td>\n",
       "    </tr>\n",
       "    <tr>\n",
       "      <th>36</th>\n",
       "      <td>x37</td>\n",
       "      <td>P</td>\n",
       "      <td>43.0</td>\n",
       "      <td>28950000.00</td>\n",
       "      <td>141</td>\n",
       "      <td>299114.98</td>\n",
       "      <td>100</td>\n",
       "      <td>301</td>\n",
       "      <td>6000.0</td>\n",
       "      <td>1</td>\n",
       "      <td>874</td>\n",
       "      <td>875</td>\n",
       "      <td>27399322.00</td>\n",
       "      <td>0.00</td>\n",
       "      <td>0.0</td>\n",
       "      <td>LANCAR</td>\n",
       "    </tr>\n",
       "    <tr>\n",
       "      <th>...</th>\n",
       "      <td>...</td>\n",
       "      <td>...</td>\n",
       "      <td>...</td>\n",
       "      <td>...</td>\n",
       "      <td>...</td>\n",
       "      <td>...</td>\n",
       "      <td>...</td>\n",
       "      <td>...</td>\n",
       "      <td>...</td>\n",
       "      <td>...</td>\n",
       "      <td>...</td>\n",
       "      <td>...</td>\n",
       "      <td>...</td>\n",
       "      <td>...</td>\n",
       "      <td>...</td>\n",
       "      <td>...</td>\n",
       "    </tr>\n",
       "    <tr>\n",
       "      <th>718</th>\n",
       "      <td>x719</td>\n",
       "      <td>P</td>\n",
       "      <td>47.0</td>\n",
       "      <td>1020000.00</td>\n",
       "      <td>10</td>\n",
       "      <td>121325.00</td>\n",
       "      <td>100</td>\n",
       "      <td>301</td>\n",
       "      <td>6000.0</td>\n",
       "      <td>2</td>\n",
       "      <td>874</td>\n",
       "      <td>875</td>\n",
       "      <td>673000.00</td>\n",
       "      <td>673000.00</td>\n",
       "      <td>0.0</td>\n",
       "      <td>MACET</td>\n",
       "    </tr>\n",
       "    <tr>\n",
       "      <th>722</th>\n",
       "      <td>x723</td>\n",
       "      <td>P</td>\n",
       "      <td>45.0</td>\n",
       "      <td>875000.00</td>\n",
       "      <td>7</td>\n",
       "      <td>140000.00</td>\n",
       "      <td>100</td>\n",
       "      <td>301</td>\n",
       "      <td>6000.0</td>\n",
       "      <td>2</td>\n",
       "      <td>874</td>\n",
       "      <td>0</td>\n",
       "      <td>875000.00</td>\n",
       "      <td>875000.00</td>\n",
       "      <td>105000.0</td>\n",
       "      <td>MACET</td>\n",
       "    </tr>\n",
       "    <tr>\n",
       "      <th>726</th>\n",
       "      <td>x727</td>\n",
       "      <td>P</td>\n",
       "      <td>48.0</td>\n",
       "      <td>521000.00</td>\n",
       "      <td>6</td>\n",
       "      <td>94333.35</td>\n",
       "      <td>100</td>\n",
       "      <td>301</td>\n",
       "      <td>6000.0</td>\n",
       "      <td>2</td>\n",
       "      <td>874</td>\n",
       "      <td>0</td>\n",
       "      <td>481000.00</td>\n",
       "      <td>481000.00</td>\n",
       "      <td>45000.0</td>\n",
       "      <td>MACET</td>\n",
       "    </tr>\n",
       "    <tr>\n",
       "      <th>728</th>\n",
       "      <td>x729</td>\n",
       "      <td>P</td>\n",
       "      <td>47.0</td>\n",
       "      <td>347000.00</td>\n",
       "      <td>7</td>\n",
       "      <td>55571.48</td>\n",
       "      <td>100</td>\n",
       "      <td>301</td>\n",
       "      <td>6000.0</td>\n",
       "      <td>2</td>\n",
       "      <td>874</td>\n",
       "      <td>0</td>\n",
       "      <td>347000.00</td>\n",
       "      <td>347000.00</td>\n",
       "      <td>42000.0</td>\n",
       "      <td>MACET</td>\n",
       "    </tr>\n",
       "    <tr>\n",
       "      <th>729</th>\n",
       "      <td>x730</td>\n",
       "      <td>P</td>\n",
       "      <td>45.0</td>\n",
       "      <td>574166.68</td>\n",
       "      <td>7</td>\n",
       "      <td>89523.85</td>\n",
       "      <td>100</td>\n",
       "      <td>301</td>\n",
       "      <td>6000.0</td>\n",
       "      <td>2</td>\n",
       "      <td>874</td>\n",
       "      <td>0</td>\n",
       "      <td>481666.68</td>\n",
       "      <td>481666.68</td>\n",
       "      <td>45000.0</td>\n",
       "      <td>MACET</td>\n",
       "    </tr>\n",
       "  </tbody>\n",
       "</table>\n",
       "<p>139 rows × 16 columns</p>\n",
       "</div>"
      ],
      "text/plain": [
       "     nama jenis_kelamin  umur  jumlah pinjaman  jkw  jml_angsuran_per_bulan  \\\n",
       "21    x22             P  49.0       4000000.00   24                81944.25   \n",
       "25    x26             P  42.0        860000.00    8                88607.16   \n",
       "26    x27             P  49.0        270000.00    6                45000.00   \n",
       "30    x31             P  42.0        185169.00    8                25021.16   \n",
       "36    x37             P  43.0      28950000.00  141               299114.98   \n",
       "..    ...           ...   ...              ...  ...                     ...   \n",
       "718  x719             P  47.0       1020000.00   10               121325.00   \n",
       "722  x723             P  45.0        875000.00    7               140000.00   \n",
       "726  x727             P  48.0        521000.00    6                94333.35   \n",
       "728  x729             P  47.0        347000.00    7                55571.48   \n",
       "729  x730             P  45.0        574166.68    7                89523.85   \n",
       "\n",
       "     type_pinjaman  jenis_pinjaman  bi_sektor_ekonomi  col  \\\n",
       "21             100             301             6000.0    1   \n",
       "25             100             301             6000.0    1   \n",
       "26             100             301             6000.0    1   \n",
       "30             100             301             6000.0    1   \n",
       "36             100             301             6000.0    1   \n",
       "..             ...             ...                ...  ...   \n",
       "718            100             301             6000.0    2   \n",
       "722            100             301             6000.0    2   \n",
       "726            100             301             6000.0    2   \n",
       "728            100             301             6000.0    2   \n",
       "729            100             301             6000.0    2   \n",
       "\n",
       "     bi_golongan_debitur  bi_gol_penjamin  saldo_nominatif  tunggakan_pokok  \\\n",
       "21                   874              875        742662.00             0.00   \n",
       "25                   874              875        708857.00        708857.00   \n",
       "26                   874              875        270000.00         90000.00   \n",
       "30                   874              875        200169.00        200169.00   \n",
       "36                   874              875      27399322.00             0.00   \n",
       "..                   ...              ...              ...              ...   \n",
       "718                  874              875        673000.00        673000.00   \n",
       "722                  874                0        875000.00        875000.00   \n",
       "726                  874                0        481000.00        481000.00   \n",
       "728                  874                0        347000.00        347000.00   \n",
       "729                  874                0        481666.68        481666.68   \n",
       "\n",
       "     tunggakan_bunga status kredit  \n",
       "21               0.0        LANCAR  \n",
       "25               0.0         MACET  \n",
       "26               0.0         MACET  \n",
       "30               0.0         MACET  \n",
       "36               0.0        LANCAR  \n",
       "..               ...           ...  \n",
       "718              0.0         MACET  \n",
       "722         105000.0         MACET  \n",
       "726          45000.0         MACET  \n",
       "728          42000.0         MACET  \n",
       "729          45000.0         MACET  \n",
       "\n",
       "[139 rows x 16 columns]"
      ]
     },
     "execution_count": 225,
     "metadata": {},
     "output_type": "execute_result"
    }
   ],
   "source": [
    "df[\n",
    "    (df['jenis_kelamin']=='P')&\n",
    "    (df['umur']>40)&\n",
    "    (df['umur']<50)\n",
    "]"
   ]
  },
  {
   "cell_type": "code",
   "execution_count": 228,
   "id": "ba26663f",
   "metadata": {},
   "outputs": [
    {
     "data": {
      "text/plain": [
       "pandas.core.frame.DataFrame"
      ]
     },
     "execution_count": 228,
     "metadata": {},
     "output_type": "execute_result"
    }
   ],
   "source": [
    "type(df)"
   ]
  },
  {
   "cell_type": "code",
   "execution_count": 230,
   "id": "ad4bf6ec",
   "metadata": {},
   "outputs": [],
   "source": [
    "#ambil 1 atau beberapa kolom"
   ]
  },
  {
   "cell_type": "code",
   "execution_count": 231,
   "id": "ffdc7c62",
   "metadata": {},
   "outputs": [
    {
     "data": {
      "text/plain": [
       "0        x1\n",
       "1        x2\n",
       "2        x3\n",
       "3        x4\n",
       "4        x5\n",
       "       ... \n",
       "761    x762\n",
       "762    x763\n",
       "763    x764\n",
       "764    x765\n",
       "765    x766\n",
       "Name: nama, Length: 766, dtype: object"
      ]
     },
     "execution_count": 231,
     "metadata": {},
     "output_type": "execute_result"
    }
   ],
   "source": [
    "df['nama']"
   ]
  },
  {
   "cell_type": "code",
   "execution_count": 232,
   "id": "77132a85",
   "metadata": {
    "scrolled": true
   },
   "outputs": [
    {
     "data": {
      "text/html": [
       "<div>\n",
       "<style scoped>\n",
       "    .dataframe tbody tr th:only-of-type {\n",
       "        vertical-align: middle;\n",
       "    }\n",
       "\n",
       "    .dataframe tbody tr th {\n",
       "        vertical-align: top;\n",
       "    }\n",
       "\n",
       "    .dataframe thead th {\n",
       "        text-align: right;\n",
       "    }\n",
       "</style>\n",
       "<table border=\"1\" class=\"dataframe\">\n",
       "  <thead>\n",
       "    <tr style=\"text-align: right;\">\n",
       "      <th></th>\n",
       "      <th>nama</th>\n",
       "      <th>umur</th>\n",
       "    </tr>\n",
       "  </thead>\n",
       "  <tbody>\n",
       "    <tr>\n",
       "      <th>0</th>\n",
       "      <td>x1</td>\n",
       "      <td>40.0</td>\n",
       "    </tr>\n",
       "    <tr>\n",
       "      <th>1</th>\n",
       "      <td>x2</td>\n",
       "      <td>31.0</td>\n",
       "    </tr>\n",
       "    <tr>\n",
       "      <th>2</th>\n",
       "      <td>x3</td>\n",
       "      <td>37.0</td>\n",
       "    </tr>\n",
       "    <tr>\n",
       "      <th>3</th>\n",
       "      <td>x4</td>\n",
       "      <td>2.0</td>\n",
       "    </tr>\n",
       "    <tr>\n",
       "      <th>4</th>\n",
       "      <td>x5</td>\n",
       "      <td>34.0</td>\n",
       "    </tr>\n",
       "    <tr>\n",
       "      <th>...</th>\n",
       "      <td>...</td>\n",
       "      <td>...</td>\n",
       "    </tr>\n",
       "    <tr>\n",
       "      <th>761</th>\n",
       "      <td>x762</td>\n",
       "      <td>38.0</td>\n",
       "    </tr>\n",
       "    <tr>\n",
       "      <th>762</th>\n",
       "      <td>x763</td>\n",
       "      <td>36.0</td>\n",
       "    </tr>\n",
       "    <tr>\n",
       "      <th>763</th>\n",
       "      <td>x764</td>\n",
       "      <td>28.0</td>\n",
       "    </tr>\n",
       "    <tr>\n",
       "      <th>764</th>\n",
       "      <td>x765</td>\n",
       "      <td>31.0</td>\n",
       "    </tr>\n",
       "    <tr>\n",
       "      <th>765</th>\n",
       "      <td>x766</td>\n",
       "      <td>36.0</td>\n",
       "    </tr>\n",
       "  </tbody>\n",
       "</table>\n",
       "<p>766 rows × 2 columns</p>\n",
       "</div>"
      ],
      "text/plain": [
       "     nama  umur\n",
       "0      x1  40.0\n",
       "1      x2  31.0\n",
       "2      x3  37.0\n",
       "3      x4   2.0\n",
       "4      x5  34.0\n",
       "..    ...   ...\n",
       "761  x762  38.0\n",
       "762  x763  36.0\n",
       "763  x764  28.0\n",
       "764  x765  31.0\n",
       "765  x766  36.0\n",
       "\n",
       "[766 rows x 2 columns]"
      ]
     },
     "execution_count": 232,
     "metadata": {},
     "output_type": "execute_result"
    }
   ],
   "source": [
    "df[['nama', 'umur']]"
   ]
  },
  {
   "cell_type": "code",
   "execution_count": 238,
   "id": "42689100",
   "metadata": {},
   "outputs": [
    {
     "data": {
      "text/html": [
       "<div>\n",
       "<style scoped>\n",
       "    .dataframe tbody tr th:only-of-type {\n",
       "        vertical-align: middle;\n",
       "    }\n",
       "\n",
       "    .dataframe tbody tr th {\n",
       "        vertical-align: top;\n",
       "    }\n",
       "\n",
       "    .dataframe thead th {\n",
       "        text-align: right;\n",
       "    }\n",
       "</style>\n",
       "<table border=\"1\" class=\"dataframe\">\n",
       "  <thead>\n",
       "    <tr style=\"text-align: right;\">\n",
       "      <th></th>\n",
       "      <th>nama</th>\n",
       "      <th>jenis_kelamin</th>\n",
       "      <th>umur</th>\n",
       "      <th>jumlah pinjaman</th>\n",
       "      <th>jkw</th>\n",
       "      <th>jml_angsuran_per_bulan</th>\n",
       "      <th>type_pinjaman</th>\n",
       "      <th>jenis_pinjaman</th>\n",
       "      <th>bi_sektor_ekonomi</th>\n",
       "      <th>col</th>\n",
       "      <th>bi_golongan_debitur</th>\n",
       "      <th>bi_gol_penjamin</th>\n",
       "      <th>saldo_nominatif</th>\n",
       "      <th>tunggakan_pokok</th>\n",
       "      <th>tunggakan_bunga</th>\n",
       "      <th>status kredit</th>\n",
       "    </tr>\n",
       "  </thead>\n",
       "  <tbody>\n",
       "    <tr>\n",
       "      <th>100</th>\n",
       "      <td>x101</td>\n",
       "      <td>P</td>\n",
       "      <td>40.0</td>\n",
       "      <td>1500000.0</td>\n",
       "      <td>20</td>\n",
       "      <td>86250.00</td>\n",
       "      <td>100</td>\n",
       "      <td>301</td>\n",
       "      <td>6000.0</td>\n",
       "      <td>1</td>\n",
       "      <td>874</td>\n",
       "      <td>0</td>\n",
       "      <td>750000.00</td>\n",
       "      <td>0.00</td>\n",
       "      <td>0.00</td>\n",
       "      <td>LANCAR</td>\n",
       "    </tr>\n",
       "    <tr>\n",
       "      <th>101</th>\n",
       "      <td>x102</td>\n",
       "      <td>P</td>\n",
       "      <td>44.0</td>\n",
       "      <td>2000000.0</td>\n",
       "      <td>16</td>\n",
       "      <td>140000.00</td>\n",
       "      <td>100</td>\n",
       "      <td>301</td>\n",
       "      <td>6000.0</td>\n",
       "      <td>1</td>\n",
       "      <td>874</td>\n",
       "      <td>0</td>\n",
       "      <td>1244000.00</td>\n",
       "      <td>494000.00</td>\n",
       "      <td>60000.00</td>\n",
       "      <td>MACET</td>\n",
       "    </tr>\n",
       "    <tr>\n",
       "      <th>102</th>\n",
       "      <td>x103</td>\n",
       "      <td>L</td>\n",
       "      <td>38.0</td>\n",
       "      <td>1000000.0</td>\n",
       "      <td>12</td>\n",
       "      <td>90833.37</td>\n",
       "      <td>100</td>\n",
       "      <td>301</td>\n",
       "      <td>6000.0</td>\n",
       "      <td>1</td>\n",
       "      <td>874</td>\n",
       "      <td>0</td>\n",
       "      <td>250000.03</td>\n",
       "      <td>83333.33</td>\n",
       "      <td>7500.00</td>\n",
       "      <td>LANCAR</td>\n",
       "    </tr>\n",
       "    <tr>\n",
       "      <th>103</th>\n",
       "      <td>x104</td>\n",
       "      <td>P</td>\n",
       "      <td>40.0</td>\n",
       "      <td>1000000.0</td>\n",
       "      <td>12</td>\n",
       "      <td>90833.37</td>\n",
       "      <td>100</td>\n",
       "      <td>301</td>\n",
       "      <td>6000.0</td>\n",
       "      <td>1</td>\n",
       "      <td>874</td>\n",
       "      <td>0</td>\n",
       "      <td>666666.68</td>\n",
       "      <td>499999.98</td>\n",
       "      <td>58333.32</td>\n",
       "      <td>MACET</td>\n",
       "    </tr>\n",
       "    <tr>\n",
       "      <th>104</th>\n",
       "      <td>x105</td>\n",
       "      <td>L</td>\n",
       "      <td>35.0</td>\n",
       "      <td>4000000.0</td>\n",
       "      <td>120</td>\n",
       "      <td>39333.73</td>\n",
       "      <td>100</td>\n",
       "      <td>301</td>\n",
       "      <td>6000.0</td>\n",
       "      <td>1</td>\n",
       "      <td>874</td>\n",
       "      <td>0</td>\n",
       "      <td>2466666.82</td>\n",
       "      <td>166666.65</td>\n",
       "      <td>30000.00</td>\n",
       "      <td>LANCAR</td>\n",
       "    </tr>\n",
       "    <tr>\n",
       "      <th>105</th>\n",
       "      <td>x106</td>\n",
       "      <td>L</td>\n",
       "      <td>28.0</td>\n",
       "      <td>2000000.0</td>\n",
       "      <td>20</td>\n",
       "      <td>115000.00</td>\n",
       "      <td>100</td>\n",
       "      <td>301</td>\n",
       "      <td>6000.0</td>\n",
       "      <td>1</td>\n",
       "      <td>874</td>\n",
       "      <td>0</td>\n",
       "      <td>1100000.00</td>\n",
       "      <td>100000.00</td>\n",
       "      <td>15000.00</td>\n",
       "      <td>LANCAR</td>\n",
       "    </tr>\n",
       "    <tr>\n",
       "      <th>106</th>\n",
       "      <td>x107</td>\n",
       "      <td>P</td>\n",
       "      <td>48.0</td>\n",
       "      <td>2500000.0</td>\n",
       "      <td>24</td>\n",
       "      <td>122916.82</td>\n",
       "      <td>100</td>\n",
       "      <td>301</td>\n",
       "      <td>6000.0</td>\n",
       "      <td>1</td>\n",
       "      <td>874</td>\n",
       "      <td>0</td>\n",
       "      <td>2500000.00</td>\n",
       "      <td>1041666.60</td>\n",
       "      <td>187500.00</td>\n",
       "      <td>MACET</td>\n",
       "    </tr>\n",
       "    <tr>\n",
       "      <th>107</th>\n",
       "      <td>x108</td>\n",
       "      <td>P</td>\n",
       "      <td>36.0</td>\n",
       "      <td>4000000.0</td>\n",
       "      <td>24</td>\n",
       "      <td>196666.82</td>\n",
       "      <td>100</td>\n",
       "      <td>301</td>\n",
       "      <td>6000.0</td>\n",
       "      <td>1</td>\n",
       "      <td>874</td>\n",
       "      <td>0</td>\n",
       "      <td>2833333.38</td>\n",
       "      <td>499999.98</td>\n",
       "      <td>90000.00</td>\n",
       "      <td>MACET</td>\n",
       "    </tr>\n",
       "    <tr>\n",
       "      <th>108</th>\n",
       "      <td>x109</td>\n",
       "      <td>L</td>\n",
       "      <td>34.0</td>\n",
       "      <td>1500000.0</td>\n",
       "      <td>20</td>\n",
       "      <td>86250.00</td>\n",
       "      <td>100</td>\n",
       "      <td>301</td>\n",
       "      <td>6000.0</td>\n",
       "      <td>1</td>\n",
       "      <td>874</td>\n",
       "      <td>0</td>\n",
       "      <td>900000.00</td>\n",
       "      <td>75000.00</td>\n",
       "      <td>11250.00</td>\n",
       "      <td>LANCAR</td>\n",
       "    </tr>\n",
       "    <tr>\n",
       "      <th>109</th>\n",
       "      <td>x110</td>\n",
       "      <td>L</td>\n",
       "      <td>41.0</td>\n",
       "      <td>4000000.0</td>\n",
       "      <td>24</td>\n",
       "      <td>196666.82</td>\n",
       "      <td>100</td>\n",
       "      <td>301</td>\n",
       "      <td>6000.0</td>\n",
       "      <td>1</td>\n",
       "      <td>874</td>\n",
       "      <td>0</td>\n",
       "      <td>2500000.06</td>\n",
       "      <td>0.00</td>\n",
       "      <td>0.00</td>\n",
       "      <td>LANCAR</td>\n",
       "    </tr>\n",
       "  </tbody>\n",
       "</table>\n",
       "</div>"
      ],
      "text/plain": [
       "     nama jenis_kelamin  umur  jumlah pinjaman  jkw  jml_angsuran_per_bulan  \\\n",
       "100  x101             P  40.0        1500000.0   20                86250.00   \n",
       "101  x102             P  44.0        2000000.0   16               140000.00   \n",
       "102  x103             L  38.0        1000000.0   12                90833.37   \n",
       "103  x104             P  40.0        1000000.0   12                90833.37   \n",
       "104  x105             L  35.0        4000000.0  120                39333.73   \n",
       "105  x106             L  28.0        2000000.0   20               115000.00   \n",
       "106  x107             P  48.0        2500000.0   24               122916.82   \n",
       "107  x108             P  36.0        4000000.0   24               196666.82   \n",
       "108  x109             L  34.0        1500000.0   20                86250.00   \n",
       "109  x110             L  41.0        4000000.0   24               196666.82   \n",
       "\n",
       "     type_pinjaman  jenis_pinjaman  bi_sektor_ekonomi  col  \\\n",
       "100            100             301             6000.0    1   \n",
       "101            100             301             6000.0    1   \n",
       "102            100             301             6000.0    1   \n",
       "103            100             301             6000.0    1   \n",
       "104            100             301             6000.0    1   \n",
       "105            100             301             6000.0    1   \n",
       "106            100             301             6000.0    1   \n",
       "107            100             301             6000.0    1   \n",
       "108            100             301             6000.0    1   \n",
       "109            100             301             6000.0    1   \n",
       "\n",
       "     bi_golongan_debitur  bi_gol_penjamin  saldo_nominatif  tunggakan_pokok  \\\n",
       "100                  874                0        750000.00             0.00   \n",
       "101                  874                0       1244000.00        494000.00   \n",
       "102                  874                0        250000.03         83333.33   \n",
       "103                  874                0        666666.68        499999.98   \n",
       "104                  874                0       2466666.82        166666.65   \n",
       "105                  874                0       1100000.00        100000.00   \n",
       "106                  874                0       2500000.00       1041666.60   \n",
       "107                  874                0       2833333.38        499999.98   \n",
       "108                  874                0        900000.00         75000.00   \n",
       "109                  874                0       2500000.06             0.00   \n",
       "\n",
       "     tunggakan_bunga status kredit  \n",
       "100             0.00        LANCAR  \n",
       "101         60000.00         MACET  \n",
       "102          7500.00        LANCAR  \n",
       "103         58333.32         MACET  \n",
       "104         30000.00        LANCAR  \n",
       "105         15000.00        LANCAR  \n",
       "106        187500.00         MACET  \n",
       "107         90000.00         MACET  \n",
       "108         11250.00        LANCAR  \n",
       "109             0.00        LANCAR  "
      ]
     },
     "execution_count": 238,
     "metadata": {},
     "output_type": "execute_result"
    }
   ],
   "source": [
    "#slice baris\n",
    "df.iloc[100:110]"
   ]
  },
  {
   "cell_type": "code",
   "execution_count": 239,
   "id": "27563afc",
   "metadata": {},
   "outputs": [
    {
     "data": {
      "text/plain": [
       "jenis_kelamin\n",
       "P    462\n",
       "L    304\n",
       "Name: count, dtype: int64"
      ]
     },
     "execution_count": 239,
     "metadata": {},
     "output_type": "execute_result"
    }
   ],
   "source": [
    "#menghitung jumlah values\n",
    "df['jenis_kelamin'].value_counts()"
   ]
  },
  {
   "cell_type": "code",
   "execution_count": 240,
   "id": "2c1cca19",
   "metadata": {},
   "outputs": [],
   "source": [
    "df1 = pd.DataFrame({'kolom_1': [1, 2, 3, 4], 'kolom_2': ['a', 'b', 'c', 'a']})\n",
    "df2 = pd.DataFrame({'kolom_1': [4, 5, 6, 7], 'kolom_2': ['a', 'a', 'c', 'd'], 'kolom_3': [11, 22, 33, 44]})"
   ]
  },
  {
   "cell_type": "code",
   "execution_count": 241,
   "id": "b999827a",
   "metadata": {
    "scrolled": true
   },
   "outputs": [
    {
     "data": {
      "text/html": [
       "<div>\n",
       "<style scoped>\n",
       "    .dataframe tbody tr th:only-of-type {\n",
       "        vertical-align: middle;\n",
       "    }\n",
       "\n",
       "    .dataframe tbody tr th {\n",
       "        vertical-align: top;\n",
       "    }\n",
       "\n",
       "    .dataframe thead th {\n",
       "        text-align: right;\n",
       "    }\n",
       "</style>\n",
       "<table border=\"1\" class=\"dataframe\">\n",
       "  <thead>\n",
       "    <tr style=\"text-align: right;\">\n",
       "      <th></th>\n",
       "      <th>kolom_1</th>\n",
       "      <th>kolom_2</th>\n",
       "    </tr>\n",
       "  </thead>\n",
       "  <tbody>\n",
       "    <tr>\n",
       "      <th>0</th>\n",
       "      <td>1</td>\n",
       "      <td>a</td>\n",
       "    </tr>\n",
       "    <tr>\n",
       "      <th>1</th>\n",
       "      <td>2</td>\n",
       "      <td>b</td>\n",
       "    </tr>\n",
       "    <tr>\n",
       "      <th>2</th>\n",
       "      <td>3</td>\n",
       "      <td>c</td>\n",
       "    </tr>\n",
       "    <tr>\n",
       "      <th>3</th>\n",
       "      <td>4</td>\n",
       "      <td>a</td>\n",
       "    </tr>\n",
       "  </tbody>\n",
       "</table>\n",
       "</div>"
      ],
      "text/plain": [
       "   kolom_1 kolom_2\n",
       "0        1       a\n",
       "1        2       b\n",
       "2        3       c\n",
       "3        4       a"
      ]
     },
     "execution_count": 241,
     "metadata": {},
     "output_type": "execute_result"
    }
   ],
   "source": [
    "df1"
   ]
  },
  {
   "cell_type": "code",
   "execution_count": 242,
   "id": "89ebe1ef",
   "metadata": {},
   "outputs": [
    {
     "data": {
      "text/html": [
       "<div>\n",
       "<style scoped>\n",
       "    .dataframe tbody tr th:only-of-type {\n",
       "        vertical-align: middle;\n",
       "    }\n",
       "\n",
       "    .dataframe tbody tr th {\n",
       "        vertical-align: top;\n",
       "    }\n",
       "\n",
       "    .dataframe thead th {\n",
       "        text-align: right;\n",
       "    }\n",
       "</style>\n",
       "<table border=\"1\" class=\"dataframe\">\n",
       "  <thead>\n",
       "    <tr style=\"text-align: right;\">\n",
       "      <th></th>\n",
       "      <th>kolom_1</th>\n",
       "      <th>kolom_2</th>\n",
       "      <th>kolom_3</th>\n",
       "    </tr>\n",
       "  </thead>\n",
       "  <tbody>\n",
       "    <tr>\n",
       "      <th>0</th>\n",
       "      <td>4</td>\n",
       "      <td>a</td>\n",
       "      <td>11</td>\n",
       "    </tr>\n",
       "    <tr>\n",
       "      <th>1</th>\n",
       "      <td>5</td>\n",
       "      <td>a</td>\n",
       "      <td>22</td>\n",
       "    </tr>\n",
       "    <tr>\n",
       "      <th>2</th>\n",
       "      <td>6</td>\n",
       "      <td>c</td>\n",
       "      <td>33</td>\n",
       "    </tr>\n",
       "    <tr>\n",
       "      <th>3</th>\n",
       "      <td>7</td>\n",
       "      <td>d</td>\n",
       "      <td>44</td>\n",
       "    </tr>\n",
       "  </tbody>\n",
       "</table>\n",
       "</div>"
      ],
      "text/plain": [
       "   kolom_1 kolom_2  kolom_3\n",
       "0        4       a       11\n",
       "1        5       a       22\n",
       "2        6       c       33\n",
       "3        7       d       44"
      ]
     },
     "execution_count": 242,
     "metadata": {},
     "output_type": "execute_result"
    }
   ],
   "source": [
    "df2"
   ]
  },
  {
   "cell_type": "code",
   "execution_count": 244,
   "id": "2f4cd5ed",
   "metadata": {},
   "outputs": [
    {
     "data": {
      "text/html": [
       "<div>\n",
       "<style scoped>\n",
       "    .dataframe tbody tr th:only-of-type {\n",
       "        vertical-align: middle;\n",
       "    }\n",
       "\n",
       "    .dataframe tbody tr th {\n",
       "        vertical-align: top;\n",
       "    }\n",
       "\n",
       "    .dataframe thead th {\n",
       "        text-align: right;\n",
       "    }\n",
       "</style>\n",
       "<table border=\"1\" class=\"dataframe\">\n",
       "  <thead>\n",
       "    <tr style=\"text-align: right;\">\n",
       "      <th></th>\n",
       "      <th>kolom_1</th>\n",
       "      <th>kolom_2</th>\n",
       "      <th>kolom_3</th>\n",
       "    </tr>\n",
       "  </thead>\n",
       "  <tbody>\n",
       "    <tr>\n",
       "      <th>0</th>\n",
       "      <td>1</td>\n",
       "      <td>a</td>\n",
       "      <td>NaN</td>\n",
       "    </tr>\n",
       "    <tr>\n",
       "      <th>1</th>\n",
       "      <td>2</td>\n",
       "      <td>b</td>\n",
       "      <td>NaN</td>\n",
       "    </tr>\n",
       "    <tr>\n",
       "      <th>2</th>\n",
       "      <td>3</td>\n",
       "      <td>c</td>\n",
       "      <td>NaN</td>\n",
       "    </tr>\n",
       "    <tr>\n",
       "      <th>3</th>\n",
       "      <td>4</td>\n",
       "      <td>a</td>\n",
       "      <td>NaN</td>\n",
       "    </tr>\n",
       "    <tr>\n",
       "      <th>0</th>\n",
       "      <td>4</td>\n",
       "      <td>a</td>\n",
       "      <td>11.0</td>\n",
       "    </tr>\n",
       "    <tr>\n",
       "      <th>1</th>\n",
       "      <td>5</td>\n",
       "      <td>a</td>\n",
       "      <td>22.0</td>\n",
       "    </tr>\n",
       "    <tr>\n",
       "      <th>2</th>\n",
       "      <td>6</td>\n",
       "      <td>c</td>\n",
       "      <td>33.0</td>\n",
       "    </tr>\n",
       "    <tr>\n",
       "      <th>3</th>\n",
       "      <td>7</td>\n",
       "      <td>d</td>\n",
       "      <td>44.0</td>\n",
       "    </tr>\n",
       "  </tbody>\n",
       "</table>\n",
       "</div>"
      ],
      "text/plain": [
       "   kolom_1 kolom_2  kolom_3\n",
       "0        1       a      NaN\n",
       "1        2       b      NaN\n",
       "2        3       c      NaN\n",
       "3        4       a      NaN\n",
       "0        4       a     11.0\n",
       "1        5       a     22.0\n",
       "2        6       c     33.0\n",
       "3        7       d     44.0"
      ]
     },
     "execution_count": 244,
     "metadata": {},
     "output_type": "execute_result"
    }
   ],
   "source": [
    "#menggabungkan beberapa dataframe\n",
    "pd.concat([df1, df2], axis=0)"
   ]
  },
  {
   "cell_type": "code",
   "execution_count": 245,
   "id": "73f1eefb",
   "metadata": {},
   "outputs": [
    {
     "data": {
      "text/html": [
       "<div>\n",
       "<style scoped>\n",
       "    .dataframe tbody tr th:only-of-type {\n",
       "        vertical-align: middle;\n",
       "    }\n",
       "\n",
       "    .dataframe tbody tr th {\n",
       "        vertical-align: top;\n",
       "    }\n",
       "\n",
       "    .dataframe thead th {\n",
       "        text-align: right;\n",
       "    }\n",
       "</style>\n",
       "<table border=\"1\" class=\"dataframe\">\n",
       "  <thead>\n",
       "    <tr style=\"text-align: right;\">\n",
       "      <th></th>\n",
       "      <th>kolom_1</th>\n",
       "      <th>kolom_2</th>\n",
       "      <th>kolom_1</th>\n",
       "      <th>kolom_2</th>\n",
       "      <th>kolom_3</th>\n",
       "    </tr>\n",
       "  </thead>\n",
       "  <tbody>\n",
       "    <tr>\n",
       "      <th>0</th>\n",
       "      <td>1</td>\n",
       "      <td>a</td>\n",
       "      <td>4</td>\n",
       "      <td>a</td>\n",
       "      <td>11</td>\n",
       "    </tr>\n",
       "    <tr>\n",
       "      <th>1</th>\n",
       "      <td>2</td>\n",
       "      <td>b</td>\n",
       "      <td>5</td>\n",
       "      <td>a</td>\n",
       "      <td>22</td>\n",
       "    </tr>\n",
       "    <tr>\n",
       "      <th>2</th>\n",
       "      <td>3</td>\n",
       "      <td>c</td>\n",
       "      <td>6</td>\n",
       "      <td>c</td>\n",
       "      <td>33</td>\n",
       "    </tr>\n",
       "    <tr>\n",
       "      <th>3</th>\n",
       "      <td>4</td>\n",
       "      <td>a</td>\n",
       "      <td>7</td>\n",
       "      <td>d</td>\n",
       "      <td>44</td>\n",
       "    </tr>\n",
       "  </tbody>\n",
       "</table>\n",
       "</div>"
      ],
      "text/plain": [
       "   kolom_1 kolom_2  kolom_1 kolom_2  kolom_3\n",
       "0        1       a        4       a       11\n",
       "1        2       b        5       a       22\n",
       "2        3       c        6       c       33\n",
       "3        4       a        7       d       44"
      ]
     },
     "execution_count": 245,
     "metadata": {},
     "output_type": "execute_result"
    }
   ],
   "source": [
    "pd.concat([df1, df2], axis=1)"
   ]
  },
  {
   "cell_type": "code",
   "execution_count": 246,
   "id": "caedafc7",
   "metadata": {},
   "outputs": [
    {
     "data": {
      "text/html": [
       "<div>\n",
       "<style scoped>\n",
       "    .dataframe tbody tr th:only-of-type {\n",
       "        vertical-align: middle;\n",
       "    }\n",
       "\n",
       "    .dataframe tbody tr th {\n",
       "        vertical-align: top;\n",
       "    }\n",
       "\n",
       "    .dataframe thead th {\n",
       "        text-align: right;\n",
       "    }\n",
       "</style>\n",
       "<table border=\"1\" class=\"dataframe\">\n",
       "  <thead>\n",
       "    <tr style=\"text-align: right;\">\n",
       "      <th></th>\n",
       "      <th>kolom_1</th>\n",
       "      <th>kolom_2</th>\n",
       "      <th>kolom_3</th>\n",
       "    </tr>\n",
       "  </thead>\n",
       "  <tbody>\n",
       "    <tr>\n",
       "      <th>0</th>\n",
       "      <td>4</td>\n",
       "      <td>a</td>\n",
       "      <td>11</td>\n",
       "    </tr>\n",
       "  </tbody>\n",
       "</table>\n",
       "</div>"
      ],
      "text/plain": [
       "   kolom_1 kolom_2  kolom_3\n",
       "0        4       a       11"
      ]
     },
     "execution_count": 246,
     "metadata": {},
     "output_type": "execute_result"
    }
   ],
   "source": [
    "pd.merge(df1, df2)"
   ]
  },
  {
   "cell_type": "code",
   "execution_count": 247,
   "id": "b5b909e7",
   "metadata": {},
   "outputs": [
    {
     "data": {
      "text/html": [
       "<div>\n",
       "<style scoped>\n",
       "    .dataframe tbody tr th:only-of-type {\n",
       "        vertical-align: middle;\n",
       "    }\n",
       "\n",
       "    .dataframe tbody tr th {\n",
       "        vertical-align: top;\n",
       "    }\n",
       "\n",
       "    .dataframe thead th {\n",
       "        text-align: right;\n",
       "    }\n",
       "</style>\n",
       "<table border=\"1\" class=\"dataframe\">\n",
       "  <thead>\n",
       "    <tr style=\"text-align: right;\">\n",
       "      <th></th>\n",
       "      <th>kolom_1_x</th>\n",
       "      <th>kolom_2</th>\n",
       "      <th>kolom_1_y</th>\n",
       "      <th>kolom_3</th>\n",
       "    </tr>\n",
       "  </thead>\n",
       "  <tbody>\n",
       "    <tr>\n",
       "      <th>0</th>\n",
       "      <td>1</td>\n",
       "      <td>a</td>\n",
       "      <td>4</td>\n",
       "      <td>11</td>\n",
       "    </tr>\n",
       "    <tr>\n",
       "      <th>1</th>\n",
       "      <td>1</td>\n",
       "      <td>a</td>\n",
       "      <td>5</td>\n",
       "      <td>22</td>\n",
       "    </tr>\n",
       "    <tr>\n",
       "      <th>2</th>\n",
       "      <td>4</td>\n",
       "      <td>a</td>\n",
       "      <td>4</td>\n",
       "      <td>11</td>\n",
       "    </tr>\n",
       "    <tr>\n",
       "      <th>3</th>\n",
       "      <td>4</td>\n",
       "      <td>a</td>\n",
       "      <td>5</td>\n",
       "      <td>22</td>\n",
       "    </tr>\n",
       "    <tr>\n",
       "      <th>4</th>\n",
       "      <td>3</td>\n",
       "      <td>c</td>\n",
       "      <td>6</td>\n",
       "      <td>33</td>\n",
       "    </tr>\n",
       "  </tbody>\n",
       "</table>\n",
       "</div>"
      ],
      "text/plain": [
       "   kolom_1_x kolom_2  kolom_1_y  kolom_3\n",
       "0          1       a          4       11\n",
       "1          1       a          5       22\n",
       "2          4       a          4       11\n",
       "3          4       a          5       22\n",
       "4          3       c          6       33"
      ]
     },
     "execution_count": 247,
     "metadata": {},
     "output_type": "execute_result"
    }
   ],
   "source": [
    "pd.merge(df1, df2, on='kolom_2')"
   ]
  },
  {
   "cell_type": "code",
   "execution_count": 248,
   "id": "365fa2ee",
   "metadata": {},
   "outputs": [
    {
     "data": {
      "text/html": [
       "<div>\n",
       "<style scoped>\n",
       "    .dataframe tbody tr th:only-of-type {\n",
       "        vertical-align: middle;\n",
       "    }\n",
       "\n",
       "    .dataframe tbody tr th {\n",
       "        vertical-align: top;\n",
       "    }\n",
       "\n",
       "    .dataframe thead th {\n",
       "        text-align: right;\n",
       "    }\n",
       "</style>\n",
       "<table border=\"1\" class=\"dataframe\">\n",
       "  <thead>\n",
       "    <tr style=\"text-align: right;\">\n",
       "      <th></th>\n",
       "      <th>kolom_1</th>\n",
       "      <th>kolom_2</th>\n",
       "      <th>kolom_3</th>\n",
       "    </tr>\n",
       "  </thead>\n",
       "  <tbody>\n",
       "    <tr>\n",
       "      <th>0</th>\n",
       "      <td>4</td>\n",
       "      <td>a</td>\n",
       "      <td>11</td>\n",
       "    </tr>\n",
       "  </tbody>\n",
       "</table>\n",
       "</div>"
      ],
      "text/plain": [
       "   kolom_1 kolom_2  kolom_3\n",
       "0        4       a       11"
      ]
     },
     "execution_count": 248,
     "metadata": {},
     "output_type": "execute_result"
    }
   ],
   "source": [
    "pd.merge(df1, df2, on=['kolom_1', 'kolom_2'])"
   ]
  },
  {
   "cell_type": "code",
   "execution_count": 250,
   "id": "34853ba4",
   "metadata": {},
   "outputs": [
    {
     "data": {
      "text/html": [
       "<div>\n",
       "<style scoped>\n",
       "    .dataframe tbody tr th:only-of-type {\n",
       "        vertical-align: middle;\n",
       "    }\n",
       "\n",
       "    .dataframe tbody tr th {\n",
       "        vertical-align: top;\n",
       "    }\n",
       "\n",
       "    .dataframe thead th {\n",
       "        text-align: right;\n",
       "    }\n",
       "</style>\n",
       "<table border=\"1\" class=\"dataframe\">\n",
       "  <thead>\n",
       "    <tr style=\"text-align: right;\">\n",
       "      <th></th>\n",
       "      <th>kolom_1</th>\n",
       "      <th>kolom_2</th>\n",
       "    </tr>\n",
       "  </thead>\n",
       "  <tbody>\n",
       "    <tr>\n",
       "      <th>0</th>\n",
       "      <td>1</td>\n",
       "      <td>a</td>\n",
       "    </tr>\n",
       "    <tr>\n",
       "      <th>1</th>\n",
       "      <td>2</td>\n",
       "      <td>b</td>\n",
       "    </tr>\n",
       "    <tr>\n",
       "      <th>2</th>\n",
       "      <td>3</td>\n",
       "      <td>c</td>\n",
       "    </tr>\n",
       "    <tr>\n",
       "      <th>3</th>\n",
       "      <td>4</td>\n",
       "      <td>a</td>\n",
       "    </tr>\n",
       "  </tbody>\n",
       "</table>\n",
       "</div>"
      ],
      "text/plain": [
       "   kolom_1 kolom_2\n",
       "0        1       a\n",
       "1        2       b\n",
       "2        3       c\n",
       "3        4       a"
      ]
     },
     "execution_count": 250,
     "metadata": {},
     "output_type": "execute_result"
    }
   ],
   "source": [
    "df1"
   ]
  },
  {
   "cell_type": "code",
   "execution_count": 249,
   "id": "448bf625",
   "metadata": {},
   "outputs": [
    {
     "data": {
      "text/html": [
       "<div>\n",
       "<style scoped>\n",
       "    .dataframe tbody tr th:only-of-type {\n",
       "        vertical-align: middle;\n",
       "    }\n",
       "\n",
       "    .dataframe tbody tr th {\n",
       "        vertical-align: top;\n",
       "    }\n",
       "\n",
       "    .dataframe thead th {\n",
       "        text-align: right;\n",
       "    }\n",
       "</style>\n",
       "<table border=\"1\" class=\"dataframe\">\n",
       "  <thead>\n",
       "    <tr style=\"text-align: right;\">\n",
       "      <th></th>\n",
       "      <th>kolom_1</th>\n",
       "      <th>kolom_2</th>\n",
       "      <th>kolom_3</th>\n",
       "    </tr>\n",
       "  </thead>\n",
       "  <tbody>\n",
       "    <tr>\n",
       "      <th>0</th>\n",
       "      <td>1</td>\n",
       "      <td>a</td>\n",
       "      <td>NaN</td>\n",
       "    </tr>\n",
       "    <tr>\n",
       "      <th>1</th>\n",
       "      <td>2</td>\n",
       "      <td>b</td>\n",
       "      <td>NaN</td>\n",
       "    </tr>\n",
       "    <tr>\n",
       "      <th>2</th>\n",
       "      <td>3</td>\n",
       "      <td>c</td>\n",
       "      <td>NaN</td>\n",
       "    </tr>\n",
       "    <tr>\n",
       "      <th>3</th>\n",
       "      <td>4</td>\n",
       "      <td>a</td>\n",
       "      <td>11.0</td>\n",
       "    </tr>\n",
       "  </tbody>\n",
       "</table>\n",
       "</div>"
      ],
      "text/plain": [
       "   kolom_1 kolom_2  kolom_3\n",
       "0        1       a      NaN\n",
       "1        2       b      NaN\n",
       "2        3       c      NaN\n",
       "3        4       a     11.0"
      ]
     },
     "execution_count": 249,
     "metadata": {},
     "output_type": "execute_result"
    }
   ],
   "source": [
    "pd.merge(df1, df2, on=['kolom_1', 'kolom_2'], how='left')"
   ]
  },
  {
   "cell_type": "code",
   "execution_count": 252,
   "id": "492b0475",
   "metadata": {},
   "outputs": [
    {
     "data": {
      "text/html": [
       "<div>\n",
       "<style scoped>\n",
       "    .dataframe tbody tr th:only-of-type {\n",
       "        vertical-align: middle;\n",
       "    }\n",
       "\n",
       "    .dataframe tbody tr th {\n",
       "        vertical-align: top;\n",
       "    }\n",
       "\n",
       "    .dataframe thead th {\n",
       "        text-align: right;\n",
       "    }\n",
       "</style>\n",
       "<table border=\"1\" class=\"dataframe\">\n",
       "  <thead>\n",
       "    <tr style=\"text-align: right;\">\n",
       "      <th></th>\n",
       "      <th>kolom_1</th>\n",
       "      <th>kolom_2</th>\n",
       "      <th>kolom_3</th>\n",
       "    </tr>\n",
       "  </thead>\n",
       "  <tbody>\n",
       "    <tr>\n",
       "      <th>0</th>\n",
       "      <td>4</td>\n",
       "      <td>a</td>\n",
       "      <td>11</td>\n",
       "    </tr>\n",
       "    <tr>\n",
       "      <th>1</th>\n",
       "      <td>5</td>\n",
       "      <td>a</td>\n",
       "      <td>22</td>\n",
       "    </tr>\n",
       "    <tr>\n",
       "      <th>2</th>\n",
       "      <td>6</td>\n",
       "      <td>c</td>\n",
       "      <td>33</td>\n",
       "    </tr>\n",
       "    <tr>\n",
       "      <th>3</th>\n",
       "      <td>7</td>\n",
       "      <td>d</td>\n",
       "      <td>44</td>\n",
       "    </tr>\n",
       "  </tbody>\n",
       "</table>\n",
       "</div>"
      ],
      "text/plain": [
       "   kolom_1 kolom_2  kolom_3\n",
       "0        4       a       11\n",
       "1        5       a       22\n",
       "2        6       c       33\n",
       "3        7       d       44"
      ]
     },
     "execution_count": 252,
     "metadata": {},
     "output_type": "execute_result"
    }
   ],
   "source": [
    "df2"
   ]
  },
  {
   "cell_type": "code",
   "execution_count": 251,
   "id": "58d9d942",
   "metadata": {},
   "outputs": [
    {
     "data": {
      "text/html": [
       "<div>\n",
       "<style scoped>\n",
       "    .dataframe tbody tr th:only-of-type {\n",
       "        vertical-align: middle;\n",
       "    }\n",
       "\n",
       "    .dataframe tbody tr th {\n",
       "        vertical-align: top;\n",
       "    }\n",
       "\n",
       "    .dataframe thead th {\n",
       "        text-align: right;\n",
       "    }\n",
       "</style>\n",
       "<table border=\"1\" class=\"dataframe\">\n",
       "  <thead>\n",
       "    <tr style=\"text-align: right;\">\n",
       "      <th></th>\n",
       "      <th>kolom_1</th>\n",
       "      <th>kolom_2</th>\n",
       "      <th>kolom_3</th>\n",
       "    </tr>\n",
       "  </thead>\n",
       "  <tbody>\n",
       "    <tr>\n",
       "      <th>0</th>\n",
       "      <td>4</td>\n",
       "      <td>a</td>\n",
       "      <td>11</td>\n",
       "    </tr>\n",
       "    <tr>\n",
       "      <th>1</th>\n",
       "      <td>5</td>\n",
       "      <td>a</td>\n",
       "      <td>22</td>\n",
       "    </tr>\n",
       "    <tr>\n",
       "      <th>2</th>\n",
       "      <td>6</td>\n",
       "      <td>c</td>\n",
       "      <td>33</td>\n",
       "    </tr>\n",
       "    <tr>\n",
       "      <th>3</th>\n",
       "      <td>7</td>\n",
       "      <td>d</td>\n",
       "      <td>44</td>\n",
       "    </tr>\n",
       "  </tbody>\n",
       "</table>\n",
       "</div>"
      ],
      "text/plain": [
       "   kolom_1 kolom_2  kolom_3\n",
       "0        4       a       11\n",
       "1        5       a       22\n",
       "2        6       c       33\n",
       "3        7       d       44"
      ]
     },
     "execution_count": 251,
     "metadata": {},
     "output_type": "execute_result"
    }
   ],
   "source": [
    "pd.merge(df1, df2, on=['kolom_1', 'kolom_2'], how='right')"
   ]
  },
  {
   "cell_type": "code",
   "execution_count": 253,
   "id": "61cad7b4",
   "metadata": {},
   "outputs": [
    {
     "data": {
      "text/html": [
       "<div>\n",
       "<style scoped>\n",
       "    .dataframe tbody tr th:only-of-type {\n",
       "        vertical-align: middle;\n",
       "    }\n",
       "\n",
       "    .dataframe tbody tr th {\n",
       "        vertical-align: top;\n",
       "    }\n",
       "\n",
       "    .dataframe thead th {\n",
       "        text-align: right;\n",
       "    }\n",
       "</style>\n",
       "<table border=\"1\" class=\"dataframe\">\n",
       "  <thead>\n",
       "    <tr style=\"text-align: right;\">\n",
       "      <th></th>\n",
       "      <th>kolom_1</th>\n",
       "      <th>kolom_2</th>\n",
       "      <th>kolom_3</th>\n",
       "    </tr>\n",
       "  </thead>\n",
       "  <tbody>\n",
       "    <tr>\n",
       "      <th>0</th>\n",
       "      <td>1</td>\n",
       "      <td>a</td>\n",
       "      <td>NaN</td>\n",
       "    </tr>\n",
       "    <tr>\n",
       "      <th>1</th>\n",
       "      <td>2</td>\n",
       "      <td>b</td>\n",
       "      <td>NaN</td>\n",
       "    </tr>\n",
       "    <tr>\n",
       "      <th>2</th>\n",
       "      <td>3</td>\n",
       "      <td>c</td>\n",
       "      <td>NaN</td>\n",
       "    </tr>\n",
       "    <tr>\n",
       "      <th>3</th>\n",
       "      <td>4</td>\n",
       "      <td>a</td>\n",
       "      <td>11.0</td>\n",
       "    </tr>\n",
       "    <tr>\n",
       "      <th>4</th>\n",
       "      <td>5</td>\n",
       "      <td>a</td>\n",
       "      <td>22.0</td>\n",
       "    </tr>\n",
       "    <tr>\n",
       "      <th>5</th>\n",
       "      <td>6</td>\n",
       "      <td>c</td>\n",
       "      <td>33.0</td>\n",
       "    </tr>\n",
       "    <tr>\n",
       "      <th>6</th>\n",
       "      <td>7</td>\n",
       "      <td>d</td>\n",
       "      <td>44.0</td>\n",
       "    </tr>\n",
       "  </tbody>\n",
       "</table>\n",
       "</div>"
      ],
      "text/plain": [
       "   kolom_1 kolom_2  kolom_3\n",
       "0        1       a      NaN\n",
       "1        2       b      NaN\n",
       "2        3       c      NaN\n",
       "3        4       a     11.0\n",
       "4        5       a     22.0\n",
       "5        6       c     33.0\n",
       "6        7       d     44.0"
      ]
     },
     "execution_count": 253,
     "metadata": {},
     "output_type": "execute_result"
    }
   ],
   "source": [
    "pd.merge(df1, df2, on=['kolom_1', 'kolom_2'], how='outer')"
   ]
  },
  {
   "cell_type": "code",
   "execution_count": 256,
   "id": "e66c0d95",
   "metadata": {},
   "outputs": [
    {
     "data": {
      "text/html": [
       "<div>\n",
       "<style scoped>\n",
       "    .dataframe tbody tr th:only-of-type {\n",
       "        vertical-align: middle;\n",
       "    }\n",
       "\n",
       "    .dataframe tbody tr th {\n",
       "        vertical-align: top;\n",
       "    }\n",
       "\n",
       "    .dataframe thead th {\n",
       "        text-align: right;\n",
       "    }\n",
       "</style>\n",
       "<table border=\"1\" class=\"dataframe\">\n",
       "  <thead>\n",
       "    <tr style=\"text-align: right;\">\n",
       "      <th></th>\n",
       "      <th>kolom_1</th>\n",
       "      <th>kolom_2</th>\n",
       "      <th>kolom_3</th>\n",
       "    </tr>\n",
       "  </thead>\n",
       "  <tbody>\n",
       "    <tr>\n",
       "      <th>0</th>\n",
       "      <td>4</td>\n",
       "      <td>a</td>\n",
       "      <td>11</td>\n",
       "    </tr>\n",
       "  </tbody>\n",
       "</table>\n",
       "</div>"
      ],
      "text/plain": [
       "   kolom_1 kolom_2  kolom_3\n",
       "0        4       a       11"
      ]
     },
     "execution_count": 256,
     "metadata": {},
     "output_type": "execute_result"
    }
   ],
   "source": [
    "pd.merge(df1, df2, on=['kolom_1', 'kolom_2'], how='inner')"
   ]
  },
  {
   "cell_type": "markdown",
   "id": "2b667b99",
   "metadata": {},
   "source": [
    "## data analysis"
   ]
  },
  {
   "cell_type": "code",
   "execution_count": 257,
   "id": "7a823abc",
   "metadata": {},
   "outputs": [
    {
     "data": {
      "text/html": [
       "<div>\n",
       "<style scoped>\n",
       "    .dataframe tbody tr th:only-of-type {\n",
       "        vertical-align: middle;\n",
       "    }\n",
       "\n",
       "    .dataframe tbody tr th {\n",
       "        vertical-align: top;\n",
       "    }\n",
       "\n",
       "    .dataframe thead th {\n",
       "        text-align: right;\n",
       "    }\n",
       "</style>\n",
       "<table border=\"1\" class=\"dataframe\">\n",
       "  <thead>\n",
       "    <tr style=\"text-align: right;\">\n",
       "      <th></th>\n",
       "      <th>umur</th>\n",
       "      <th>jumlah pinjaman</th>\n",
       "      <th>jkw</th>\n",
       "      <th>jml_angsuran_per_bulan</th>\n",
       "      <th>type_pinjaman</th>\n",
       "      <th>jenis_pinjaman</th>\n",
       "      <th>bi_sektor_ekonomi</th>\n",
       "      <th>col</th>\n",
       "      <th>bi_golongan_debitur</th>\n",
       "      <th>bi_gol_penjamin</th>\n",
       "      <th>saldo_nominatif</th>\n",
       "      <th>tunggakan_pokok</th>\n",
       "      <th>tunggakan_bunga</th>\n",
       "    </tr>\n",
       "  </thead>\n",
       "  <tbody>\n",
       "    <tr>\n",
       "      <th>count</th>\n",
       "      <td>765.000000</td>\n",
       "      <td>7.660000e+02</td>\n",
       "      <td>766.000000</td>\n",
       "      <td>7.660000e+02</td>\n",
       "      <td>766.0</td>\n",
       "      <td>766.000000</td>\n",
       "      <td>765.000000</td>\n",
       "      <td>766.000000</td>\n",
       "      <td>766.000000</td>\n",
       "      <td>766.000000</td>\n",
       "      <td>7.660000e+02</td>\n",
       "      <td>7.660000e+02</td>\n",
       "      <td>7.660000e+02</td>\n",
       "    </tr>\n",
       "    <tr>\n",
       "      <th>mean</th>\n",
       "      <td>29.160784</td>\n",
       "      <td>2.712483e+06</td>\n",
       "      <td>18.960836</td>\n",
       "      <td>2.333917e+05</td>\n",
       "      <td>100.0</td>\n",
       "      <td>301.197128</td>\n",
       "      <td>6013.045752</td>\n",
       "      <td>1.216710</td>\n",
       "      <td>873.968668</td>\n",
       "      <td>281.300261</td>\n",
       "      <td>2.007386e+06</td>\n",
       "      <td>7.900853e+05</td>\n",
       "      <td>8.771708e+04</td>\n",
       "    </tr>\n",
       "    <tr>\n",
       "      <th>std</th>\n",
       "      <td>263.165564</td>\n",
       "      <td>9.995602e+06</td>\n",
       "      <td>32.076029</td>\n",
       "      <td>5.489682e+05</td>\n",
       "      <td>0.0</td>\n",
       "      <td>0.822267</td>\n",
       "      <td>216.196305</td>\n",
       "      <td>0.412273</td>\n",
       "      <td>1.460257</td>\n",
       "      <td>408.099019</td>\n",
       "      <td>8.711282e+06</td>\n",
       "      <td>4.139217e+06</td>\n",
       "      <td>5.682318e+05</td>\n",
       "    </tr>\n",
       "    <tr>\n",
       "      <th>min</th>\n",
       "      <td>-7162.000000</td>\n",
       "      <td>8.333333e+04</td>\n",
       "      <td>1.000000</td>\n",
       "      <td>0.000000e+00</td>\n",
       "      <td>100.0</td>\n",
       "      <td>301.000000</td>\n",
       "      <td>6000.000000</td>\n",
       "      <td>1.000000</td>\n",
       "      <td>834.000000</td>\n",
       "      <td>0.000000</td>\n",
       "      <td>-4.000000e+06</td>\n",
       "      <td>0.000000e+00</td>\n",
       "      <td>0.000000e+00</td>\n",
       "    </tr>\n",
       "    <tr>\n",
       "      <th>25%</th>\n",
       "      <td>32.000000</td>\n",
       "      <td>8.489286e+05</td>\n",
       "      <td>8.000000</td>\n",
       "      <td>6.750000e+04</td>\n",
       "      <td>100.0</td>\n",
       "      <td>301.000000</td>\n",
       "      <td>6000.000000</td>\n",
       "      <td>1.000000</td>\n",
       "      <td>874.000000</td>\n",
       "      <td>0.000000</td>\n",
       "      <td>5.337500e+05</td>\n",
       "      <td>9.885424e+04</td>\n",
       "      <td>0.000000e+00</td>\n",
       "    </tr>\n",
       "    <tr>\n",
       "      <th>50%</th>\n",
       "      <td>38.000000</td>\n",
       "      <td>1.500000e+06</td>\n",
       "      <td>12.000000</td>\n",
       "      <td>1.050000e+05</td>\n",
       "      <td>100.0</td>\n",
       "      <td>301.000000</td>\n",
       "      <td>6000.000000</td>\n",
       "      <td>1.000000</td>\n",
       "      <td>874.000000</td>\n",
       "      <td>0.000000</td>\n",
       "      <td>9.462828e+05</td>\n",
       "      <td>3.391669e+05</td>\n",
       "      <td>0.000000e+00</td>\n",
       "    </tr>\n",
       "    <tr>\n",
       "      <th>75%</th>\n",
       "      <td>43.000000</td>\n",
       "      <td>2.000000e+06</td>\n",
       "      <td>20.000000</td>\n",
       "      <td>2.333334e+05</td>\n",
       "      <td>100.0</td>\n",
       "      <td>301.000000</td>\n",
       "      <td>6000.000000</td>\n",
       "      <td>1.000000</td>\n",
       "      <td>874.000000</td>\n",
       "      <td>875.000000</td>\n",
       "      <td>1.639582e+06</td>\n",
       "      <td>7.500000e+05</td>\n",
       "      <td>5.814889e+04</td>\n",
       "    </tr>\n",
       "    <tr>\n",
       "      <th>max</th>\n",
       "      <td>1043.000000</td>\n",
       "      <td>2.286550e+08</td>\n",
       "      <td>679.000000</td>\n",
       "      <td>1.035000e+07</td>\n",
       "      <td>100.0</td>\n",
       "      <td>305.000000</td>\n",
       "      <td>9990.000000</td>\n",
       "      <td>2.000000</td>\n",
       "      <td>876.000000</td>\n",
       "      <td>875.000000</td>\n",
       "      <td>2.094041e+08</td>\n",
       "      <td>9.161212e+07</td>\n",
       "      <td>1.100000e+07</td>\n",
       "    </tr>\n",
       "  </tbody>\n",
       "</table>\n",
       "</div>"
      ],
      "text/plain": [
       "              umur  jumlah pinjaman         jkw  jml_angsuran_per_bulan  \\\n",
       "count   765.000000     7.660000e+02  766.000000            7.660000e+02   \n",
       "mean     29.160784     2.712483e+06   18.960836            2.333917e+05   \n",
       "std     263.165564     9.995602e+06   32.076029            5.489682e+05   \n",
       "min   -7162.000000     8.333333e+04    1.000000            0.000000e+00   \n",
       "25%      32.000000     8.489286e+05    8.000000            6.750000e+04   \n",
       "50%      38.000000     1.500000e+06   12.000000            1.050000e+05   \n",
       "75%      43.000000     2.000000e+06   20.000000            2.333334e+05   \n",
       "max    1043.000000     2.286550e+08  679.000000            1.035000e+07   \n",
       "\n",
       "       type_pinjaman  jenis_pinjaman  bi_sektor_ekonomi         col  \\\n",
       "count          766.0      766.000000         765.000000  766.000000   \n",
       "mean           100.0      301.197128        6013.045752    1.216710   \n",
       "std              0.0        0.822267         216.196305    0.412273   \n",
       "min            100.0      301.000000        6000.000000    1.000000   \n",
       "25%            100.0      301.000000        6000.000000    1.000000   \n",
       "50%            100.0      301.000000        6000.000000    1.000000   \n",
       "75%            100.0      301.000000        6000.000000    1.000000   \n",
       "max            100.0      305.000000        9990.000000    2.000000   \n",
       "\n",
       "       bi_golongan_debitur  bi_gol_penjamin  saldo_nominatif  tunggakan_pokok  \\\n",
       "count           766.000000       766.000000     7.660000e+02     7.660000e+02   \n",
       "mean            873.968668       281.300261     2.007386e+06     7.900853e+05   \n",
       "std               1.460257       408.099019     8.711282e+06     4.139217e+06   \n",
       "min             834.000000         0.000000    -4.000000e+06     0.000000e+00   \n",
       "25%             874.000000         0.000000     5.337500e+05     9.885424e+04   \n",
       "50%             874.000000         0.000000     9.462828e+05     3.391669e+05   \n",
       "75%             874.000000       875.000000     1.639582e+06     7.500000e+05   \n",
       "max             876.000000       875.000000     2.094041e+08     9.161212e+07   \n",
       "\n",
       "       tunggakan_bunga  \n",
       "count     7.660000e+02  \n",
       "mean      8.771708e+04  \n",
       "std       5.682318e+05  \n",
       "min       0.000000e+00  \n",
       "25%       0.000000e+00  \n",
       "50%       0.000000e+00  \n",
       "75%       5.814889e+04  \n",
       "max       1.100000e+07  "
      ]
     },
     "execution_count": 257,
     "metadata": {},
     "output_type": "execute_result"
    }
   ],
   "source": [
    "df.describe()"
   ]
  },
  {
   "cell_type": "code",
   "execution_count": 258,
   "id": "788468e9",
   "metadata": {},
   "outputs": [
    {
     "data": {
      "text/plain": [
       "array(['MACET', 'LANCAR'], dtype=object)"
      ]
     },
     "execution_count": 258,
     "metadata": {},
     "output_type": "execute_result"
    }
   ],
   "source": [
    "df['status kredit'].unique()"
   ]
  },
  {
   "cell_type": "code",
   "execution_count": 259,
   "id": "2117bd39",
   "metadata": {},
   "outputs": [
    {
     "data": {
      "text/plain": [
       "array([ 4.000e+01,  3.100e+01,  3.700e+01,  2.000e+00,  3.400e+01,\n",
       "        4.900e+01,  2.700e+01,  4.200e+01,  2.600e+01,  3.500e+01,\n",
       "        5.500e+01,  3.800e+01,  3.900e+01,  4.100e+01,  2.900e+01,\n",
       "        5.000e+01,  3.600e+01,  5.700e+01,  5.800e+01,  4.300e+01,\n",
       "        4.400e+01,  5.200e+01,  4.600e+01,  2.800e+01,  4.700e+01,\n",
       "        3.200e+01,  5.600e+01,  4.800e+01,  4.500e+01,  3.000e+01,\n",
       "        6.700e+01,  2.500e+01,  2.100e+01,  3.300e+01,  2.300e+01,\n",
       "        1.900e+01,  3.000e+00,  5.300e+01,  5.100e+01,  0.000e+00,\n",
       "        5.400e+01,  6.100e+01, -4.200e+01,  1.000e+00,  2.400e+01,\n",
       "       -4.800e+01,  6.800e+01,  1.043e+03,  6.000e+01, -4.900e+01,\n",
       "        7.600e+01,  2.200e+01,  8.000e+01, -7.162e+03,        nan,\n",
       "       -4.700e+01,  6.500e+01, -4.400e+01,  6.400e+01])"
      ]
     },
     "execution_count": 259,
     "metadata": {},
     "output_type": "execute_result"
    }
   ],
   "source": [
    "df['umur'].unique()"
   ]
  },
  {
   "cell_type": "code",
   "execution_count": 260,
   "id": "11e90b61",
   "metadata": {},
   "outputs": [
    {
     "data": {
      "text/plain": [
       "22308.0"
      ]
     },
     "execution_count": 260,
     "metadata": {},
     "output_type": "execute_result"
    }
   ],
   "source": [
    "df['umur'].sum()"
   ]
  },
  {
   "cell_type": "code",
   "execution_count": 261,
   "id": "71c77db1",
   "metadata": {},
   "outputs": [
    {
     "data": {
      "text/plain": [
       "29.16078431372549"
      ]
     },
     "execution_count": 261,
     "metadata": {},
     "output_type": "execute_result"
    }
   ],
   "source": [
    "df['umur'].mean()"
   ]
  },
  {
   "cell_type": "code",
   "execution_count": 262,
   "id": "9625326e",
   "metadata": {},
   "outputs": [
    {
     "data": {
      "text/plain": [
       "38.0"
      ]
     },
     "execution_count": 262,
     "metadata": {},
     "output_type": "execute_result"
    }
   ],
   "source": [
    "df['umur'].median()"
   ]
  },
  {
   "cell_type": "code",
   "execution_count": 263,
   "id": "7672d7d3",
   "metadata": {},
   "outputs": [
    {
     "data": {
      "text/plain": [
       "0    40.0\n",
       "Name: umur, dtype: float64"
      ]
     },
     "execution_count": 263,
     "metadata": {},
     "output_type": "execute_result"
    }
   ],
   "source": [
    "df['umur'].mode()"
   ]
  },
  {
   "cell_type": "code",
   "execution_count": 264,
   "id": "1af2dbe8",
   "metadata": {},
   "outputs": [
    {
     "data": {
      "text/plain": [
       "-7162.0"
      ]
     },
     "execution_count": 264,
     "metadata": {},
     "output_type": "execute_result"
    }
   ],
   "source": [
    "df['umur'].min()"
   ]
  },
  {
   "cell_type": "code",
   "execution_count": 265,
   "id": "5a19a09c",
   "metadata": {},
   "outputs": [
    {
     "data": {
      "text/plain": [
       "1043.0"
      ]
     },
     "execution_count": 265,
     "metadata": {},
     "output_type": "execute_result"
    }
   ],
   "source": [
    "df['umur'].max()"
   ]
  },
  {
   "cell_type": "code",
   "execution_count": 266,
   "id": "3cac1397",
   "metadata": {},
   "outputs": [
    {
     "data": {
      "text/plain": [
       "263.16556417381685"
      ]
     },
     "execution_count": 266,
     "metadata": {},
     "output_type": "execute_result"
    }
   ],
   "source": [
    "df['umur'].std()"
   ]
  },
  {
   "cell_type": "code",
   "execution_count": 267,
   "id": "20966b23",
   "metadata": {},
   "outputs": [
    {
     "data": {
      "text/plain": [
       "69256.11416692332"
      ]
     },
     "execution_count": 267,
     "metadata": {},
     "output_type": "execute_result"
    }
   ],
   "source": [
    "df['umur'].var()"
   ]
  },
  {
   "cell_type": "code",
   "execution_count": 272,
   "id": "52473d76",
   "metadata": {},
   "outputs": [],
   "source": [
    "#mengaplikasikan fungsi ke suatu kolom"
   ]
  },
  {
   "cell_type": "code",
   "execution_count": 269,
   "id": "efeef03a",
   "metadata": {},
   "outputs": [],
   "source": [
    "def tambahkan_umur_2_tahun(umur):\n",
    "    return umur+2\n",
    "df['umur_plus_tahun'] = df['umur'].map(tambahkan_umur_2_tahun)"
   ]
  },
  {
   "cell_type": "code",
   "execution_count": 270,
   "id": "b2b762e1",
   "metadata": {
    "scrolled": true
   },
   "outputs": [
    {
     "data": {
      "text/html": [
       "<div>\n",
       "<style scoped>\n",
       "    .dataframe tbody tr th:only-of-type {\n",
       "        vertical-align: middle;\n",
       "    }\n",
       "\n",
       "    .dataframe tbody tr th {\n",
       "        vertical-align: top;\n",
       "    }\n",
       "\n",
       "    .dataframe thead th {\n",
       "        text-align: right;\n",
       "    }\n",
       "</style>\n",
       "<table border=\"1\" class=\"dataframe\">\n",
       "  <thead>\n",
       "    <tr style=\"text-align: right;\">\n",
       "      <th></th>\n",
       "      <th>umur</th>\n",
       "      <th>umur_plus_tahun</th>\n",
       "    </tr>\n",
       "  </thead>\n",
       "  <tbody>\n",
       "    <tr>\n",
       "      <th>0</th>\n",
       "      <td>40.0</td>\n",
       "      <td>42.0</td>\n",
       "    </tr>\n",
       "    <tr>\n",
       "      <th>1</th>\n",
       "      <td>31.0</td>\n",
       "      <td>33.0</td>\n",
       "    </tr>\n",
       "    <tr>\n",
       "      <th>2</th>\n",
       "      <td>37.0</td>\n",
       "      <td>39.0</td>\n",
       "    </tr>\n",
       "    <tr>\n",
       "      <th>3</th>\n",
       "      <td>2.0</td>\n",
       "      <td>4.0</td>\n",
       "    </tr>\n",
       "    <tr>\n",
       "      <th>4</th>\n",
       "      <td>34.0</td>\n",
       "      <td>36.0</td>\n",
       "    </tr>\n",
       "    <tr>\n",
       "      <th>...</th>\n",
       "      <td>...</td>\n",
       "      <td>...</td>\n",
       "    </tr>\n",
       "    <tr>\n",
       "      <th>761</th>\n",
       "      <td>38.0</td>\n",
       "      <td>40.0</td>\n",
       "    </tr>\n",
       "    <tr>\n",
       "      <th>762</th>\n",
       "      <td>36.0</td>\n",
       "      <td>38.0</td>\n",
       "    </tr>\n",
       "    <tr>\n",
       "      <th>763</th>\n",
       "      <td>28.0</td>\n",
       "      <td>30.0</td>\n",
       "    </tr>\n",
       "    <tr>\n",
       "      <th>764</th>\n",
       "      <td>31.0</td>\n",
       "      <td>33.0</td>\n",
       "    </tr>\n",
       "    <tr>\n",
       "      <th>765</th>\n",
       "      <td>36.0</td>\n",
       "      <td>38.0</td>\n",
       "    </tr>\n",
       "  </tbody>\n",
       "</table>\n",
       "<p>766 rows × 2 columns</p>\n",
       "</div>"
      ],
      "text/plain": [
       "     umur  umur_plus_tahun\n",
       "0    40.0             42.0\n",
       "1    31.0             33.0\n",
       "2    37.0             39.0\n",
       "3     2.0              4.0\n",
       "4    34.0             36.0\n",
       "..    ...              ...\n",
       "761  38.0             40.0\n",
       "762  36.0             38.0\n",
       "763  28.0             30.0\n",
       "764  31.0             33.0\n",
       "765  36.0             38.0\n",
       "\n",
       "[766 rows x 2 columns]"
      ]
     },
     "execution_count": 270,
     "metadata": {},
     "output_type": "execute_result"
    }
   ],
   "source": [
    "df[['umur', 'umur_plus_tahun']]"
   ]
  },
  {
   "cell_type": "code",
   "execution_count": 271,
   "id": "da87709f",
   "metadata": {},
   "outputs": [],
   "source": [
    "df['umur_plus_n_tahun'] = df['umur'].map(lambda umur: umur+3)"
   ]
  },
  {
   "cell_type": "code",
   "execution_count": 273,
   "id": "0b77abad",
   "metadata": {},
   "outputs": [
    {
     "data": {
      "text/html": [
       "<div>\n",
       "<style scoped>\n",
       "    .dataframe tbody tr th:only-of-type {\n",
       "        vertical-align: middle;\n",
       "    }\n",
       "\n",
       "    .dataframe tbody tr th {\n",
       "        vertical-align: top;\n",
       "    }\n",
       "\n",
       "    .dataframe thead th {\n",
       "        text-align: right;\n",
       "    }\n",
       "</style>\n",
       "<table border=\"1\" class=\"dataframe\">\n",
       "  <thead>\n",
       "    <tr style=\"text-align: right;\">\n",
       "      <th></th>\n",
       "      <th>umur</th>\n",
       "      <th>umur_plus_tahun</th>\n",
       "      <th>umur_plus_n_tahun</th>\n",
       "    </tr>\n",
       "  </thead>\n",
       "  <tbody>\n",
       "    <tr>\n",
       "      <th>0</th>\n",
       "      <td>40.0</td>\n",
       "      <td>42.0</td>\n",
       "      <td>43.0</td>\n",
       "    </tr>\n",
       "    <tr>\n",
       "      <th>1</th>\n",
       "      <td>31.0</td>\n",
       "      <td>33.0</td>\n",
       "      <td>34.0</td>\n",
       "    </tr>\n",
       "    <tr>\n",
       "      <th>2</th>\n",
       "      <td>37.0</td>\n",
       "      <td>39.0</td>\n",
       "      <td>40.0</td>\n",
       "    </tr>\n",
       "    <tr>\n",
       "      <th>3</th>\n",
       "      <td>2.0</td>\n",
       "      <td>4.0</td>\n",
       "      <td>5.0</td>\n",
       "    </tr>\n",
       "    <tr>\n",
       "      <th>4</th>\n",
       "      <td>34.0</td>\n",
       "      <td>36.0</td>\n",
       "      <td>37.0</td>\n",
       "    </tr>\n",
       "    <tr>\n",
       "      <th>...</th>\n",
       "      <td>...</td>\n",
       "      <td>...</td>\n",
       "      <td>...</td>\n",
       "    </tr>\n",
       "    <tr>\n",
       "      <th>761</th>\n",
       "      <td>38.0</td>\n",
       "      <td>40.0</td>\n",
       "      <td>41.0</td>\n",
       "    </tr>\n",
       "    <tr>\n",
       "      <th>762</th>\n",
       "      <td>36.0</td>\n",
       "      <td>38.0</td>\n",
       "      <td>39.0</td>\n",
       "    </tr>\n",
       "    <tr>\n",
       "      <th>763</th>\n",
       "      <td>28.0</td>\n",
       "      <td>30.0</td>\n",
       "      <td>31.0</td>\n",
       "    </tr>\n",
       "    <tr>\n",
       "      <th>764</th>\n",
       "      <td>31.0</td>\n",
       "      <td>33.0</td>\n",
       "      <td>34.0</td>\n",
       "    </tr>\n",
       "    <tr>\n",
       "      <th>765</th>\n",
       "      <td>36.0</td>\n",
       "      <td>38.0</td>\n",
       "      <td>39.0</td>\n",
       "    </tr>\n",
       "  </tbody>\n",
       "</table>\n",
       "<p>766 rows × 3 columns</p>\n",
       "</div>"
      ],
      "text/plain": [
       "     umur  umur_plus_tahun  umur_plus_n_tahun\n",
       "0    40.0             42.0               43.0\n",
       "1    31.0             33.0               34.0\n",
       "2    37.0             39.0               40.0\n",
       "3     2.0              4.0                5.0\n",
       "4    34.0             36.0               37.0\n",
       "..    ...              ...                ...\n",
       "761  38.0             40.0               41.0\n",
       "762  36.0             38.0               39.0\n",
       "763  28.0             30.0               31.0\n",
       "764  31.0             33.0               34.0\n",
       "765  36.0             38.0               39.0\n",
       "\n",
       "[766 rows x 3 columns]"
      ]
     },
     "execution_count": 273,
     "metadata": {},
     "output_type": "execute_result"
    }
   ],
   "source": [
    "df[['umur', 'umur_plus_tahun', 'umur_plus_n_tahun']]"
   ]
  },
  {
   "cell_type": "code",
   "execution_count": 274,
   "id": "6b5ed4a9",
   "metadata": {},
   "outputs": [
    {
     "data": {
      "text/plain": [
       "nama                      0\n",
       "jenis_kelamin             0\n",
       "umur                      1\n",
       "jumlah pinjaman           0\n",
       "jkw                       0\n",
       "jml_angsuran_per_bulan    0\n",
       "type_pinjaman             0\n",
       "jenis_pinjaman            0\n",
       "bi_sektor_ekonomi         1\n",
       "col                       0\n",
       "bi_golongan_debitur       0\n",
       "bi_gol_penjamin           0\n",
       "saldo_nominatif           0\n",
       "tunggakan_pokok           0\n",
       "tunggakan_bunga           0\n",
       "status kredit             0\n",
       "umur_plus_tahun           1\n",
       "umur_plus_n_tahun         1\n",
       "dtype: int64"
      ]
     },
     "execution_count": 274,
     "metadata": {},
     "output_type": "execute_result"
    }
   ],
   "source": [
    "df.isna().sum()"
   ]
  },
  {
   "cell_type": "code",
   "execution_count": 276,
   "id": "0bf641a1",
   "metadata": {},
   "outputs": [],
   "source": [
    "df3 = pd.DataFrame({'kolom_1': [1, 2, np.nan, np.nan, 1], 'kolom_2': ['a', 'b', np.nan, 'd', 'a']})"
   ]
  },
  {
   "cell_type": "code",
   "execution_count": 278,
   "id": "facba910",
   "metadata": {},
   "outputs": [
    {
     "data": {
      "text/html": [
       "<div>\n",
       "<style scoped>\n",
       "    .dataframe tbody tr th:only-of-type {\n",
       "        vertical-align: middle;\n",
       "    }\n",
       "\n",
       "    .dataframe tbody tr th {\n",
       "        vertical-align: top;\n",
       "    }\n",
       "\n",
       "    .dataframe thead th {\n",
       "        text-align: right;\n",
       "    }\n",
       "</style>\n",
       "<table border=\"1\" class=\"dataframe\">\n",
       "  <thead>\n",
       "    <tr style=\"text-align: right;\">\n",
       "      <th></th>\n",
       "      <th>kolom_1</th>\n",
       "      <th>kolom_2</th>\n",
       "    </tr>\n",
       "  </thead>\n",
       "  <tbody>\n",
       "    <tr>\n",
       "      <th>0</th>\n",
       "      <td>1.0</td>\n",
       "      <td>a</td>\n",
       "    </tr>\n",
       "    <tr>\n",
       "      <th>1</th>\n",
       "      <td>2.0</td>\n",
       "      <td>b</td>\n",
       "    </tr>\n",
       "    <tr>\n",
       "      <th>2</th>\n",
       "      <td>NaN</td>\n",
       "      <td>NaN</td>\n",
       "    </tr>\n",
       "    <tr>\n",
       "      <th>3</th>\n",
       "      <td>NaN</td>\n",
       "      <td>d</td>\n",
       "    </tr>\n",
       "    <tr>\n",
       "      <th>4</th>\n",
       "      <td>1.0</td>\n",
       "      <td>a</td>\n",
       "    </tr>\n",
       "  </tbody>\n",
       "</table>\n",
       "</div>"
      ],
      "text/plain": [
       "   kolom_1 kolom_2\n",
       "0      1.0       a\n",
       "1      2.0       b\n",
       "2      NaN     NaN\n",
       "3      NaN       d\n",
       "4      1.0       a"
      ]
     },
     "execution_count": 278,
     "metadata": {},
     "output_type": "execute_result"
    }
   ],
   "source": [
    "df3"
   ]
  },
  {
   "cell_type": "code",
   "execution_count": 279,
   "id": "5186d806",
   "metadata": {},
   "outputs": [
    {
     "data": {
      "text/html": [
       "<div>\n",
       "<style scoped>\n",
       "    .dataframe tbody tr th:only-of-type {\n",
       "        vertical-align: middle;\n",
       "    }\n",
       "\n",
       "    .dataframe tbody tr th {\n",
       "        vertical-align: top;\n",
       "    }\n",
       "\n",
       "    .dataframe thead th {\n",
       "        text-align: right;\n",
       "    }\n",
       "</style>\n",
       "<table border=\"1\" class=\"dataframe\">\n",
       "  <thead>\n",
       "    <tr style=\"text-align: right;\">\n",
       "      <th></th>\n",
       "      <th>kolom_1</th>\n",
       "      <th>kolom_2</th>\n",
       "    </tr>\n",
       "  </thead>\n",
       "  <tbody>\n",
       "    <tr>\n",
       "      <th>0</th>\n",
       "      <td>1.0</td>\n",
       "      <td>a</td>\n",
       "    </tr>\n",
       "    <tr>\n",
       "      <th>1</th>\n",
       "      <td>2.0</td>\n",
       "      <td>b</td>\n",
       "    </tr>\n",
       "    <tr>\n",
       "      <th>4</th>\n",
       "      <td>1.0</td>\n",
       "      <td>a</td>\n",
       "    </tr>\n",
       "  </tbody>\n",
       "</table>\n",
       "</div>"
      ],
      "text/plain": [
       "   kolom_1 kolom_2\n",
       "0      1.0       a\n",
       "1      2.0       b\n",
       "4      1.0       a"
      ]
     },
     "execution_count": 279,
     "metadata": {},
     "output_type": "execute_result"
    }
   ],
   "source": [
    "df3.dropna()"
   ]
  },
  {
   "cell_type": "code",
   "execution_count": 283,
   "id": "654dcc60",
   "metadata": {},
   "outputs": [
    {
     "data": {
      "text/html": [
       "<div>\n",
       "<style scoped>\n",
       "    .dataframe tbody tr th:only-of-type {\n",
       "        vertical-align: middle;\n",
       "    }\n",
       "\n",
       "    .dataframe tbody tr th {\n",
       "        vertical-align: top;\n",
       "    }\n",
       "\n",
       "    .dataframe thead th {\n",
       "        text-align: right;\n",
       "    }\n",
       "</style>\n",
       "<table border=\"1\" class=\"dataframe\">\n",
       "  <thead>\n",
       "    <tr style=\"text-align: right;\">\n",
       "      <th></th>\n",
       "      <th>kolom_1</th>\n",
       "      <th>kolom_2</th>\n",
       "    </tr>\n",
       "  </thead>\n",
       "  <tbody>\n",
       "    <tr>\n",
       "      <th>0</th>\n",
       "      <td>1.0</td>\n",
       "      <td>a</td>\n",
       "    </tr>\n",
       "    <tr>\n",
       "      <th>1</th>\n",
       "      <td>2.0</td>\n",
       "      <td>b</td>\n",
       "    </tr>\n",
       "    <tr>\n",
       "      <th>3</th>\n",
       "      <td>NaN</td>\n",
       "      <td>d</td>\n",
       "    </tr>\n",
       "    <tr>\n",
       "      <th>4</th>\n",
       "      <td>1.0</td>\n",
       "      <td>a</td>\n",
       "    </tr>\n",
       "  </tbody>\n",
       "</table>\n",
       "</div>"
      ],
      "text/plain": [
       "   kolom_1 kolom_2\n",
       "0      1.0       a\n",
       "1      2.0       b\n",
       "3      NaN       d\n",
       "4      1.0       a"
      ]
     },
     "execution_count": 283,
     "metadata": {},
     "output_type": "execute_result"
    }
   ],
   "source": [
    "df3.dropna(subset=['kolom_2'])"
   ]
  },
  {
   "cell_type": "code",
   "execution_count": 282,
   "id": "79e64960",
   "metadata": {},
   "outputs": [
    {
     "data": {
      "text/html": [
       "<div>\n",
       "<style scoped>\n",
       "    .dataframe tbody tr th:only-of-type {\n",
       "        vertical-align: middle;\n",
       "    }\n",
       "\n",
       "    .dataframe tbody tr th {\n",
       "        vertical-align: top;\n",
       "    }\n",
       "\n",
       "    .dataframe thead th {\n",
       "        text-align: right;\n",
       "    }\n",
       "</style>\n",
       "<table border=\"1\" class=\"dataframe\">\n",
       "  <thead>\n",
       "    <tr style=\"text-align: right;\">\n",
       "      <th></th>\n",
       "      <th>kolom_1</th>\n",
       "      <th>kolom_2</th>\n",
       "    </tr>\n",
       "  </thead>\n",
       "  <tbody>\n",
       "    <tr>\n",
       "      <th>0</th>\n",
       "      <td>1.0</td>\n",
       "      <td>a</td>\n",
       "    </tr>\n",
       "    <tr>\n",
       "      <th>1</th>\n",
       "      <td>2.0</td>\n",
       "      <td>b</td>\n",
       "    </tr>\n",
       "    <tr>\n",
       "      <th>3</th>\n",
       "      <td>NaN</td>\n",
       "      <td>d</td>\n",
       "    </tr>\n",
       "    <tr>\n",
       "      <th>4</th>\n",
       "      <td>1.0</td>\n",
       "      <td>a</td>\n",
       "    </tr>\n",
       "  </tbody>\n",
       "</table>\n",
       "</div>"
      ],
      "text/plain": [
       "   kolom_1 kolom_2\n",
       "0      1.0       a\n",
       "1      2.0       b\n",
       "3      NaN       d\n",
       "4      1.0       a"
      ]
     },
     "execution_count": 282,
     "metadata": {},
     "output_type": "execute_result"
    }
   ],
   "source": [
    "df3.dropna(subset=['kolom_1', 'kolom_2'], how='all')"
   ]
  },
  {
   "cell_type": "code",
   "execution_count": 284,
   "id": "5fb52b5e",
   "metadata": {},
   "outputs": [
    {
     "data": {
      "text/html": [
       "<div>\n",
       "<style scoped>\n",
       "    .dataframe tbody tr th:only-of-type {\n",
       "        vertical-align: middle;\n",
       "    }\n",
       "\n",
       "    .dataframe tbody tr th {\n",
       "        vertical-align: top;\n",
       "    }\n",
       "\n",
       "    .dataframe thead th {\n",
       "        text-align: right;\n",
       "    }\n",
       "</style>\n",
       "<table border=\"1\" class=\"dataframe\">\n",
       "  <thead>\n",
       "    <tr style=\"text-align: right;\">\n",
       "      <th></th>\n",
       "      <th>kolom_1</th>\n",
       "      <th>kolom_2</th>\n",
       "    </tr>\n",
       "  </thead>\n",
       "  <tbody>\n",
       "    <tr>\n",
       "      <th>0</th>\n",
       "      <td>1.0</td>\n",
       "      <td>a</td>\n",
       "    </tr>\n",
       "    <tr>\n",
       "      <th>1</th>\n",
       "      <td>2.0</td>\n",
       "      <td>b</td>\n",
       "    </tr>\n",
       "    <tr>\n",
       "      <th>4</th>\n",
       "      <td>1.0</td>\n",
       "      <td>a</td>\n",
       "    </tr>\n",
       "  </tbody>\n",
       "</table>\n",
       "</div>"
      ],
      "text/plain": [
       "   kolom_1 kolom_2\n",
       "0      1.0       a\n",
       "1      2.0       b\n",
       "4      1.0       a"
      ]
     },
     "execution_count": 284,
     "metadata": {},
     "output_type": "execute_result"
    }
   ],
   "source": [
    "df3.dropna(subset=['kolom_1', 'kolom_2'], how='any')"
   ]
  },
  {
   "cell_type": "code",
   "execution_count": 285,
   "id": "9200b651",
   "metadata": {},
   "outputs": [
    {
     "data": {
      "text/html": [
       "<div>\n",
       "<style scoped>\n",
       "    .dataframe tbody tr th:only-of-type {\n",
       "        vertical-align: middle;\n",
       "    }\n",
       "\n",
       "    .dataframe tbody tr th {\n",
       "        vertical-align: top;\n",
       "    }\n",
       "\n",
       "    .dataframe thead th {\n",
       "        text-align: right;\n",
       "    }\n",
       "</style>\n",
       "<table border=\"1\" class=\"dataframe\">\n",
       "  <thead>\n",
       "    <tr style=\"text-align: right;\">\n",
       "      <th></th>\n",
       "      <th>kolom_1</th>\n",
       "      <th>kolom_2</th>\n",
       "    </tr>\n",
       "  </thead>\n",
       "  <tbody>\n",
       "    <tr>\n",
       "      <th>0</th>\n",
       "      <td>1.0</td>\n",
       "      <td>a</td>\n",
       "    </tr>\n",
       "    <tr>\n",
       "      <th>1</th>\n",
       "      <td>2.0</td>\n",
       "      <td>b</td>\n",
       "    </tr>\n",
       "    <tr>\n",
       "      <th>2</th>\n",
       "      <td>NaN</td>\n",
       "      <td>NaN</td>\n",
       "    </tr>\n",
       "    <tr>\n",
       "      <th>3</th>\n",
       "      <td>NaN</td>\n",
       "      <td>d</td>\n",
       "    </tr>\n",
       "    <tr>\n",
       "      <th>4</th>\n",
       "      <td>1.0</td>\n",
       "      <td>a</td>\n",
       "    </tr>\n",
       "  </tbody>\n",
       "</table>\n",
       "</div>"
      ],
      "text/plain": [
       "   kolom_1 kolom_2\n",
       "0      1.0       a\n",
       "1      2.0       b\n",
       "2      NaN     NaN\n",
       "3      NaN       d\n",
       "4      1.0       a"
      ]
     },
     "execution_count": 285,
     "metadata": {},
     "output_type": "execute_result"
    }
   ],
   "source": [
    "df3"
   ]
  },
  {
   "cell_type": "code",
   "execution_count": 286,
   "id": "6932f2dd",
   "metadata": {},
   "outputs": [
    {
     "data": {
      "text/html": [
       "<div>\n",
       "<style scoped>\n",
       "    .dataframe tbody tr th:only-of-type {\n",
       "        vertical-align: middle;\n",
       "    }\n",
       "\n",
       "    .dataframe tbody tr th {\n",
       "        vertical-align: top;\n",
       "    }\n",
       "\n",
       "    .dataframe thead th {\n",
       "        text-align: right;\n",
       "    }\n",
       "</style>\n",
       "<table border=\"1\" class=\"dataframe\">\n",
       "  <thead>\n",
       "    <tr style=\"text-align: right;\">\n",
       "      <th></th>\n",
       "      <th>kolom_1</th>\n",
       "      <th>kolom_2</th>\n",
       "    </tr>\n",
       "  </thead>\n",
       "  <tbody>\n",
       "    <tr>\n",
       "      <th>0</th>\n",
       "      <td>1.0</td>\n",
       "      <td>a</td>\n",
       "    </tr>\n",
       "    <tr>\n",
       "      <th>1</th>\n",
       "      <td>2.0</td>\n",
       "      <td>b</td>\n",
       "    </tr>\n",
       "    <tr>\n",
       "      <th>2</th>\n",
       "      <td>NaN</td>\n",
       "      <td>NaN</td>\n",
       "    </tr>\n",
       "    <tr>\n",
       "      <th>3</th>\n",
       "      <td>NaN</td>\n",
       "      <td>d</td>\n",
       "    </tr>\n",
       "  </tbody>\n",
       "</table>\n",
       "</div>"
      ],
      "text/plain": [
       "   kolom_1 kolom_2\n",
       "0      1.0       a\n",
       "1      2.0       b\n",
       "2      NaN     NaN\n",
       "3      NaN       d"
      ]
     },
     "execution_count": 286,
     "metadata": {},
     "output_type": "execute_result"
    }
   ],
   "source": [
    "df3.drop_duplicates()"
   ]
  },
  {
   "cell_type": "code",
   "execution_count": 287,
   "id": "6fd162d1",
   "metadata": {},
   "outputs": [
    {
     "data": {
      "text/html": [
       "<div>\n",
       "<style scoped>\n",
       "    .dataframe tbody tr th:only-of-type {\n",
       "        vertical-align: middle;\n",
       "    }\n",
       "\n",
       "    .dataframe tbody tr th {\n",
       "        vertical-align: top;\n",
       "    }\n",
       "\n",
       "    .dataframe thead th {\n",
       "        text-align: right;\n",
       "    }\n",
       "</style>\n",
       "<table border=\"1\" class=\"dataframe\">\n",
       "  <thead>\n",
       "    <tr style=\"text-align: right;\">\n",
       "      <th></th>\n",
       "      <th>kolom_1</th>\n",
       "      <th>kolom_2</th>\n",
       "    </tr>\n",
       "  </thead>\n",
       "  <tbody>\n",
       "    <tr>\n",
       "      <th>0</th>\n",
       "      <td>1.0</td>\n",
       "      <td>a</td>\n",
       "    </tr>\n",
       "    <tr>\n",
       "      <th>1</th>\n",
       "      <td>2.0</td>\n",
       "      <td>b</td>\n",
       "    </tr>\n",
       "    <tr>\n",
       "      <th>2</th>\n",
       "      <td>NaN</td>\n",
       "      <td>NaN</td>\n",
       "    </tr>\n",
       "  </tbody>\n",
       "</table>\n",
       "</div>"
      ],
      "text/plain": [
       "   kolom_1 kolom_2\n",
       "0      1.0       a\n",
       "1      2.0       b\n",
       "2      NaN     NaN"
      ]
     },
     "execution_count": 287,
     "metadata": {},
     "output_type": "execute_result"
    }
   ],
   "source": [
    "df3.drop_duplicates(subset=['kolom_1'])"
   ]
  },
  {
   "cell_type": "markdown",
   "id": "dcb05307",
   "metadata": {},
   "source": [
    "## Exercise"
   ]
  },
  {
   "cell_type": "markdown",
   "id": "ff630f56",
   "metadata": {},
   "source": [
    "1. Load data **data_for_pandas_exercise.xlsx** menjadi DataFrame.\n",
    "2. Tampilkan 3 baris terakhir dari DataFrame.\n",
    "3. Isi nilai yang hilang/missing values dalam kolom **Umur** dengan median umur.\n",
    "4. Tampilkan statistik ringkasan untuk kolom **Umur**.\n",
    "5. Pilih dan tampilkan hanya baris-baris di mana **Umur** kurang dari 30.\n",
    "6. Pilih dan tampilkan hanya baris-baris di mana **Nama** berwalan huruf P atau Q dan **Umur** dari 20 - 30 tahun\n",
    "7. Hitung jumlah kemunculan masing-masing nilai unik dalam kolom **Kota**.\n",
    "8. Tambahkan kolom baru bernama **Jenis Kelamin** dengan nilai acak \"Laki-laki\" dan \"Perempuan\".\n",
    "9. Ganti nama kolom **Kota** menjadi **Lokasi**.\n",
    "10. Urutkan DataFrame berdasarkan **Umur** secara menaik.\n",
    "11. Ganti semua nilai \"New York\" dalam kolom **Lokasi** dengan \"NYC\".\n",
    "12. Kelompokkan DataFrame berdasarkan **Lokasi** dan hitung median **Umur** di setiap kelompok. (hint: pelajari groupby dan agg/aggreate)\n",
    "13. Buat DataFrame baru hanya dengan baris-baris di mana **Umur** ganjil.\n",
    "14. Simpan DataFrame yang sudah dimodifikasi menjadi file CSV baru.\n",
    "15. Terapkan fungsi yang mengonversi nama-nama dalam kolom **Nama** menjadi huruf kecil.\n",
    "16. Hitung persentil ke-25 dari kolom **Umur**.\n",
    "17. Hitung dan tampilkan rata-rata umur untuk setiap kombinasi unik **Lokasi** dan **Jenis Kelamin**. (hint: pelajari groupby dan agg/aggreate)\n",
    "18. Hapus baris-baris duplikat berdasarkan kolom **Lokasi**.\n",
    "19. Gunakan fungsi `apply` untuk mengubah semua nilai **Umur** menjadi string.\n",
    "20. Hitung dan tampilkan usia maksimum untuk setiap **Lokasi**.\n",
    "21. Ganti semua kemunculan \"Chicago\" dalam kolom Lokasi dengan \"CHI\".\n",
    "22. Hitung persentase masing-masing nilai unik dalam kolom Lokasi."
   ]
  },
  {
   "cell_type": "code",
   "execution_count": null,
   "id": "cb3e043f",
   "metadata": {},
   "outputs": [],
   "source": []
  }
 ],
 "metadata": {
  "kernelspec": {
   "display_name": "Python [conda env:root]",
   "language": "python",
   "name": "conda-root-py"
  },
  "language_info": {
   "codemirror_mode": {
    "name": "ipython",
    "version": 3
   },
   "file_extension": ".py",
   "mimetype": "text/x-python",
   "name": "python",
   "nbconvert_exporter": "python",
   "pygments_lexer": "ipython3",
   "version": "3.10.9"
  }
 },
 "nbformat": 4,
 "nbformat_minor": 5
}
