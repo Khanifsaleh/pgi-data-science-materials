{
 "cells": [
  {
   "cell_type": "code",
   "execution_count": 1,
   "id": "a2ea5c6a-88f9-46c3-bc27-63400cae9208",
   "metadata": {},
   "outputs": [],
   "source": [
    "def generate_fibonacci(bilangan_pertama, bilangan_kedua, panjang_deret):\n",
    "    deret_fibonacci = [bilangan_pertama, bilangan_kedua]\n",
    "    \n",
    "    for _ in range(panjang_deret - 2):\n",
    "        next_number = deret_fibonacci[-1] + deret_fibonacci[-2]\n",
    "        deret_fibonacci.append(next_number)\n",
    "    \n",
    "    return deret_fibonacci"
   ]
  },
  {
   "cell_type": "code",
   "execution_count": 2,
   "id": "309a3441-a355-431c-8d3e-2ff17b10a6ad",
   "metadata": {},
   "outputs": [
    {
     "name": "stdout",
     "output_type": "stream",
     "text": [
      "[0, 1, 1, 2, 3, 5, 8, 13, 21, 34]\n"
     ]
    }
   ],
   "source": [
    "bilangan_pertama = 0\n",
    "bilangan_kedua = 1\n",
    "panjang_deret = 10\n",
    "\n",
    "hasil_deret = generate_fibonacci(bilangan_pertama, bilangan_kedua, panjang_deret)\n",
    "print(hasil_deret)"
   ]
  },
  {
   "cell_type": "code",
   "execution_count": 8,
   "id": "cab6b337-a673-4149-8639-84c70625cbb4",
   "metadata": {},
   "outputs": [],
   "source": [
    "def count_occurrences(batas_bawah, batas_atas, angka):\n",
    "    angka_tersebut = []\n",
    "    \n",
    "    for num in range(batas_bawah, batas_atas + 1):\n",
    "        angka_str = str(num)\n",
    "        if str(angka) in angka_str:\n",
    "            angka_tersebut.append(num)\n",
    "    \n",
    "    jumlah_kemunculan = len(angka_tersebut)\n",
    "    \n",
    "    return angka_tersebut, jumlah_kemunculan"
   ]
  },
  {
   "cell_type": "code",
   "execution_count": 9,
   "id": "ecf465f5-7786-41fb-90da-14d0bb3b4097",
   "metadata": {},
   "outputs": [
    {
     "name": "stdout",
     "output_type": "stream",
     "text": [
      "Angka muncul pada posisi: [2, 12, 20, 21, 22, 23, 24, 25, 26, 27, 28, 29]\n",
      "Jumlah kemunculan: 12\n"
     ]
    }
   ],
   "source": [
    "batas_bawah = 1\n",
    "batas_atas = 30\n",
    "angka = 2\n",
    "\n",
    "angka_tersebut, jumlah_kemunculan = count_occurrences(batas_bawah, batas_atas, angka)\n",
    "print(\"Angka muncul pada posisi:\", angka_tersebut)\n",
    "print(\"Jumlah kemunculan:\", jumlah_kemunculan)"
   ]
  },
  {
   "cell_type": "code",
   "execution_count": null,
   "id": "ddfc45db-8f93-4203-b321-a96a291d81c1",
   "metadata": {},
   "outputs": [],
   "source": []
  }
 ],
 "metadata": {
  "kernelspec": {
   "display_name": "Python 3 (ipykernel)",
   "language": "python",
   "name": "python3"
  },
  "language_info": {
   "codemirror_mode": {
    "name": "ipython",
    "version": 3
   },
   "file_extension": ".py",
   "mimetype": "text/x-python",
   "name": "python",
   "nbconvert_exporter": "python",
   "pygments_lexer": "ipython3",
   "version": "3.8.0"
  }
 },
 "nbformat": 4,
 "nbformat_minor": 5
}
