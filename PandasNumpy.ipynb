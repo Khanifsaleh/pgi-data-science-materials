{
 "cells": [
  {
   "cell_type": "code",
   "execution_count": 1,
   "id": "e5ab0f0b-f49a-4541-9099-070cbbd50613",
   "metadata": {},
   "outputs": [],
   "source": [
    "import pandas as pd"
   ]
  },
  {
   "cell_type": "code",
   "execution_count": 2,
   "id": "d77c60cd-f758-42aa-82a8-af16c6b392d8",
   "metadata": {},
   "outputs": [],
   "source": [
    "import numpy as np"
   ]
  },
  {
   "cell_type": "code",
   "execution_count": 3,
   "id": "a00c3dba-172b-4ed5-a3d7-1155874733b2",
   "metadata": {},
   "outputs": [],
   "source": [
    "import random"
   ]
  },
  {
   "cell_type": "code",
   "execution_count": 4,
   "id": "bdf27eb4-4a8f-4ffc-9b1b-85fbfc3d1a85",
   "metadata": {},
   "outputs": [],
   "source": [
    "import os as os"
   ]
  },
  {
   "cell_type": "markdown",
   "id": "3922fe20-9744-44cd-b8f9-b8fb0124f61d",
   "metadata": {},
   "source": [
    "# 1. Load data data_for_pandas_exercise.xlsx menjadi DataFrame."
   ]
  },
  {
   "cell_type": "code",
   "execution_count": 5,
   "id": "eba01e17-2588-4d3e-bb29-36b8f1b21458",
   "metadata": {},
   "outputs": [],
   "source": [
    "downloads_dir = os.path.expanduser(\"~\")\n",
    "downloads_file_path = os.path.join(downloads_dir, 'Downloads', 'data_for_pandas_exercise.xlsx')\n",
    "\n",
    "df = pd.read_excel(downloads_file_path)"
   ]
  },
  {
   "cell_type": "code",
   "execution_count": 6,
   "id": "54f458ad-bbd5-4241-8daa-d6af1b4678bb",
   "metadata": {
    "scrolled": true
   },
   "outputs": [
    {
     "data": {
      "text/html": [
       "<div>\n",
       "<style scoped>\n",
       "    .dataframe tbody tr th:only-of-type {\n",
       "        vertical-align: middle;\n",
       "    }\n",
       "\n",
       "    .dataframe tbody tr th {\n",
       "        vertical-align: top;\n",
       "    }\n",
       "\n",
       "    .dataframe thead th {\n",
       "        text-align: right;\n",
       "    }\n",
       "</style>\n",
       "<table border=\"1\" class=\"dataframe\">\n",
       "  <thead>\n",
       "    <tr style=\"text-align: right;\">\n",
       "      <th></th>\n",
       "      <th>Nama</th>\n",
       "      <th>Umur</th>\n",
       "      <th>Kota</th>\n",
       "    </tr>\n",
       "  </thead>\n",
       "  <tbody>\n",
       "    <tr>\n",
       "      <th>0</th>\n",
       "      <td>Alice</td>\n",
       "      <td>25.0</td>\n",
       "      <td>New York</td>\n",
       "    </tr>\n",
       "    <tr>\n",
       "      <th>1</th>\n",
       "      <td>Bob</td>\n",
       "      <td>30.0</td>\n",
       "      <td>Los Angeles</td>\n",
       "    </tr>\n",
       "    <tr>\n",
       "      <th>2</th>\n",
       "      <td>Charlie</td>\n",
       "      <td>22.0</td>\n",
       "      <td>Chicago</td>\n",
       "    </tr>\n",
       "    <tr>\n",
       "      <th>3</th>\n",
       "      <td>David</td>\n",
       "      <td>27.0</td>\n",
       "      <td>Houston</td>\n",
       "    </tr>\n",
       "    <tr>\n",
       "      <th>4</th>\n",
       "      <td>Emma</td>\n",
       "      <td>29.0</td>\n",
       "      <td>Miami</td>\n",
       "    </tr>\n",
       "    <tr>\n",
       "      <th>5</th>\n",
       "      <td>Frank</td>\n",
       "      <td>NaN</td>\n",
       "      <td>Seattle</td>\n",
       "    </tr>\n",
       "    <tr>\n",
       "      <th>6</th>\n",
       "      <td>Grace</td>\n",
       "      <td>20.0</td>\n",
       "      <td>Boston</td>\n",
       "    </tr>\n",
       "    <tr>\n",
       "      <th>7</th>\n",
       "      <td>Henry</td>\n",
       "      <td>45.0</td>\n",
       "      <td>Dallas</td>\n",
       "    </tr>\n",
       "    <tr>\n",
       "      <th>8</th>\n",
       "      <td>Isabella</td>\n",
       "      <td>31.0</td>\n",
       "      <td>San Francisco</td>\n",
       "    </tr>\n",
       "    <tr>\n",
       "      <th>9</th>\n",
       "      <td>Jack</td>\n",
       "      <td>28.0</td>\n",
       "      <td>Austin</td>\n",
       "    </tr>\n",
       "    <tr>\n",
       "      <th>10</th>\n",
       "      <td>Kate</td>\n",
       "      <td>24.0</td>\n",
       "      <td>Denver</td>\n",
       "    </tr>\n",
       "    <tr>\n",
       "      <th>11</th>\n",
       "      <td>Liam</td>\n",
       "      <td>35.0</td>\n",
       "      <td>Phoenix</td>\n",
       "    </tr>\n",
       "    <tr>\n",
       "      <th>12</th>\n",
       "      <td>Mia</td>\n",
       "      <td>26.0</td>\n",
       "      <td>Philadelphia</td>\n",
       "    </tr>\n",
       "    <tr>\n",
       "      <th>13</th>\n",
       "      <td>Noah</td>\n",
       "      <td>32.0</td>\n",
       "      <td>San Diego</td>\n",
       "    </tr>\n",
       "    <tr>\n",
       "      <th>14</th>\n",
       "      <td>Olivia</td>\n",
       "      <td>36.0</td>\n",
       "      <td>Washington</td>\n",
       "    </tr>\n",
       "    <tr>\n",
       "      <th>15</th>\n",
       "      <td>Peter</td>\n",
       "      <td>21.0</td>\n",
       "      <td>Atlanta</td>\n",
       "    </tr>\n",
       "    <tr>\n",
       "      <th>16</th>\n",
       "      <td>Quinn</td>\n",
       "      <td>23.0</td>\n",
       "      <td>Portland</td>\n",
       "    </tr>\n",
       "    <tr>\n",
       "      <th>17</th>\n",
       "      <td>Rachel</td>\n",
       "      <td>38.0</td>\n",
       "      <td>Baltimore</td>\n",
       "    </tr>\n",
       "    <tr>\n",
       "      <th>18</th>\n",
       "      <td>Samuel</td>\n",
       "      <td>19.0</td>\n",
       "      <td>Las Vegas</td>\n",
       "    </tr>\n",
       "    <tr>\n",
       "      <th>19</th>\n",
       "      <td>Taylor</td>\n",
       "      <td>34.0</td>\n",
       "      <td>Nashville</td>\n",
       "    </tr>\n",
       "    <tr>\n",
       "      <th>20</th>\n",
       "      <td>Ursula</td>\n",
       "      <td>37.0</td>\n",
       "      <td>Minneapolis</td>\n",
       "    </tr>\n",
       "    <tr>\n",
       "      <th>21</th>\n",
       "      <td>Victor</td>\n",
       "      <td>40.0</td>\n",
       "      <td>New Orleans</td>\n",
       "    </tr>\n",
       "    <tr>\n",
       "      <th>22</th>\n",
       "      <td>Wendy</td>\n",
       "      <td>39.0</td>\n",
       "      <td>Orlando</td>\n",
       "    </tr>\n",
       "    <tr>\n",
       "      <th>23</th>\n",
       "      <td>Xavier</td>\n",
       "      <td>42.0</td>\n",
       "      <td>Salt Lake City</td>\n",
       "    </tr>\n",
       "    <tr>\n",
       "      <th>24</th>\n",
       "      <td>Yara</td>\n",
       "      <td>43.0</td>\n",
       "      <td>Tampa</td>\n",
       "    </tr>\n",
       "    <tr>\n",
       "      <th>25</th>\n",
       "      <td>Zachary</td>\n",
       "      <td>44.0</td>\n",
       "      <td>Albuquerque</td>\n",
       "    </tr>\n",
       "    <tr>\n",
       "      <th>26</th>\n",
       "      <td>Ava</td>\n",
       "      <td>18.0</td>\n",
       "      <td>Detroit</td>\n",
       "    </tr>\n",
       "    <tr>\n",
       "      <th>27</th>\n",
       "      <td>Benjamin</td>\n",
       "      <td>NaN</td>\n",
       "      <td>Charlotte</td>\n",
       "    </tr>\n",
       "    <tr>\n",
       "      <th>28</th>\n",
       "      <td>Chloe</td>\n",
       "      <td>27.0</td>\n",
       "      <td>Indianapolis</td>\n",
       "    </tr>\n",
       "    <tr>\n",
       "      <th>29</th>\n",
       "      <td>Daniel</td>\n",
       "      <td>25.0</td>\n",
       "      <td>Columbus</td>\n",
       "    </tr>\n",
       "    <tr>\n",
       "      <th>30</th>\n",
       "      <td>Emily</td>\n",
       "      <td>22.0</td>\n",
       "      <td>Jacksonville</td>\n",
       "    </tr>\n",
       "    <tr>\n",
       "      <th>31</th>\n",
       "      <td>Fiona</td>\n",
       "      <td>31.0</td>\n",
       "      <td>Kansas City</td>\n",
       "    </tr>\n",
       "    <tr>\n",
       "      <th>32</th>\n",
       "      <td>George</td>\n",
       "      <td>30.0</td>\n",
       "      <td>Milwaukee</td>\n",
       "    </tr>\n",
       "    <tr>\n",
       "      <th>33</th>\n",
       "      <td>Hannah</td>\n",
       "      <td>24.0</td>\n",
       "      <td>Oklahoma City</td>\n",
       "    </tr>\n",
       "    <tr>\n",
       "      <th>34</th>\n",
       "      <td>Isaac</td>\n",
       "      <td>NaN</td>\n",
       "      <td>Memphis</td>\n",
       "    </tr>\n",
       "    <tr>\n",
       "      <th>35</th>\n",
       "      <td>Julia</td>\n",
       "      <td>26.0</td>\n",
       "      <td>Louisville</td>\n",
       "    </tr>\n",
       "    <tr>\n",
       "      <th>36</th>\n",
       "      <td>Kevin</td>\n",
       "      <td>21.0</td>\n",
       "      <td>Omaha</td>\n",
       "    </tr>\n",
       "    <tr>\n",
       "      <th>37</th>\n",
       "      <td>Lily</td>\n",
       "      <td>33.0</td>\n",
       "      <td>Raleigh</td>\n",
       "    </tr>\n",
       "    <tr>\n",
       "      <th>38</th>\n",
       "      <td>Matthew</td>\n",
       "      <td>35.0</td>\n",
       "      <td>Cleveland</td>\n",
       "    </tr>\n",
       "    <tr>\n",
       "      <th>39</th>\n",
       "      <td>Nora</td>\n",
       "      <td>37.0</td>\n",
       "      <td>Pittsburgh</td>\n",
       "    </tr>\n",
       "    <tr>\n",
       "      <th>40</th>\n",
       "      <td>Oscar</td>\n",
       "      <td>39.0</td>\n",
       "      <td>Cincinnati</td>\n",
       "    </tr>\n",
       "    <tr>\n",
       "      <th>41</th>\n",
       "      <td>Penelope</td>\n",
       "      <td>41.0</td>\n",
       "      <td>Buffalo</td>\n",
       "    </tr>\n",
       "    <tr>\n",
       "      <th>42</th>\n",
       "      <td>Quincy</td>\n",
       "      <td>20.0</td>\n",
       "      <td>Hartford</td>\n",
       "    </tr>\n",
       "    <tr>\n",
       "      <th>43</th>\n",
       "      <td>Rebecca</td>\n",
       "      <td>42.0</td>\n",
       "      <td>Richmond</td>\n",
       "    </tr>\n",
       "    <tr>\n",
       "      <th>44</th>\n",
       "      <td>Stephen</td>\n",
       "      <td>36.0</td>\n",
       "      <td>Austin</td>\n",
       "    </tr>\n",
       "    <tr>\n",
       "      <th>45</th>\n",
       "      <td>Tara</td>\n",
       "      <td>32.0</td>\n",
       "      <td>San Antonio</td>\n",
       "    </tr>\n",
       "    <tr>\n",
       "      <th>46</th>\n",
       "      <td>Ulysses</td>\n",
       "      <td>34.0</td>\n",
       "      <td>San Jose</td>\n",
       "    </tr>\n",
       "    <tr>\n",
       "      <th>47</th>\n",
       "      <td>Violet</td>\n",
       "      <td>38.0</td>\n",
       "      <td>Sacramento</td>\n",
       "    </tr>\n",
       "    <tr>\n",
       "      <th>48</th>\n",
       "      <td>William</td>\n",
       "      <td>23.0</td>\n",
       "      <td>Anchorage</td>\n",
       "    </tr>\n",
       "    <tr>\n",
       "      <th>49</th>\n",
       "      <td>Xander</td>\n",
       "      <td>19.0</td>\n",
       "      <td>Honolulu</td>\n",
       "    </tr>\n",
       "  </tbody>\n",
       "</table>\n",
       "</div>"
      ],
      "text/plain": [
       "        Nama  Umur            Kota\n",
       "0      Alice  25.0        New York\n",
       "1        Bob  30.0     Los Angeles\n",
       "2    Charlie  22.0         Chicago\n",
       "3      David  27.0         Houston\n",
       "4       Emma  29.0           Miami\n",
       "5      Frank   NaN         Seattle\n",
       "6      Grace  20.0          Boston\n",
       "7      Henry  45.0          Dallas\n",
       "8   Isabella  31.0   San Francisco\n",
       "9       Jack  28.0          Austin\n",
       "10      Kate  24.0          Denver\n",
       "11      Liam  35.0         Phoenix\n",
       "12       Mia  26.0    Philadelphia\n",
       "13      Noah  32.0       San Diego\n",
       "14    Olivia  36.0      Washington\n",
       "15     Peter  21.0         Atlanta\n",
       "16     Quinn  23.0        Portland\n",
       "17    Rachel  38.0       Baltimore\n",
       "18    Samuel  19.0       Las Vegas\n",
       "19    Taylor  34.0       Nashville\n",
       "20    Ursula  37.0     Minneapolis\n",
       "21    Victor  40.0     New Orleans\n",
       "22     Wendy  39.0         Orlando\n",
       "23    Xavier  42.0  Salt Lake City\n",
       "24      Yara  43.0           Tampa\n",
       "25   Zachary  44.0     Albuquerque\n",
       "26       Ava  18.0         Detroit\n",
       "27  Benjamin   NaN       Charlotte\n",
       "28     Chloe  27.0    Indianapolis\n",
       "29    Daniel  25.0        Columbus\n",
       "30     Emily  22.0    Jacksonville\n",
       "31     Fiona  31.0     Kansas City\n",
       "32    George  30.0       Milwaukee\n",
       "33    Hannah  24.0   Oklahoma City\n",
       "34     Isaac   NaN         Memphis\n",
       "35     Julia  26.0      Louisville\n",
       "36     Kevin  21.0           Omaha\n",
       "37      Lily  33.0         Raleigh\n",
       "38   Matthew  35.0       Cleveland\n",
       "39      Nora  37.0      Pittsburgh\n",
       "40     Oscar  39.0      Cincinnati\n",
       "41  Penelope  41.0         Buffalo\n",
       "42    Quincy  20.0        Hartford\n",
       "43   Rebecca  42.0        Richmond\n",
       "44   Stephen  36.0          Austin\n",
       "45      Tara  32.0     San Antonio\n",
       "46   Ulysses  34.0        San Jose\n",
       "47    Violet  38.0      Sacramento\n",
       "48   William  23.0       Anchorage\n",
       "49    Xander  19.0        Honolulu"
      ]
     },
     "execution_count": 6,
     "metadata": {},
     "output_type": "execute_result"
    }
   ],
   "source": [
    "df"
   ]
  },
  {
   "cell_type": "markdown",
   "id": "a46ad6a4-379f-45dc-8aba-33cf8a46eb07",
   "metadata": {},
   "source": [
    "# 2. Tampilkan 3 baris terakhir dari DataFrame."
   ]
  },
  {
   "cell_type": "code",
   "execution_count": 7,
   "id": "491447b3-c6fe-4a71-81c0-04511a9cb9f7",
   "metadata": {},
   "outputs": [
    {
     "name": "stdout",
     "output_type": "stream",
     "text": [
      "       Nama  Umur        Kota\n",
      "47   Violet  38.0  Sacramento\n",
      "48  William  23.0   Anchorage\n",
      "49   Xander  19.0    Honolulu\n"
     ]
    }
   ],
   "source": [
    "last_3_rows = df.tail(3)\n",
    "\n",
    "print(last_3_rows)"
   ]
  },
  {
   "cell_type": "markdown",
   "id": "beb93d42-808a-4c41-b4c1-4d0f9513647f",
   "metadata": {},
   "source": [
    "# 3. Isi nilai yang hilang/missing values dalam kolom Umur dengan median umur."
   ]
  },
  {
   "cell_type": "code",
   "execution_count": 9,
   "id": "520957bd-734f-4b4e-80a9-77bda3e55d7d",
   "metadata": {},
   "outputs": [],
   "source": [
    "median_umur = df['Umur'].median()\n",
    "\n",
    "df['Umur'].fillna(median_umur, inplace=True)"
   ]
  },
  {
   "cell_type": "code",
   "execution_count": 10,
   "id": "8c95fd48-f80c-49d0-ab38-9aaa634ab725",
   "metadata": {
    "scrolled": true
   },
   "outputs": [
    {
     "name": "stdout",
     "output_type": "stream",
     "text": [
      "        Nama  Umur            Kota\n",
      "0      Alice  25.0        New York\n",
      "1        Bob  30.0     Los Angeles\n",
      "2    Charlie  22.0         Chicago\n",
      "3      David  27.0         Houston\n",
      "4       Emma  29.0           Miami\n",
      "5      Frank  31.0         Seattle\n",
      "6      Grace  20.0          Boston\n",
      "7      Henry  45.0          Dallas\n",
      "8   Isabella  31.0   San Francisco\n",
      "9       Jack  28.0          Austin\n",
      "10      Kate  24.0          Denver\n",
      "11      Liam  35.0         Phoenix\n",
      "12       Mia  26.0    Philadelphia\n",
      "13      Noah  32.0       San Diego\n",
      "14    Olivia  36.0      Washington\n",
      "15     Peter  21.0         Atlanta\n",
      "16     Quinn  23.0        Portland\n",
      "17    Rachel  38.0       Baltimore\n",
      "18    Samuel  19.0       Las Vegas\n",
      "19    Taylor  34.0       Nashville\n",
      "20    Ursula  37.0     Minneapolis\n",
      "21    Victor  40.0     New Orleans\n",
      "22     Wendy  39.0         Orlando\n",
      "23    Xavier  42.0  Salt Lake City\n",
      "24      Yara  43.0           Tampa\n",
      "25   Zachary  44.0     Albuquerque\n",
      "26       Ava  18.0         Detroit\n",
      "27  Benjamin  31.0       Charlotte\n",
      "28     Chloe  27.0    Indianapolis\n",
      "29    Daniel  25.0        Columbus\n",
      "30     Emily  22.0    Jacksonville\n",
      "31     Fiona  31.0     Kansas City\n",
      "32    George  30.0       Milwaukee\n",
      "33    Hannah  24.0   Oklahoma City\n",
      "34     Isaac  31.0         Memphis\n",
      "35     Julia  26.0      Louisville\n",
      "36     Kevin  21.0           Omaha\n",
      "37      Lily  33.0         Raleigh\n",
      "38   Matthew  35.0       Cleveland\n",
      "39      Nora  37.0      Pittsburgh\n",
      "40     Oscar  39.0      Cincinnati\n",
      "41  Penelope  41.0         Buffalo\n",
      "42    Quincy  20.0        Hartford\n",
      "43   Rebecca  42.0        Richmond\n",
      "44   Stephen  36.0          Austin\n",
      "45      Tara  32.0     San Antonio\n",
      "46   Ulysses  34.0        San Jose\n",
      "47    Violet  38.0      Sacramento\n",
      "48   William  23.0       Anchorage\n",
      "49    Xander  19.0        Honolulu\n"
     ]
    }
   ],
   "source": [
    "print(df)"
   ]
  },
  {
   "cell_type": "markdown",
   "id": "943f5bb3-e2fb-4667-9ce7-aa7292cfa6a2",
   "metadata": {},
   "source": [
    "# 4. Tampilkan statistik ringkasan untuk kolom Umur."
   ]
  },
  {
   "cell_type": "code",
   "execution_count": 11,
   "id": "14998342-7aa6-4b78-90c0-f368139c8b29",
   "metadata": {},
   "outputs": [
    {
     "name": "stdout",
     "output_type": "stream",
     "text": [
      "count    50.000000\n",
      "mean     30.720000\n",
      "std       7.543182\n",
      "min      18.000000\n",
      "25%      24.250000\n",
      "50%      31.000000\n",
      "75%      36.750000\n",
      "max      45.000000\n",
      "Name: Umur, dtype: float64\n"
     ]
    }
   ],
   "source": [
    "umur_summary = df['Umur'].describe()\n",
    "\n",
    "print(umur_summary)"
   ]
  },
  {
   "cell_type": "markdown",
   "id": "8e6727cc-c95d-4679-a314-ddfff881c2f8",
   "metadata": {},
   "source": [
    "# 5. Pilih dan tampilkan hanya baris-baris di mana Umur kurang dari 30."
   ]
  },
  {
   "cell_type": "code",
   "execution_count": 12,
   "id": "b3e12011-4694-4b9e-95d4-4eb20cf08925",
   "metadata": {},
   "outputs": [
    {
     "name": "stdout",
     "output_type": "stream",
     "text": [
      "       Nama  Umur           Kota\n",
      "0     Alice  25.0       New York\n",
      "2   Charlie  22.0        Chicago\n",
      "3     David  27.0        Houston\n",
      "4      Emma  29.0          Miami\n",
      "6     Grace  20.0         Boston\n",
      "9      Jack  28.0         Austin\n",
      "10     Kate  24.0         Denver\n",
      "12      Mia  26.0   Philadelphia\n",
      "15    Peter  21.0        Atlanta\n",
      "16    Quinn  23.0       Portland\n",
      "18   Samuel  19.0      Las Vegas\n",
      "26      Ava  18.0        Detroit\n",
      "28    Chloe  27.0   Indianapolis\n",
      "29   Daniel  25.0       Columbus\n",
      "30    Emily  22.0   Jacksonville\n",
      "33   Hannah  24.0  Oklahoma City\n",
      "35    Julia  26.0     Louisville\n",
      "36    Kevin  21.0          Omaha\n",
      "42   Quincy  20.0       Hartford\n",
      "48  William  23.0      Anchorage\n",
      "49   Xander  19.0       Honolulu\n"
     ]
    }
   ],
   "source": [
    "young_rows = df[df['Umur'] <30]\n",
    "\n",
    "print(young_rows)"
   ]
  },
  {
   "cell_type": "markdown",
   "id": "ecc0e5ac-d8eb-4c3e-8809-65e3017ee102",
   "metadata": {},
   "source": [
    "# 6. Pilih dan tampilkan hanya baris-baris di mana Nama berwalan huruf P atau Q dan Umur dari 20 - 30 tahun"
   ]
  },
  {
   "cell_type": "code",
   "execution_count": 13,
   "id": "346169a6-d9dc-406e-a5a3-9939cc4ab208",
   "metadata": {},
   "outputs": [
    {
     "name": "stdout",
     "output_type": "stream",
     "text": [
      "      Nama  Umur      Kota\n",
      "15   Peter  21.0   Atlanta\n",
      "16   Quinn  23.0  Portland\n",
      "42  Quincy  20.0  Hartford\n"
     ]
    }
   ],
   "source": [
    "name_kondisi = df['Nama'].str.startswith(('P', 'Q'))\n",
    "age_kondisi = (df['Umur'] >=20) & (df['Umur'] <= 30)\n",
    "selected_rows = df[name_kondisi & age_kondisi]\n",
    "\n",
    "print(selected_rows)"
   ]
  },
  {
   "cell_type": "markdown",
   "id": "ebdc8b8f-6fc4-4c1b-be36-17ff7ddba0d0",
   "metadata": {},
   "source": [
    "# 7. Hitung jumlah kemunculan masing-masing nilai unik dalam kolom Kota."
   ]
  },
  {
   "cell_type": "code",
   "execution_count": 14,
   "id": "9f5a6105-ec15-4339-ae6f-9b2b1bc26e19",
   "metadata": {
    "scrolled": true
   },
   "outputs": [
    {
     "name": "stdout",
     "output_type": "stream",
     "text": [
      "Austin            2\n",
      "New York          1\n",
      "Raleigh           1\n",
      "Charlotte         1\n",
      "Indianapolis      1\n",
      "Columbus          1\n",
      "Jacksonville      1\n",
      "Kansas City       1\n",
      "Milwaukee         1\n",
      "Oklahoma City     1\n",
      "Memphis           1\n",
      "Louisville        1\n",
      "Omaha             1\n",
      "Cleveland         1\n",
      "Albuquerque       1\n",
      "Pittsburgh        1\n",
      "Cincinnati        1\n",
      "Buffalo           1\n",
      "Hartford          1\n",
      "Richmond          1\n",
      "San Antonio       1\n",
      "San Jose          1\n",
      "Sacramento        1\n",
      "Anchorage         1\n",
      "Detroit           1\n",
      "Tampa             1\n",
      "Los Angeles       1\n",
      "Philadelphia      1\n",
      "Chicago           1\n",
      "Houston           1\n",
      "Miami             1\n",
      "Seattle           1\n",
      "Boston            1\n",
      "Dallas            1\n",
      "San Francisco     1\n",
      "Denver            1\n",
      "Phoenix           1\n",
      "San Diego         1\n",
      "Salt Lake City    1\n",
      "Washington        1\n",
      "Atlanta           1\n",
      "Portland          1\n",
      "Baltimore         1\n",
      "Las Vegas         1\n",
      "Nashville         1\n",
      "Minneapolis       1\n",
      "New Orleans       1\n",
      "Orlando           1\n",
      "Honolulu          1\n",
      "Name: Kota, dtype: int64\n"
     ]
    }
   ],
   "source": [
    "city_counts = df['Kota'].value_counts()\n",
    "\n",
    "print(city_counts)"
   ]
  },
  {
   "cell_type": "markdown",
   "id": "8141d59c-a19e-4759-a54a-d828ce117133",
   "metadata": {},
   "source": [
    "# 8. Tambahkan kolom baru bernama Jenis Kelamin dengan nilai acak \"Laki-laki\" dan \"Perempuan\"."
   ]
  },
  {
   "cell_type": "code",
   "execution_count": 15,
   "id": "99a67895-e92a-432c-955b-61b8657a88b2",
   "metadata": {
    "scrolled": true
   },
   "outputs": [
    {
     "name": "stdout",
     "output_type": "stream",
     "text": [
      "        Nama  Umur            Kota Jenis Kelamin\n",
      "0      Alice  25.0        New York     Laki-laki\n",
      "1        Bob  30.0     Los Angeles     Perempuan\n",
      "2    Charlie  22.0         Chicago     Laki-laki\n",
      "3      David  27.0         Houston     Perempuan\n",
      "4       Emma  29.0           Miami     Perempuan\n",
      "5      Frank  31.0         Seattle     Perempuan\n",
      "6      Grace  20.0          Boston     Perempuan\n",
      "7      Henry  45.0          Dallas     Laki-laki\n",
      "8   Isabella  31.0   San Francisco     Laki-laki\n",
      "9       Jack  28.0          Austin     Perempuan\n",
      "10      Kate  24.0          Denver     Perempuan\n",
      "11      Liam  35.0         Phoenix     Perempuan\n",
      "12       Mia  26.0    Philadelphia     Laki-laki\n",
      "13      Noah  32.0       San Diego     Laki-laki\n",
      "14    Olivia  36.0      Washington     Perempuan\n",
      "15     Peter  21.0         Atlanta     Laki-laki\n",
      "16     Quinn  23.0        Portland     Laki-laki\n",
      "17    Rachel  38.0       Baltimore     Laki-laki\n",
      "18    Samuel  19.0       Las Vegas     Laki-laki\n",
      "19    Taylor  34.0       Nashville     Perempuan\n",
      "20    Ursula  37.0     Minneapolis     Laki-laki\n",
      "21    Victor  40.0     New Orleans     Laki-laki\n",
      "22     Wendy  39.0         Orlando     Perempuan\n",
      "23    Xavier  42.0  Salt Lake City     Perempuan\n",
      "24      Yara  43.0           Tampa     Laki-laki\n",
      "25   Zachary  44.0     Albuquerque     Laki-laki\n",
      "26       Ava  18.0         Detroit     Perempuan\n",
      "27  Benjamin  31.0       Charlotte     Laki-laki\n",
      "28     Chloe  27.0    Indianapolis     Perempuan\n",
      "29    Daniel  25.0        Columbus     Perempuan\n",
      "30     Emily  22.0    Jacksonville     Perempuan\n",
      "31     Fiona  31.0     Kansas City     Perempuan\n",
      "32    George  30.0       Milwaukee     Perempuan\n",
      "33    Hannah  24.0   Oklahoma City     Perempuan\n",
      "34     Isaac  31.0         Memphis     Laki-laki\n",
      "35     Julia  26.0      Louisville     Laki-laki\n",
      "36     Kevin  21.0           Omaha     Laki-laki\n",
      "37      Lily  33.0         Raleigh     Laki-laki\n",
      "38   Matthew  35.0       Cleveland     Perempuan\n",
      "39      Nora  37.0      Pittsburgh     Perempuan\n",
      "40     Oscar  39.0      Cincinnati     Perempuan\n",
      "41  Penelope  41.0         Buffalo     Laki-laki\n",
      "42    Quincy  20.0        Hartford     Laki-laki\n",
      "43   Rebecca  42.0        Richmond     Laki-laki\n",
      "44   Stephen  36.0          Austin     Perempuan\n",
      "45      Tara  32.0     San Antonio     Perempuan\n",
      "46   Ulysses  34.0        San Jose     Perempuan\n",
      "47    Violet  38.0      Sacramento     Laki-laki\n",
      "48   William  23.0       Anchorage     Perempuan\n",
      "49    Xander  19.0        Honolulu     Laki-laki\n"
     ]
    }
   ],
   "source": [
    "def generate_gender():\n",
    "    return random.choice([\"Laki-laki\", \"Perempuan\"])\n",
    "\n",
    "df['Jenis Kelamin'] = [generate_gender() for _ in range(len(df))]\n",
    "\n",
    "print(df)"
   ]
  },
  {
   "cell_type": "markdown",
   "id": "37514129-413b-48ca-bc7a-eb5dc9fea424",
   "metadata": {},
   "source": [
    "# 9. Ganti nama kolom Kota menjadi Lokasi."
   ]
  },
  {
   "cell_type": "code",
   "execution_count": 16,
   "id": "8e75f4ff-df9f-454d-afbc-95222d0dc33d",
   "metadata": {
    "scrolled": true
   },
   "outputs": [
    {
     "name": "stdout",
     "output_type": "stream",
     "text": [
      "        Nama  Umur          Lokasi Jenis Kelamin\n",
      "0      Alice  25.0        New York     Laki-laki\n",
      "1        Bob  30.0     Los Angeles     Perempuan\n",
      "2    Charlie  22.0         Chicago     Laki-laki\n",
      "3      David  27.0         Houston     Perempuan\n",
      "4       Emma  29.0           Miami     Perempuan\n",
      "5      Frank  31.0         Seattle     Perempuan\n",
      "6      Grace  20.0          Boston     Perempuan\n",
      "7      Henry  45.0          Dallas     Laki-laki\n",
      "8   Isabella  31.0   San Francisco     Laki-laki\n",
      "9       Jack  28.0          Austin     Perempuan\n",
      "10      Kate  24.0          Denver     Perempuan\n",
      "11      Liam  35.0         Phoenix     Perempuan\n",
      "12       Mia  26.0    Philadelphia     Laki-laki\n",
      "13      Noah  32.0       San Diego     Laki-laki\n",
      "14    Olivia  36.0      Washington     Perempuan\n",
      "15     Peter  21.0         Atlanta     Laki-laki\n",
      "16     Quinn  23.0        Portland     Laki-laki\n",
      "17    Rachel  38.0       Baltimore     Laki-laki\n",
      "18    Samuel  19.0       Las Vegas     Laki-laki\n",
      "19    Taylor  34.0       Nashville     Perempuan\n",
      "20    Ursula  37.0     Minneapolis     Laki-laki\n",
      "21    Victor  40.0     New Orleans     Laki-laki\n",
      "22     Wendy  39.0         Orlando     Perempuan\n",
      "23    Xavier  42.0  Salt Lake City     Perempuan\n",
      "24      Yara  43.0           Tampa     Laki-laki\n",
      "25   Zachary  44.0     Albuquerque     Laki-laki\n",
      "26       Ava  18.0         Detroit     Perempuan\n",
      "27  Benjamin  31.0       Charlotte     Laki-laki\n",
      "28     Chloe  27.0    Indianapolis     Perempuan\n",
      "29    Daniel  25.0        Columbus     Perempuan\n",
      "30     Emily  22.0    Jacksonville     Perempuan\n",
      "31     Fiona  31.0     Kansas City     Perempuan\n",
      "32    George  30.0       Milwaukee     Perempuan\n",
      "33    Hannah  24.0   Oklahoma City     Perempuan\n",
      "34     Isaac  31.0         Memphis     Laki-laki\n",
      "35     Julia  26.0      Louisville     Laki-laki\n",
      "36     Kevin  21.0           Omaha     Laki-laki\n",
      "37      Lily  33.0         Raleigh     Laki-laki\n",
      "38   Matthew  35.0       Cleveland     Perempuan\n",
      "39      Nora  37.0      Pittsburgh     Perempuan\n",
      "40     Oscar  39.0      Cincinnati     Perempuan\n",
      "41  Penelope  41.0         Buffalo     Laki-laki\n",
      "42    Quincy  20.0        Hartford     Laki-laki\n",
      "43   Rebecca  42.0        Richmond     Laki-laki\n",
      "44   Stephen  36.0          Austin     Perempuan\n",
      "45      Tara  32.0     San Antonio     Perempuan\n",
      "46   Ulysses  34.0        San Jose     Perempuan\n",
      "47    Violet  38.0      Sacramento     Laki-laki\n",
      "48   William  23.0       Anchorage     Perempuan\n",
      "49    Xander  19.0        Honolulu     Laki-laki\n"
     ]
    }
   ],
   "source": [
    "df.rename(columns={'Kota': 'Lokasi'}, inplace=True)\n",
    "\n",
    "print(df)"
   ]
  },
  {
   "cell_type": "markdown",
   "id": "4a652b6a-1f53-4a9b-9edb-9ee48fa0c309",
   "metadata": {},
   "source": [
    "# 10. Urutkan DataFrame berdasarkan Umur secara menaik."
   ]
  },
  {
   "cell_type": "code",
   "execution_count": 17,
   "id": "9547d7db-1481-4406-9869-19ea3f5aa1df",
   "metadata": {
    "scrolled": true
   },
   "outputs": [
    {
     "name": "stdout",
     "output_type": "stream",
     "text": [
      "        Nama  Umur          Lokasi Jenis Kelamin\n",
      "26       Ava  18.0         Detroit     Perempuan\n",
      "49    Xander  19.0        Honolulu     Laki-laki\n",
      "18    Samuel  19.0       Las Vegas     Laki-laki\n",
      "42    Quincy  20.0        Hartford     Laki-laki\n",
      "6      Grace  20.0          Boston     Perempuan\n",
      "36     Kevin  21.0           Omaha     Laki-laki\n",
      "15     Peter  21.0         Atlanta     Laki-laki\n",
      "2    Charlie  22.0         Chicago     Laki-laki\n",
      "30     Emily  22.0    Jacksonville     Perempuan\n",
      "48   William  23.0       Anchorage     Perempuan\n",
      "16     Quinn  23.0        Portland     Laki-laki\n",
      "33    Hannah  24.0   Oklahoma City     Perempuan\n",
      "10      Kate  24.0          Denver     Perempuan\n",
      "29    Daniel  25.0        Columbus     Perempuan\n",
      "0      Alice  25.0        New York     Laki-laki\n",
      "12       Mia  26.0    Philadelphia     Laki-laki\n",
      "35     Julia  26.0      Louisville     Laki-laki\n",
      "3      David  27.0         Houston     Perempuan\n",
      "28     Chloe  27.0    Indianapolis     Perempuan\n",
      "9       Jack  28.0          Austin     Perempuan\n",
      "4       Emma  29.0           Miami     Perempuan\n",
      "32    George  30.0       Milwaukee     Perempuan\n",
      "1        Bob  30.0     Los Angeles     Perempuan\n",
      "34     Isaac  31.0         Memphis     Laki-laki\n",
      "31     Fiona  31.0     Kansas City     Perempuan\n",
      "5      Frank  31.0         Seattle     Perempuan\n",
      "8   Isabella  31.0   San Francisco     Laki-laki\n",
      "27  Benjamin  31.0       Charlotte     Laki-laki\n",
      "45      Tara  32.0     San Antonio     Perempuan\n",
      "13      Noah  32.0       San Diego     Laki-laki\n",
      "37      Lily  33.0         Raleigh     Laki-laki\n",
      "46   Ulysses  34.0        San Jose     Perempuan\n",
      "19    Taylor  34.0       Nashville     Perempuan\n",
      "11      Liam  35.0         Phoenix     Perempuan\n",
      "38   Matthew  35.0       Cleveland     Perempuan\n",
      "14    Olivia  36.0      Washington     Perempuan\n",
      "44   Stephen  36.0          Austin     Perempuan\n",
      "20    Ursula  37.0     Minneapolis     Laki-laki\n",
      "39      Nora  37.0      Pittsburgh     Perempuan\n",
      "17    Rachel  38.0       Baltimore     Laki-laki\n",
      "47    Violet  38.0      Sacramento     Laki-laki\n",
      "22     Wendy  39.0         Orlando     Perempuan\n",
      "40     Oscar  39.0      Cincinnati     Perempuan\n",
      "21    Victor  40.0     New Orleans     Laki-laki\n",
      "41  Penelope  41.0         Buffalo     Laki-laki\n",
      "23    Xavier  42.0  Salt Lake City     Perempuan\n",
      "43   Rebecca  42.0        Richmond     Laki-laki\n",
      "24      Yara  43.0           Tampa     Laki-laki\n",
      "25   Zachary  44.0     Albuquerque     Laki-laki\n",
      "7      Henry  45.0          Dallas     Laki-laki\n"
     ]
    }
   ],
   "source": [
    "sorted_df = df.sort_values(by= 'Umur')\n",
    "\n",
    "print(sorted_df)"
   ]
  },
  {
   "cell_type": "markdown",
   "id": "f83d07b6-7434-4f63-8232-2b244cb9d3cc",
   "metadata": {},
   "source": [
    "# 11. Ganti semua nilai \"New York\" dalam kolom Lokasi dengan \"NYC\"."
   ]
  },
  {
   "cell_type": "code",
   "execution_count": 18,
   "id": "5a17cce3-8e7a-4030-bdb6-b8e21d03e1c8",
   "metadata": {
    "scrolled": true
   },
   "outputs": [
    {
     "name": "stdout",
     "output_type": "stream",
     "text": [
      "        Nama  Umur          Lokasi Jenis Kelamin\n",
      "0      Alice  25.0             NYC     Laki-laki\n",
      "1        Bob  30.0     Los Angeles     Perempuan\n",
      "2    Charlie  22.0         Chicago     Laki-laki\n",
      "3      David  27.0         Houston     Perempuan\n",
      "4       Emma  29.0           Miami     Perempuan\n",
      "5      Frank  31.0         Seattle     Perempuan\n",
      "6      Grace  20.0          Boston     Perempuan\n",
      "7      Henry  45.0          Dallas     Laki-laki\n",
      "8   Isabella  31.0   San Francisco     Laki-laki\n",
      "9       Jack  28.0          Austin     Perempuan\n",
      "10      Kate  24.0          Denver     Perempuan\n",
      "11      Liam  35.0         Phoenix     Perempuan\n",
      "12       Mia  26.0    Philadelphia     Laki-laki\n",
      "13      Noah  32.0       San Diego     Laki-laki\n",
      "14    Olivia  36.0      Washington     Perempuan\n",
      "15     Peter  21.0         Atlanta     Laki-laki\n",
      "16     Quinn  23.0        Portland     Laki-laki\n",
      "17    Rachel  38.0       Baltimore     Laki-laki\n",
      "18    Samuel  19.0       Las Vegas     Laki-laki\n",
      "19    Taylor  34.0       Nashville     Perempuan\n",
      "20    Ursula  37.0     Minneapolis     Laki-laki\n",
      "21    Victor  40.0     New Orleans     Laki-laki\n",
      "22     Wendy  39.0         Orlando     Perempuan\n",
      "23    Xavier  42.0  Salt Lake City     Perempuan\n",
      "24      Yara  43.0           Tampa     Laki-laki\n",
      "25   Zachary  44.0     Albuquerque     Laki-laki\n",
      "26       Ava  18.0         Detroit     Perempuan\n",
      "27  Benjamin  31.0       Charlotte     Laki-laki\n",
      "28     Chloe  27.0    Indianapolis     Perempuan\n",
      "29    Daniel  25.0        Columbus     Perempuan\n",
      "30     Emily  22.0    Jacksonville     Perempuan\n",
      "31     Fiona  31.0     Kansas City     Perempuan\n",
      "32    George  30.0       Milwaukee     Perempuan\n",
      "33    Hannah  24.0   Oklahoma City     Perempuan\n",
      "34     Isaac  31.0         Memphis     Laki-laki\n",
      "35     Julia  26.0      Louisville     Laki-laki\n",
      "36     Kevin  21.0           Omaha     Laki-laki\n",
      "37      Lily  33.0         Raleigh     Laki-laki\n",
      "38   Matthew  35.0       Cleveland     Perempuan\n",
      "39      Nora  37.0      Pittsburgh     Perempuan\n",
      "40     Oscar  39.0      Cincinnati     Perempuan\n",
      "41  Penelope  41.0         Buffalo     Laki-laki\n",
      "42    Quincy  20.0        Hartford     Laki-laki\n",
      "43   Rebecca  42.0        Richmond     Laki-laki\n",
      "44   Stephen  36.0          Austin     Perempuan\n",
      "45      Tara  32.0     San Antonio     Perempuan\n",
      "46   Ulysses  34.0        San Jose     Perempuan\n",
      "47    Violet  38.0      Sacramento     Laki-laki\n",
      "48   William  23.0       Anchorage     Perempuan\n",
      "49    Xander  19.0        Honolulu     Laki-laki\n"
     ]
    }
   ],
   "source": [
    "df['Lokasi'].replace(\"New York\", \"NYC\", inplace=True)\n",
    "\n",
    "print(df)"
   ]
  },
  {
   "cell_type": "markdown",
   "id": "74ac4f17-53ce-42c2-9cd6-183af60da667",
   "metadata": {},
   "source": [
    "# 12. Kelompokkan DataFrame berdasarkan Lokasi dan hitung median Umur di setiap kelompok. (hint: pelajari groupby dan agg/aggreate)"
   ]
  },
  {
   "cell_type": "code",
   "execution_count": 19,
   "id": "beb7957c-4f17-43b9-abe5-14f3ea309d27",
   "metadata": {
    "scrolled": true
   },
   "outputs": [
    {
     "name": "stdout",
     "output_type": "stream",
     "text": [
      "                Umur\n",
      "Lokasi              \n",
      "Albuquerque     44.0\n",
      "Anchorage       23.0\n",
      "Atlanta         21.0\n",
      "Austin          32.0\n",
      "Baltimore       38.0\n",
      "Boston          20.0\n",
      "Buffalo         41.0\n",
      "Charlotte       31.0\n",
      "Chicago         22.0\n",
      "Cincinnati      39.0\n",
      "Cleveland       35.0\n",
      "Columbus        25.0\n",
      "Dallas          45.0\n",
      "Denver          24.0\n",
      "Detroit         18.0\n",
      "Hartford        20.0\n",
      "Honolulu        19.0\n",
      "Houston         27.0\n",
      "Indianapolis    27.0\n",
      "Jacksonville    22.0\n",
      "Kansas City     31.0\n",
      "Las Vegas       19.0\n",
      "Los Angeles     30.0\n",
      "Louisville      26.0\n",
      "Memphis         31.0\n",
      "Miami           29.0\n",
      "Milwaukee       30.0\n",
      "Minneapolis     37.0\n",
      "NYC             25.0\n",
      "Nashville       34.0\n",
      "New Orleans     40.0\n",
      "Oklahoma City   24.0\n",
      "Omaha           21.0\n",
      "Orlando         39.0\n",
      "Philadelphia    26.0\n",
      "Phoenix         35.0\n",
      "Pittsburgh      37.0\n",
      "Portland        23.0\n",
      "Raleigh         33.0\n",
      "Richmond        42.0\n",
      "Sacramento      38.0\n",
      "Salt Lake City  42.0\n",
      "San Antonio     32.0\n",
      "San Diego       32.0\n",
      "San Francisco   31.0\n",
      "San Jose        34.0\n",
      "Seattle         31.0\n",
      "Tampa           43.0\n",
      "Washington      36.0\n"
     ]
    }
   ],
   "source": [
    "group_df = df.groupby('Lokasi').agg({'Umur': 'median'})\n",
    "\n",
    "print(group_df)"
   ]
  },
  {
   "cell_type": "markdown",
   "id": "30ff2609-bd8d-4f4c-a693-56da30548a93",
   "metadata": {},
   "source": [
    "# 13. Buat DataFrame baru hanya dengan baris-baris di mana Umur ganjil."
   ]
  },
  {
   "cell_type": "code",
   "execution_count": 20,
   "id": "6db892b9-8134-41e1-95ff-9c88e92c8a77",
   "metadata": {
    "scrolled": true
   },
   "outputs": [
    {
     "name": "stdout",
     "output_type": "stream",
     "text": [
      "        Nama  Umur         Lokasi Jenis Kelamin\n",
      "0      Alice  25.0            NYC     Laki-laki\n",
      "3      David  27.0        Houston     Perempuan\n",
      "4       Emma  29.0          Miami     Perempuan\n",
      "5      Frank  31.0        Seattle     Perempuan\n",
      "7      Henry  45.0         Dallas     Laki-laki\n",
      "8   Isabella  31.0  San Francisco     Laki-laki\n",
      "11      Liam  35.0        Phoenix     Perempuan\n",
      "15     Peter  21.0        Atlanta     Laki-laki\n",
      "16     Quinn  23.0       Portland     Laki-laki\n",
      "18    Samuel  19.0      Las Vegas     Laki-laki\n",
      "20    Ursula  37.0    Minneapolis     Laki-laki\n",
      "22     Wendy  39.0        Orlando     Perempuan\n",
      "24      Yara  43.0          Tampa     Laki-laki\n",
      "27  Benjamin  31.0      Charlotte     Laki-laki\n",
      "28     Chloe  27.0   Indianapolis     Perempuan\n",
      "29    Daniel  25.0       Columbus     Perempuan\n",
      "31     Fiona  31.0    Kansas City     Perempuan\n",
      "34     Isaac  31.0        Memphis     Laki-laki\n",
      "36     Kevin  21.0          Omaha     Laki-laki\n",
      "37      Lily  33.0        Raleigh     Laki-laki\n",
      "38   Matthew  35.0      Cleveland     Perempuan\n",
      "39      Nora  37.0     Pittsburgh     Perempuan\n",
      "40     Oscar  39.0     Cincinnati     Perempuan\n",
      "41  Penelope  41.0        Buffalo     Laki-laki\n",
      "48   William  23.0      Anchorage     Perempuan\n",
      "49    Xander  19.0       Honolulu     Laki-laki\n"
     ]
    }
   ],
   "source": [
    "ganjil_age_df = df[df['Umur'] % 2 != 0]\n",
    "\n",
    "print(ganjil_age_df)"
   ]
  },
  {
   "cell_type": "markdown",
   "id": "4dc0cdb0-44c4-450e-9866-90940b3b95ea",
   "metadata": {},
   "source": [
    "# 14. Simpan DataFrame yang sudah dimodifikasi menjadi file CSV baru."
   ]
  },
  {
   "cell_type": "code",
   "execution_count": null,
   "id": "cf032fcd-0401-485b-89c7-ac86066a8f8a",
   "metadata": {},
   "outputs": [],
   "source": [
    "output_csv_path = os.path.join(os.path.expanduser(\"~\"), 'Downloads', 'modified_data.csv')\n",
    "df.to_csv(output_csv_path, index=False)\n",
    "\n",
    "print(\"DataFrame berhasil di simpan sebagai CSV di 'Downloads'.\")"
   ]
  },
  {
   "cell_type": "markdown",
   "id": "4fbe15fa-584a-4392-90a6-72409eaaa430",
   "metadata": {},
   "source": [
    "# 15. Terapkan fungsi yang mengonversi nama-nama dalam kolom Nama menjadi huruf kecil."
   ]
  },
  {
   "cell_type": "code",
   "execution_count": 21,
   "id": "55acfd1b-46db-48ef-9ff8-b917d9506f89",
   "metadata": {
    "scrolled": true
   },
   "outputs": [
    {
     "name": "stdout",
     "output_type": "stream",
     "text": [
      "        Nama  Umur          Lokasi Jenis Kelamin\n",
      "0      alice  25.0             NYC     Laki-laki\n",
      "1        bob  30.0     Los Angeles     Perempuan\n",
      "2    charlie  22.0         Chicago     Laki-laki\n",
      "3      david  27.0         Houston     Perempuan\n",
      "4       emma  29.0           Miami     Perempuan\n",
      "5      frank  31.0         Seattle     Perempuan\n",
      "6      grace  20.0          Boston     Perempuan\n",
      "7      henry  45.0          Dallas     Laki-laki\n",
      "8   isabella  31.0   San Francisco     Laki-laki\n",
      "9       jack  28.0          Austin     Perempuan\n",
      "10      kate  24.0          Denver     Perempuan\n",
      "11      liam  35.0         Phoenix     Perempuan\n",
      "12       mia  26.0    Philadelphia     Laki-laki\n",
      "13      noah  32.0       San Diego     Laki-laki\n",
      "14    olivia  36.0      Washington     Perempuan\n",
      "15     peter  21.0         Atlanta     Laki-laki\n",
      "16     quinn  23.0        Portland     Laki-laki\n",
      "17    rachel  38.0       Baltimore     Laki-laki\n",
      "18    samuel  19.0       Las Vegas     Laki-laki\n",
      "19    taylor  34.0       Nashville     Perempuan\n",
      "20    ursula  37.0     Minneapolis     Laki-laki\n",
      "21    victor  40.0     New Orleans     Laki-laki\n",
      "22     wendy  39.0         Orlando     Perempuan\n",
      "23    xavier  42.0  Salt Lake City     Perempuan\n",
      "24      yara  43.0           Tampa     Laki-laki\n",
      "25   zachary  44.0     Albuquerque     Laki-laki\n",
      "26       ava  18.0         Detroit     Perempuan\n",
      "27  benjamin  31.0       Charlotte     Laki-laki\n",
      "28     chloe  27.0    Indianapolis     Perempuan\n",
      "29    daniel  25.0        Columbus     Perempuan\n",
      "30     emily  22.0    Jacksonville     Perempuan\n",
      "31     fiona  31.0     Kansas City     Perempuan\n",
      "32    george  30.0       Milwaukee     Perempuan\n",
      "33    hannah  24.0   Oklahoma City     Perempuan\n",
      "34     isaac  31.0         Memphis     Laki-laki\n",
      "35     julia  26.0      Louisville     Laki-laki\n",
      "36     kevin  21.0           Omaha     Laki-laki\n",
      "37      lily  33.0         Raleigh     Laki-laki\n",
      "38   matthew  35.0       Cleveland     Perempuan\n",
      "39      nora  37.0      Pittsburgh     Perempuan\n",
      "40     oscar  39.0      Cincinnati     Perempuan\n",
      "41  penelope  41.0         Buffalo     Laki-laki\n",
      "42    quincy  20.0        Hartford     Laki-laki\n",
      "43   rebecca  42.0        Richmond     Laki-laki\n",
      "44   stephen  36.0          Austin     Perempuan\n",
      "45      tara  32.0     San Antonio     Perempuan\n",
      "46   ulysses  34.0        San Jose     Perempuan\n",
      "47    violet  38.0      Sacramento     Laki-laki\n",
      "48   william  23.0       Anchorage     Perempuan\n",
      "49    xander  19.0        Honolulu     Laki-laki\n"
     ]
    }
   ],
   "source": [
    "df['Nama'] = df['Nama'].str.lower()\n",
    "\n",
    "print(df)"
   ]
  },
  {
   "cell_type": "markdown",
   "id": "ebccaba9-3197-41a3-b469-01101e202d98",
   "metadata": {},
   "source": [
    "# 16. Hitung persentil ke-25 dari kolom Umur."
   ]
  },
  {
   "cell_type": "code",
   "execution_count": 22,
   "id": "1cb770e8-fdf7-4848-8eea-0de6abaed1db",
   "metadata": {},
   "outputs": [
    {
     "name": "stdout",
     "output_type": "stream",
     "text": [
      "Persentil ke 25 dari kolom umur adalah 24.25\n"
     ]
    }
   ],
   "source": [
    "persentil_25 = df['Umur'].quantile(0.25)\n",
    "\n",
    "print(\"Persentil ke 25 dari kolom umur adalah\", persentil_25)"
   ]
  },
  {
   "cell_type": "markdown",
   "id": "bd0f73ea-6549-42f3-8c59-b21c859b1628",
   "metadata": {},
   "source": [
    "# 17. Hitung dan tampilkan rata-rata umur untuk setiap kombinasi unik Lokasi dan Jenis Kelamin. (hint: pelajari groupby dan agg/aggreate)"
   ]
  },
  {
   "cell_type": "code",
   "execution_count": 23,
   "id": "5b2423e8-224a-4489-a253-783aa9615266",
   "metadata": {},
   "outputs": [
    {
     "name": "stdout",
     "output_type": "stream",
     "text": [
      "            Lokasi Jenis Kelamin  Umur\n",
      "0      Albuquerque     Laki-laki  44.0\n",
      "1        Anchorage     Perempuan  23.0\n",
      "2          Atlanta     Laki-laki  21.0\n",
      "3           Austin     Perempuan  32.0\n",
      "4        Baltimore     Laki-laki  38.0\n",
      "5           Boston     Perempuan  20.0\n",
      "6          Buffalo     Laki-laki  41.0\n",
      "7        Charlotte     Laki-laki  31.0\n",
      "8          Chicago     Laki-laki  22.0\n",
      "9       Cincinnati     Perempuan  39.0\n",
      "10       Cleveland     Perempuan  35.0\n",
      "11        Columbus     Perempuan  25.0\n",
      "12          Dallas     Laki-laki  45.0\n",
      "13          Denver     Perempuan  24.0\n",
      "14         Detroit     Perempuan  18.0\n",
      "15        Hartford     Laki-laki  20.0\n",
      "16        Honolulu     Laki-laki  19.0\n",
      "17         Houston     Perempuan  27.0\n",
      "18    Indianapolis     Perempuan  27.0\n",
      "19    Jacksonville     Perempuan  22.0\n",
      "20     Kansas City     Perempuan  31.0\n",
      "21       Las Vegas     Laki-laki  19.0\n",
      "22     Los Angeles     Perempuan  30.0\n",
      "23      Louisville     Laki-laki  26.0\n",
      "24         Memphis     Laki-laki  31.0\n",
      "25           Miami     Perempuan  29.0\n",
      "26       Milwaukee     Perempuan  30.0\n",
      "27     Minneapolis     Laki-laki  37.0\n",
      "28             NYC     Laki-laki  25.0\n",
      "29       Nashville     Perempuan  34.0\n",
      "30     New Orleans     Laki-laki  40.0\n",
      "31   Oklahoma City     Perempuan  24.0\n",
      "32           Omaha     Laki-laki  21.0\n",
      "33         Orlando     Perempuan  39.0\n",
      "34    Philadelphia     Laki-laki  26.0\n",
      "35         Phoenix     Perempuan  35.0\n",
      "36      Pittsburgh     Perempuan  37.0\n",
      "37        Portland     Laki-laki  23.0\n",
      "38         Raleigh     Laki-laki  33.0\n",
      "39        Richmond     Laki-laki  42.0\n",
      "40      Sacramento     Laki-laki  38.0\n",
      "41  Salt Lake City     Perempuan  42.0\n",
      "42     San Antonio     Perempuan  32.0\n",
      "43       San Diego     Laki-laki  32.0\n",
      "44   San Francisco     Laki-laki  31.0\n",
      "45        San Jose     Perempuan  34.0\n",
      "46         Seattle     Perempuan  31.0\n",
      "47           Tampa     Laki-laki  43.0\n",
      "48      Washington     Perempuan  36.0\n"
     ]
    }
   ],
   "source": [
    "group_mean_age = df.groupby(['Lokasi', 'Jenis Kelamin'])['Umur'].mean().reset_index()\n",
    "\n",
    "print(group_mean_age)"
   ]
  },
  {
   "cell_type": "markdown",
   "id": "d20b76e5-861c-4bb5-b7ca-cd3c32b1f9e8",
   "metadata": {},
   "source": [
    "# 18. Hapus baris-baris duplikat berdasarkan kolom Lokasi."
   ]
  },
  {
   "cell_type": "code",
   "execution_count": 24,
   "id": "e38fdb0f-5183-418f-ad23-74e39b75d6ff",
   "metadata": {
    "scrolled": true
   },
   "outputs": [
    {
     "name": "stdout",
     "output_type": "stream",
     "text": [
      "        Nama  Umur          Lokasi Jenis Kelamin\n",
      "0      alice  25.0             NYC     Laki-laki\n",
      "1        bob  30.0     Los Angeles     Perempuan\n",
      "2    charlie  22.0         Chicago     Laki-laki\n",
      "3      david  27.0         Houston     Perempuan\n",
      "4       emma  29.0           Miami     Perempuan\n",
      "5      frank  31.0         Seattle     Perempuan\n",
      "6      grace  20.0          Boston     Perempuan\n",
      "7      henry  45.0          Dallas     Laki-laki\n",
      "8   isabella  31.0   San Francisco     Laki-laki\n",
      "9       jack  28.0          Austin     Perempuan\n",
      "10      kate  24.0          Denver     Perempuan\n",
      "11      liam  35.0         Phoenix     Perempuan\n",
      "12       mia  26.0    Philadelphia     Laki-laki\n",
      "13      noah  32.0       San Diego     Laki-laki\n",
      "14    olivia  36.0      Washington     Perempuan\n",
      "15     peter  21.0         Atlanta     Laki-laki\n",
      "16     quinn  23.0        Portland     Laki-laki\n",
      "17    rachel  38.0       Baltimore     Laki-laki\n",
      "18    samuel  19.0       Las Vegas     Laki-laki\n",
      "19    taylor  34.0       Nashville     Perempuan\n",
      "20    ursula  37.0     Minneapolis     Laki-laki\n",
      "21    victor  40.0     New Orleans     Laki-laki\n",
      "22     wendy  39.0         Orlando     Perempuan\n",
      "23    xavier  42.0  Salt Lake City     Perempuan\n",
      "24      yara  43.0           Tampa     Laki-laki\n",
      "25   zachary  44.0     Albuquerque     Laki-laki\n",
      "26       ava  18.0         Detroit     Perempuan\n",
      "27  benjamin  31.0       Charlotte     Laki-laki\n",
      "28     chloe  27.0    Indianapolis     Perempuan\n",
      "29    daniel  25.0        Columbus     Perempuan\n",
      "30     emily  22.0    Jacksonville     Perempuan\n",
      "31     fiona  31.0     Kansas City     Perempuan\n",
      "32    george  30.0       Milwaukee     Perempuan\n",
      "33    hannah  24.0   Oklahoma City     Perempuan\n",
      "34     isaac  31.0         Memphis     Laki-laki\n",
      "35     julia  26.0      Louisville     Laki-laki\n",
      "36     kevin  21.0           Omaha     Laki-laki\n",
      "37      lily  33.0         Raleigh     Laki-laki\n",
      "38   matthew  35.0       Cleveland     Perempuan\n",
      "39      nora  37.0      Pittsburgh     Perempuan\n",
      "40     oscar  39.0      Cincinnati     Perempuan\n",
      "41  penelope  41.0         Buffalo     Laki-laki\n",
      "42    quincy  20.0        Hartford     Laki-laki\n",
      "43   rebecca  42.0        Richmond     Laki-laki\n",
      "45      tara  32.0     San Antonio     Perempuan\n",
      "46   ulysses  34.0        San Jose     Perempuan\n",
      "47    violet  38.0      Sacramento     Laki-laki\n",
      "48   william  23.0       Anchorage     Perempuan\n",
      "49    xander  19.0        Honolulu     Laki-laki\n"
     ]
    }
   ],
   "source": [
    "df_no_duplicates = df.drop_duplicates(subset=['Lokasi'])\n",
    "\n",
    "print(df_no_duplicates)"
   ]
  },
  {
   "cell_type": "markdown",
   "id": "8a30afb3-db93-4cab-9186-0da1cf3b5ef4",
   "metadata": {},
   "source": [
    "# 19. Gunakan fungsi apply untuk mengubah semua nilai Umur menjadi string."
   ]
  },
  {
   "cell_type": "code",
   "execution_count": null,
   "id": "690b0446-cc9c-499f-ae32-9c61cd1451e7",
   "metadata": {
    "scrolled": true
   },
   "outputs": [],
   "source": [
    "df['Umur'] = df['Umur'].astype(int)\n",
    "\n",
    "print(df)"
   ]
  },
  {
   "cell_type": "code",
   "execution_count": null,
   "id": "a0b7e41e-6bce-4664-a843-4d4696ab7331",
   "metadata": {},
   "outputs": [],
   "source": [
    "data_types = df.dtypes\n",
    "\n",
    "print(data_types)"
   ]
  },
  {
   "cell_type": "markdown",
   "id": "bb90d23e-54c3-4a8c-9dae-943b5bb344c9",
   "metadata": {},
   "source": [
    "# 20. Hitung dan tampilkan usia maksimum untuk setiap Lokasi."
   ]
  },
  {
   "cell_type": "code",
   "execution_count": null,
   "id": "4b1bb27d-8192-4e05-95c0-8017e47e5eea",
   "metadata": {
    "scrolled": true
   },
   "outputs": [],
   "source": [
    "max_umur_per_lokasi = df.groupby('Lokasi')['Umur'].max()\n",
    "\n",
    "print(max_umur_per_lokasi)"
   ]
  },
  {
   "cell_type": "markdown",
   "id": "d8d45ef3-3014-4b13-aa11-9f8db08a3227",
   "metadata": {},
   "source": [
    "# 21. Ganti semua kemunculan \"Chicago\" dalam kolom Lokasi dengan \"CHI\"."
   ]
  },
  {
   "cell_type": "code",
   "execution_count": null,
   "id": "c927f832-42de-4d50-b138-a2a31274ee36",
   "metadata": {
    "scrolled": true
   },
   "outputs": [],
   "source": [
    "df['Lokasi'].replace(\"Chicago\", \"CHI\", inplace=True)\n",
    "\n",
    "print(df)"
   ]
  },
  {
   "cell_type": "markdown",
   "id": "5739bfb0-3780-40ee-8016-a895973a0b82",
   "metadata": {},
   "source": [
    "# 22. Hitung persentase masing-masing nilai unik dalam kolom Lokasi."
   ]
  },
  {
   "cell_type": "code",
   "execution_count": null,
   "id": "84b2b5e3-9f78-4621-a290-dc72ca82d896",
   "metadata": {},
   "outputs": [],
   "source": [
    "lokasi_precentages = df['Lokasi'].value_counts(normalize=True) * 100\n",
    "\n",
    "print(lokasi_precentages)"
   ]
  },
  {
   "cell_type": "code",
   "execution_count": null,
   "id": "9a6b8dc3-ba00-4e9b-88ee-4ca2e33c3444",
   "metadata": {},
   "outputs": [],
   "source": []
  },
  {
   "cell_type": "code",
   "execution_count": null,
   "id": "f56fdf80-016b-4716-a721-5b87efed9e08",
   "metadata": {},
   "outputs": [],
   "source": []
  }
 ],
 "metadata": {
  "kernelspec": {
   "display_name": "Python 3 (ipykernel)",
   "language": "python",
   "name": "python3"
  },
  "language_info": {
   "codemirror_mode": {
    "name": "ipython",
    "version": 3
   },
   "file_extension": ".py",
   "mimetype": "text/x-python",
   "name": "python",
   "nbconvert_exporter": "python",
   "pygments_lexer": "ipython3",
   "version": "3.8.0"
  }
 },
 "nbformat": 4,
 "nbformat_minor": 5
}
