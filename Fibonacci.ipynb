{
 "cells": [
  {
   "cell_type": "markdown",
   "id": "92b73ed1-c35d-43c4-954e-2c9a8d46ec05",
   "metadata": {},
   "source": [
    "## Buat fungsi untuk men-generate seperti deret fibonacci. Input (bilangan_pertama, bilangan_kedua, panjang_deret)"
   ]
  },
  {
   "cell_type": "code",
   "execution_count": 27,
   "id": "2558da12-4fae-44a3-99cb-5cf92a212eb7",
   "metadata": {},
   "outputs": [
    {
     "name": "stdout",
     "output_type": "stream",
     "text": [
      "[1, 2, 3, 5, 8]\n"
     ]
    }
   ],
   "source": [
    "def generate_like_fibonacci(bilangan_pertama, bilangan_kedua, panjang_deret):\n",
    "    deret =[bilangan_pertama, bilangan_kedua]\n",
    "    while len(deret) < panjang_deret:\n",
    "        next_num = deret[-1] + deret[-2]\n",
    "        deret.append(next_num)\n",
    "    return deret\n",
    "\n",
    "bilangan_pertama = 1\n",
    "bilangan_kedua = 2\n",
    "panjang_deret = 5\n",
    "\n",
    "result = generate_like_fibonacci(bilangan_pertama, bilangan_kedua, panjang_deret)\n",
    "print(result)"
   ]
  },
  {
   "cell_type": "markdown",
   "id": "aeb89e7b-5795-41ee-839c-ac9a0c9fbb86",
   "metadata": {},
   "source": [
    "## 2. Hitung berapa kali suatu angka muncul dalam suatu rentang. Input (batas_bawah, batas_atas, angka)"
   ]
  },
  {
   "cell_type": "code",
   "execution_count": 67,
   "id": "5d1e3d2b-8a6e-45a7-956d-c99e40780eef",
   "metadata": {},
   "outputs": [
    {
     "name": "stdout",
     "output_type": "stream",
     "text": [
      "Rentang angka yang muncul adalah: [ 1 - 30 ]\n",
      "Angka muncul pada posisi: [2, 12, 20, 21, 22, 23, 24, 25, 26, 27, 28, 29]\n",
      "Jumlah kemunculan: 12\n"
     ]
    }
   ],
   "source": [
    "def fibonacci(batas_bawah, batas_atas, angka):\n",
    "    angka_tersebut = []\n",
    "    rentang_bawah = []\n",
    "    rentang_atas = []\n",
    "    \n",
    "    for num in range(batas_bawah, batas_atas + 1):\n",
    "        angka_str = str(num)\n",
    "        if str(angka) in angka_str:\n",
    "            angka_tersebut.append(num)\n",
    "    \n",
    "    jumlah_kemunculan = len(angka_tersebut)\n",
    "    \n",
    "    return angka_tersebut, jumlah_kemunculan\n",
    "\n",
    "batas_bawah = 1\n",
    "batas_atas = 30\n",
    "angka = 2\n",
    "\n",
    "angka_tersebut, jumlah_kemunculan = fibonacci(batas_bawah, batas_atas, angka)\n",
    "print(\"Rentang angka yang muncul adalah:\", \"[\",batas_bawah, \"-\", batas_atas,\"]\")\n",
    "print(\"Angka muncul pada posisi:\", angka_tersebut)\n",
    "print(\"Jumlah kemunculan:\", jumlah_kemunculan)"
   ]
  }
 ],
 "metadata": {
  "kernelspec": {
   "display_name": "Python 3 (ipykernel)",
   "language": "python",
   "name": "python3"
  },
  "language_info": {
   "codemirror_mode": {
    "name": "ipython",
    "version": 3
   },
   "file_extension": ".py",
   "mimetype": "text/x-python",
   "name": "python",
   "nbconvert_exporter": "python",
   "pygments_lexer": "ipython3",
   "version": "3.8.0"
  }
 },
 "nbformat": 4,
 "nbformat_minor": 5
}
