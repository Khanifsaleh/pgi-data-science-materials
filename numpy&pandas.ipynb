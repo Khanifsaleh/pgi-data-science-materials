{
 "cells": [
  {
   "cell_type": "code",
   "execution_count": 49,
   "id": "2b31531c",
   "metadata": {},
   "outputs": [],
   "source": [
    "import pandas as pd"
   ]
  },
  {
   "cell_type": "code",
   "execution_count": 50,
   "id": "09ab0098",
   "metadata": {},
   "outputs": [],
   "source": [
    "import random"
   ]
  },
  {
   "cell_type": "code",
   "execution_count": 3,
   "id": "35c156b4",
   "metadata": {},
   "outputs": [
    {
     "name": "stdout",
     "output_type": "stream",
     "text": [
      "Collecting pandas\n",
      "  Downloading pandas-2.0.3-cp38-cp38-win32.whl (9.6 MB)\n",
      "Collecting tzdata>=2022.1\n",
      "  Downloading tzdata-2023.3-py2.py3-none-any.whl (341 kB)\n",
      "Requirement already satisfied: numpy>=1.20.3 in c:\\users\\amelia azmi\\source\\miniconda\\envs\\basicpython\\lib\\site-packages (from pandas) (1.24.4)\n",
      "Collecting pytz>=2020.1\n",
      "  Downloading pytz-2023.3-py2.py3-none-any.whl (502 kB)\n",
      "Requirement already satisfied: python-dateutil>=2.8.2 in c:\\users\\amelia azmi\\source\\miniconda\\envs\\basicpython\\lib\\site-packages (from pandas) (2.8.2)\n",
      "Requirement already satisfied: six>=1.5 in c:\\users\\amelia azmi\\source\\miniconda\\envs\\basicpython\\lib\\site-packages (from python-dateutil>=2.8.2->pandas) (1.16.0)\n",
      "Installing collected packages: tzdata, pytz, pandas\n",
      "Successfully installed pandas-2.0.3 pytz-2023.3 tzdata-2023.3\n"
     ]
    }
   ],
   "source": [
    "!pip install pandas"
   ]
  },
  {
   "cell_type": "code",
   "execution_count": 18,
   "id": "bea6dbe2",
   "metadata": {},
   "outputs": [],
   "source": [
    "import os"
   ]
  },
  {
   "cell_type": "code",
   "execution_count": 21,
   "id": "a0afb786",
   "metadata": {},
   "outputs": [],
   "source": [
    "import openpyxl"
   ]
  },
  {
   "cell_type": "code",
   "execution_count": 20,
   "id": "b6c7de90",
   "metadata": {
    "scrolled": true
   },
   "outputs": [
    {
     "name": "stdout",
     "output_type": "stream",
     "text": [
      "Collecting openpyxl\n",
      "  Downloading openpyxl-3.1.2-py2.py3-none-any.whl (249 kB)\n",
      "Collecting et-xmlfile\n",
      "  Downloading et_xmlfile-1.1.0-py3-none-any.whl (4.7 kB)\n",
      "Installing collected packages: et-xmlfile, openpyxl\n",
      "Successfully installed et-xmlfile-1.1.0 openpyxl-3.1.2\n"
     ]
    }
   ],
   "source": [
    "!pip install openpyxl"
   ]
  },
  {
   "cell_type": "code",
   "execution_count": 1,
   "id": "0e6717a6",
   "metadata": {},
   "outputs": [
    {
     "name": "stdout",
     "output_type": "stream",
     "text": [
      "Collecting numpy\n",
      "  Downloading numpy-1.24.4-cp38-cp38-win32.whl (12.5 MB)\n",
      "Installing collected packages: numpy\n",
      "Successfully installed numpy-1.24.4\n"
     ]
    }
   ],
   "source": [
    "import numpy"
   ]
  },
  {
   "cell_type": "code",
   "execution_count": 2,
   "id": "97958351",
   "metadata": {},
   "outputs": [
    {
     "name": "stdout",
     "output_type": "stream",
     "text": [
      "Requirement already satisfied: numpy in c:\\users\\amelia azmi\\source\\miniconda\\envs\\basicpython\\lib\\site-packages (1.24.4)\n"
     ]
    }
   ],
   "source": [
    "!pip install numpy"
   ]
  },
  {
   "cell_type": "markdown",
   "id": "f1119ab2",
   "metadata": {},
   "source": [
    "## 1. Load data data_for_pandas_exercise.xlsx menjadi DataFrame."
   ]
  },
  {
   "cell_type": "code",
   "execution_count": 22,
   "id": "27882a18",
   "metadata": {},
   "outputs": [],
   "source": [
    "downloads_dir = os.path.expanduser(\"~\")\n",
    "downloads_file_path = os.path.join(downloads_dir, 'Downloads', 'data_for_pandas_exercise.xlsx')\n",
    "df = pd.read_excel(downloads_file_path)"
   ]
  },
  {
   "cell_type": "code",
   "execution_count": 23,
   "id": "c856eea6",
   "metadata": {},
   "outputs": [
    {
     "data": {
      "text/html": [
       "<div>\n",
       "<style scoped>\n",
       "    .dataframe tbody tr th:only-of-type {\n",
       "        vertical-align: middle;\n",
       "    }\n",
       "\n",
       "    .dataframe tbody tr th {\n",
       "        vertical-align: top;\n",
       "    }\n",
       "\n",
       "    .dataframe thead th {\n",
       "        text-align: right;\n",
       "    }\n",
       "</style>\n",
       "<table border=\"1\" class=\"dataframe\">\n",
       "  <thead>\n",
       "    <tr style=\"text-align: right;\">\n",
       "      <th></th>\n",
       "      <th>Nama</th>\n",
       "      <th>Umur</th>\n",
       "      <th>Kota</th>\n",
       "    </tr>\n",
       "  </thead>\n",
       "  <tbody>\n",
       "    <tr>\n",
       "      <th>0</th>\n",
       "      <td>Alice</td>\n",
       "      <td>25.0</td>\n",
       "      <td>New York</td>\n",
       "    </tr>\n",
       "    <tr>\n",
       "      <th>1</th>\n",
       "      <td>Bob</td>\n",
       "      <td>30.0</td>\n",
       "      <td>Los Angeles</td>\n",
       "    </tr>\n",
       "    <tr>\n",
       "      <th>2</th>\n",
       "      <td>Charlie</td>\n",
       "      <td>22.0</td>\n",
       "      <td>Chicago</td>\n",
       "    </tr>\n",
       "    <tr>\n",
       "      <th>3</th>\n",
       "      <td>David</td>\n",
       "      <td>27.0</td>\n",
       "      <td>Houston</td>\n",
       "    </tr>\n",
       "    <tr>\n",
       "      <th>4</th>\n",
       "      <td>Emma</td>\n",
       "      <td>29.0</td>\n",
       "      <td>Miami</td>\n",
       "    </tr>\n",
       "    <tr>\n",
       "      <th>5</th>\n",
       "      <td>Frank</td>\n",
       "      <td>NaN</td>\n",
       "      <td>Seattle</td>\n",
       "    </tr>\n",
       "    <tr>\n",
       "      <th>6</th>\n",
       "      <td>Grace</td>\n",
       "      <td>20.0</td>\n",
       "      <td>Boston</td>\n",
       "    </tr>\n",
       "    <tr>\n",
       "      <th>7</th>\n",
       "      <td>Henry</td>\n",
       "      <td>45.0</td>\n",
       "      <td>Dallas</td>\n",
       "    </tr>\n",
       "    <tr>\n",
       "      <th>8</th>\n",
       "      <td>Isabella</td>\n",
       "      <td>31.0</td>\n",
       "      <td>San Francisco</td>\n",
       "    </tr>\n",
       "    <tr>\n",
       "      <th>9</th>\n",
       "      <td>Jack</td>\n",
       "      <td>28.0</td>\n",
       "      <td>Austin</td>\n",
       "    </tr>\n",
       "    <tr>\n",
       "      <th>10</th>\n",
       "      <td>Kate</td>\n",
       "      <td>24.0</td>\n",
       "      <td>Denver</td>\n",
       "    </tr>\n",
       "    <tr>\n",
       "      <th>11</th>\n",
       "      <td>Liam</td>\n",
       "      <td>35.0</td>\n",
       "      <td>Phoenix</td>\n",
       "    </tr>\n",
       "    <tr>\n",
       "      <th>12</th>\n",
       "      <td>Mia</td>\n",
       "      <td>26.0</td>\n",
       "      <td>Philadelphia</td>\n",
       "    </tr>\n",
       "    <tr>\n",
       "      <th>13</th>\n",
       "      <td>Noah</td>\n",
       "      <td>32.0</td>\n",
       "      <td>San Diego</td>\n",
       "    </tr>\n",
       "    <tr>\n",
       "      <th>14</th>\n",
       "      <td>Olivia</td>\n",
       "      <td>36.0</td>\n",
       "      <td>Washington</td>\n",
       "    </tr>\n",
       "    <tr>\n",
       "      <th>15</th>\n",
       "      <td>Peter</td>\n",
       "      <td>21.0</td>\n",
       "      <td>Atlanta</td>\n",
       "    </tr>\n",
       "    <tr>\n",
       "      <th>16</th>\n",
       "      <td>Quinn</td>\n",
       "      <td>23.0</td>\n",
       "      <td>Portland</td>\n",
       "    </tr>\n",
       "    <tr>\n",
       "      <th>17</th>\n",
       "      <td>Rachel</td>\n",
       "      <td>38.0</td>\n",
       "      <td>Baltimore</td>\n",
       "    </tr>\n",
       "    <tr>\n",
       "      <th>18</th>\n",
       "      <td>Samuel</td>\n",
       "      <td>19.0</td>\n",
       "      <td>Las Vegas</td>\n",
       "    </tr>\n",
       "    <tr>\n",
       "      <th>19</th>\n",
       "      <td>Taylor</td>\n",
       "      <td>34.0</td>\n",
       "      <td>Nashville</td>\n",
       "    </tr>\n",
       "    <tr>\n",
       "      <th>20</th>\n",
       "      <td>Ursula</td>\n",
       "      <td>37.0</td>\n",
       "      <td>Minneapolis</td>\n",
       "    </tr>\n",
       "    <tr>\n",
       "      <th>21</th>\n",
       "      <td>Victor</td>\n",
       "      <td>40.0</td>\n",
       "      <td>New Orleans</td>\n",
       "    </tr>\n",
       "    <tr>\n",
       "      <th>22</th>\n",
       "      <td>Wendy</td>\n",
       "      <td>39.0</td>\n",
       "      <td>Orlando</td>\n",
       "    </tr>\n",
       "    <tr>\n",
       "      <th>23</th>\n",
       "      <td>Xavier</td>\n",
       "      <td>42.0</td>\n",
       "      <td>Salt Lake City</td>\n",
       "    </tr>\n",
       "    <tr>\n",
       "      <th>24</th>\n",
       "      <td>Yara</td>\n",
       "      <td>43.0</td>\n",
       "      <td>Tampa</td>\n",
       "    </tr>\n",
       "    <tr>\n",
       "      <th>25</th>\n",
       "      <td>Zachary</td>\n",
       "      <td>44.0</td>\n",
       "      <td>Albuquerque</td>\n",
       "    </tr>\n",
       "    <tr>\n",
       "      <th>26</th>\n",
       "      <td>Ava</td>\n",
       "      <td>18.0</td>\n",
       "      <td>Detroit</td>\n",
       "    </tr>\n",
       "    <tr>\n",
       "      <th>27</th>\n",
       "      <td>Benjamin</td>\n",
       "      <td>NaN</td>\n",
       "      <td>Charlotte</td>\n",
       "    </tr>\n",
       "    <tr>\n",
       "      <th>28</th>\n",
       "      <td>Chloe</td>\n",
       "      <td>27.0</td>\n",
       "      <td>Indianapolis</td>\n",
       "    </tr>\n",
       "    <tr>\n",
       "      <th>29</th>\n",
       "      <td>Daniel</td>\n",
       "      <td>25.0</td>\n",
       "      <td>Columbus</td>\n",
       "    </tr>\n",
       "    <tr>\n",
       "      <th>30</th>\n",
       "      <td>Emily</td>\n",
       "      <td>22.0</td>\n",
       "      <td>Jacksonville</td>\n",
       "    </tr>\n",
       "    <tr>\n",
       "      <th>31</th>\n",
       "      <td>Fiona</td>\n",
       "      <td>31.0</td>\n",
       "      <td>Kansas City</td>\n",
       "    </tr>\n",
       "    <tr>\n",
       "      <th>32</th>\n",
       "      <td>George</td>\n",
       "      <td>30.0</td>\n",
       "      <td>Milwaukee</td>\n",
       "    </tr>\n",
       "    <tr>\n",
       "      <th>33</th>\n",
       "      <td>Hannah</td>\n",
       "      <td>24.0</td>\n",
       "      <td>Oklahoma City</td>\n",
       "    </tr>\n",
       "    <tr>\n",
       "      <th>34</th>\n",
       "      <td>Isaac</td>\n",
       "      <td>NaN</td>\n",
       "      <td>Memphis</td>\n",
       "    </tr>\n",
       "    <tr>\n",
       "      <th>35</th>\n",
       "      <td>Julia</td>\n",
       "      <td>26.0</td>\n",
       "      <td>Louisville</td>\n",
       "    </tr>\n",
       "    <tr>\n",
       "      <th>36</th>\n",
       "      <td>Kevin</td>\n",
       "      <td>21.0</td>\n",
       "      <td>Omaha</td>\n",
       "    </tr>\n",
       "    <tr>\n",
       "      <th>37</th>\n",
       "      <td>Lily</td>\n",
       "      <td>33.0</td>\n",
       "      <td>Raleigh</td>\n",
       "    </tr>\n",
       "    <tr>\n",
       "      <th>38</th>\n",
       "      <td>Matthew</td>\n",
       "      <td>35.0</td>\n",
       "      <td>Cleveland</td>\n",
       "    </tr>\n",
       "    <tr>\n",
       "      <th>39</th>\n",
       "      <td>Nora</td>\n",
       "      <td>37.0</td>\n",
       "      <td>Pittsburgh</td>\n",
       "    </tr>\n",
       "    <tr>\n",
       "      <th>40</th>\n",
       "      <td>Oscar</td>\n",
       "      <td>39.0</td>\n",
       "      <td>Cincinnati</td>\n",
       "    </tr>\n",
       "    <tr>\n",
       "      <th>41</th>\n",
       "      <td>Penelope</td>\n",
       "      <td>41.0</td>\n",
       "      <td>Buffalo</td>\n",
       "    </tr>\n",
       "    <tr>\n",
       "      <th>42</th>\n",
       "      <td>Quincy</td>\n",
       "      <td>20.0</td>\n",
       "      <td>Hartford</td>\n",
       "    </tr>\n",
       "    <tr>\n",
       "      <th>43</th>\n",
       "      <td>Rebecca</td>\n",
       "      <td>42.0</td>\n",
       "      <td>Richmond</td>\n",
       "    </tr>\n",
       "    <tr>\n",
       "      <th>44</th>\n",
       "      <td>Stephen</td>\n",
       "      <td>36.0</td>\n",
       "      <td>Austin</td>\n",
       "    </tr>\n",
       "    <tr>\n",
       "      <th>45</th>\n",
       "      <td>Tara</td>\n",
       "      <td>32.0</td>\n",
       "      <td>San Antonio</td>\n",
       "    </tr>\n",
       "    <tr>\n",
       "      <th>46</th>\n",
       "      <td>Ulysses</td>\n",
       "      <td>34.0</td>\n",
       "      <td>San Jose</td>\n",
       "    </tr>\n",
       "    <tr>\n",
       "      <th>47</th>\n",
       "      <td>Violet</td>\n",
       "      <td>38.0</td>\n",
       "      <td>Sacramento</td>\n",
       "    </tr>\n",
       "    <tr>\n",
       "      <th>48</th>\n",
       "      <td>William</td>\n",
       "      <td>23.0</td>\n",
       "      <td>Anchorage</td>\n",
       "    </tr>\n",
       "    <tr>\n",
       "      <th>49</th>\n",
       "      <td>Xander</td>\n",
       "      <td>19.0</td>\n",
       "      <td>Honolulu</td>\n",
       "    </tr>\n",
       "  </tbody>\n",
       "</table>\n",
       "</div>"
      ],
      "text/plain": [
       "        Nama  Umur            Kota\n",
       "0      Alice  25.0        New York\n",
       "1        Bob  30.0     Los Angeles\n",
       "2    Charlie  22.0         Chicago\n",
       "3      David  27.0         Houston\n",
       "4       Emma  29.0           Miami\n",
       "5      Frank   NaN         Seattle\n",
       "6      Grace  20.0          Boston\n",
       "7      Henry  45.0          Dallas\n",
       "8   Isabella  31.0   San Francisco\n",
       "9       Jack  28.0          Austin\n",
       "10      Kate  24.0          Denver\n",
       "11      Liam  35.0         Phoenix\n",
       "12       Mia  26.0    Philadelphia\n",
       "13      Noah  32.0       San Diego\n",
       "14    Olivia  36.0      Washington\n",
       "15     Peter  21.0         Atlanta\n",
       "16     Quinn  23.0        Portland\n",
       "17    Rachel  38.0       Baltimore\n",
       "18    Samuel  19.0       Las Vegas\n",
       "19    Taylor  34.0       Nashville\n",
       "20    Ursula  37.0     Minneapolis\n",
       "21    Victor  40.0     New Orleans\n",
       "22     Wendy  39.0         Orlando\n",
       "23    Xavier  42.0  Salt Lake City\n",
       "24      Yara  43.0           Tampa\n",
       "25   Zachary  44.0     Albuquerque\n",
       "26       Ava  18.0         Detroit\n",
       "27  Benjamin   NaN       Charlotte\n",
       "28     Chloe  27.0    Indianapolis\n",
       "29    Daniel  25.0        Columbus\n",
       "30     Emily  22.0    Jacksonville\n",
       "31     Fiona  31.0     Kansas City\n",
       "32    George  30.0       Milwaukee\n",
       "33    Hannah  24.0   Oklahoma City\n",
       "34     Isaac   NaN         Memphis\n",
       "35     Julia  26.0      Louisville\n",
       "36     Kevin  21.0           Omaha\n",
       "37      Lily  33.0         Raleigh\n",
       "38   Matthew  35.0       Cleveland\n",
       "39      Nora  37.0      Pittsburgh\n",
       "40     Oscar  39.0      Cincinnati\n",
       "41  Penelope  41.0         Buffalo\n",
       "42    Quincy  20.0        Hartford\n",
       "43   Rebecca  42.0        Richmond\n",
       "44   Stephen  36.0          Austin\n",
       "45      Tara  32.0     San Antonio\n",
       "46   Ulysses  34.0        San Jose\n",
       "47    Violet  38.0      Sacramento\n",
       "48   William  23.0       Anchorage\n",
       "49    Xander  19.0        Honolulu"
      ]
     },
     "execution_count": 23,
     "metadata": {},
     "output_type": "execute_result"
    }
   ],
   "source": [
    "df"
   ]
  },
  {
   "cell_type": "markdown",
   "id": "db11bcfe",
   "metadata": {},
   "source": [
    "## 2.Tampilkan 3 baris terakhir dari DataFrame."
   ]
  },
  {
   "cell_type": "code",
   "execution_count": 24,
   "id": "73128459",
   "metadata": {},
   "outputs": [
    {
     "name": "stdout",
     "output_type": "stream",
     "text": [
      "       Nama  Umur        Kota\n",
      "47   Violet  38.0  Sacramento\n",
      "48  William  23.0   Anchorage\n",
      "49   Xander  19.0    Honolulu\n"
     ]
    }
   ],
   "source": [
    "last_three_rows = df.tail(3)\n",
    "print(last_three_rows)"
   ]
  },
  {
   "cell_type": "markdown",
   "id": "1d0f5101",
   "metadata": {},
   "source": [
    "## 3. Isi nilai yang hilang/missing values dalam kolom Umur dengan median umur."
   ]
  },
  {
   "cell_type": "code",
   "execution_count": 27,
   "id": "cef26130",
   "metadata": {},
   "outputs": [],
   "source": [
    "median_umur = df['Umur'].median()"
   ]
  },
  {
   "cell_type": "code",
   "execution_count": 28,
   "id": "2950958b",
   "metadata": {},
   "outputs": [],
   "source": [
    "df['Umur'].fillna(median_umur, inplace=True)"
   ]
  },
  {
   "cell_type": "code",
   "execution_count": 29,
   "id": "f7775e4c",
   "metadata": {},
   "outputs": [
    {
     "name": "stdout",
     "output_type": "stream",
     "text": [
      "        Nama  Umur            Kota\n",
      "0      Alice  25.0        New York\n",
      "1        Bob  30.0     Los Angeles\n",
      "2    Charlie  22.0         Chicago\n",
      "3      David  27.0         Houston\n",
      "4       Emma  29.0           Miami\n",
      "5      Frank  31.0         Seattle\n",
      "6      Grace  20.0          Boston\n",
      "7      Henry  45.0          Dallas\n",
      "8   Isabella  31.0   San Francisco\n",
      "9       Jack  28.0          Austin\n",
      "10      Kate  24.0          Denver\n",
      "11      Liam  35.0         Phoenix\n",
      "12       Mia  26.0    Philadelphia\n",
      "13      Noah  32.0       San Diego\n",
      "14    Olivia  36.0      Washington\n",
      "15     Peter  21.0         Atlanta\n",
      "16     Quinn  23.0        Portland\n",
      "17    Rachel  38.0       Baltimore\n",
      "18    Samuel  19.0       Las Vegas\n",
      "19    Taylor  34.0       Nashville\n",
      "20    Ursula  37.0     Minneapolis\n",
      "21    Victor  40.0     New Orleans\n",
      "22     Wendy  39.0         Orlando\n",
      "23    Xavier  42.0  Salt Lake City\n",
      "24      Yara  43.0           Tampa\n",
      "25   Zachary  44.0     Albuquerque\n",
      "26       Ava  18.0         Detroit\n",
      "27  Benjamin  31.0       Charlotte\n",
      "28     Chloe  27.0    Indianapolis\n",
      "29    Daniel  25.0        Columbus\n",
      "30     Emily  22.0    Jacksonville\n",
      "31     Fiona  31.0     Kansas City\n",
      "32    George  30.0       Milwaukee\n",
      "33    Hannah  24.0   Oklahoma City\n",
      "34     Isaac  31.0         Memphis\n",
      "35     Julia  26.0      Louisville\n",
      "36     Kevin  21.0           Omaha\n",
      "37      Lily  33.0         Raleigh\n",
      "38   Matthew  35.0       Cleveland\n",
      "39      Nora  37.0      Pittsburgh\n",
      "40     Oscar  39.0      Cincinnati\n",
      "41  Penelope  41.0         Buffalo\n",
      "42    Quincy  20.0        Hartford\n",
      "43   Rebecca  42.0        Richmond\n",
      "44   Stephen  36.0          Austin\n",
      "45      Tara  32.0     San Antonio\n",
      "46   Ulysses  34.0        San Jose\n",
      "47    Violet  38.0      Sacramento\n",
      "48   William  23.0       Anchorage\n",
      "49    Xander  19.0        Honolulu\n"
     ]
    }
   ],
   "source": [
    "print(df)"
   ]
  },
  {
   "cell_type": "markdown",
   "id": "6cd7e655",
   "metadata": {},
   "source": [
    "## 4. Tampilkan statistik ringkasan untuk kolom Umur"
   ]
  },
  {
   "cell_type": "code",
   "execution_count": 35,
   "id": "0bf81623",
   "metadata": {},
   "outputs": [
    {
     "name": "stdout",
     "output_type": "stream",
     "text": [
      "count    50.000000\n",
      "mean     30.720000\n",
      "std       7.543182\n",
      "min      18.000000\n",
      "25%      24.250000\n",
      "50%      31.000000\n",
      "75%      36.750000\n",
      "max      45.000000\n",
      "Name: Umur, dtype: float64\n"
     ]
    }
   ],
   "source": [
    "umur_summary = df['Umur'].describe()\n",
    "print(umur_summary)"
   ]
  },
  {
   "cell_type": "markdown",
   "id": "b7a5ad5e",
   "metadata": {},
   "source": [
    "## 5. Pilih dan tampilkan hanya baris-baris di mana Umur kurang dari 30"
   ]
  },
  {
   "cell_type": "code",
   "execution_count": 36,
   "id": "e1e1e4e9",
   "metadata": {},
   "outputs": [
    {
     "name": "stdout",
     "output_type": "stream",
     "text": [
      "       Nama  Umur           Kota\n",
      "0     Alice  25.0       New York\n",
      "2   Charlie  22.0        Chicago\n",
      "3     David  27.0        Houston\n",
      "4      Emma  29.0          Miami\n",
      "6     Grace  20.0         Boston\n",
      "9      Jack  28.0         Austin\n",
      "10     Kate  24.0         Denver\n",
      "12      Mia  26.0   Philadelphia\n",
      "15    Peter  21.0        Atlanta\n",
      "16    Quinn  23.0       Portland\n",
      "18   Samuel  19.0      Las Vegas\n",
      "26      Ava  18.0        Detroit\n",
      "28    Chloe  27.0   Indianapolis\n",
      "29   Daniel  25.0       Columbus\n",
      "30    Emily  22.0   Jacksonville\n",
      "33   Hannah  24.0  Oklahoma City\n",
      "35    Julia  26.0     Louisville\n",
      "36    Kevin  21.0          Omaha\n",
      "42   Quincy  20.0       Hartford\n",
      "48  William  23.0      Anchorage\n",
      "49   Xander  19.0       Honolulu\n"
     ]
    }
   ],
   "source": [
    "filtered_rows = df[df['Umur'] < 30]\n",
    "print(filtered_rows)"
   ]
  },
  {
   "cell_type": "markdown",
   "id": "2c267b6c",
   "metadata": {},
   "source": [
    "## 6. Pilih dan tampilkan hanya baris-baris di mana Nama berwalan huruf P atau Q dan Umur dari 20 - 30 tahun"
   ]
  },
  {
   "cell_type": "code",
   "execution_count": 38,
   "id": "733011ae",
   "metadata": {},
   "outputs": [
    {
     "name": "stdout",
     "output_type": "stream",
     "text": [
      "      Nama  Umur      Kota\n",
      "15   Peter  21.0   Atlanta\n",
      "16   Quinn  23.0  Portland\n",
      "42  Quincy  20.0  Hartford\n"
     ]
    }
   ],
   "source": [
    "filtered_rows = df[(df['Nama'].str.startswith('P') | \n",
    "                    df['Nama'].str.startswith('Q')) & \n",
    "                   (df['Umur'] >= 20) & (df['Umur'] <= 30)]\n",
    "print(filtered_rows)"
   ]
  },
  {
   "cell_type": "markdown",
   "id": "d3aa7562",
   "metadata": {},
   "source": [
    "## 7. Hitung jumlah kemunculan masing-masing nilai unik dalam kolom Kota"
   ]
  },
  {
   "cell_type": "code",
   "execution_count": 39,
   "id": "ab69aed8",
   "metadata": {},
   "outputs": [
    {
     "name": "stdout",
     "output_type": "stream",
     "text": [
      "Kota\n",
      "Austin            2\n",
      "New York          1\n",
      "Raleigh           1\n",
      "Charlotte         1\n",
      "Indianapolis      1\n",
      "Columbus          1\n",
      "Jacksonville      1\n",
      "Kansas City       1\n",
      "Milwaukee         1\n",
      "Oklahoma City     1\n",
      "Memphis           1\n",
      "Louisville        1\n",
      "Omaha             1\n",
      "Cleveland         1\n",
      "Albuquerque       1\n",
      "Pittsburgh        1\n",
      "Cincinnati        1\n",
      "Buffalo           1\n",
      "Hartford          1\n",
      "Richmond          1\n",
      "San Antonio       1\n",
      "San Jose          1\n",
      "Sacramento        1\n",
      "Anchorage         1\n",
      "Detroit           1\n",
      "Tampa             1\n",
      "Los Angeles       1\n",
      "Philadelphia      1\n",
      "Chicago           1\n",
      "Houston           1\n",
      "Miami             1\n",
      "Seattle           1\n",
      "Boston            1\n",
      "Dallas            1\n",
      "San Francisco     1\n",
      "Denver            1\n",
      "Phoenix           1\n",
      "San Diego         1\n",
      "Salt Lake City    1\n",
      "Washington        1\n",
      "Atlanta           1\n",
      "Portland          1\n",
      "Baltimore         1\n",
      "Las Vegas         1\n",
      "Nashville         1\n",
      "Minneapolis       1\n",
      "New Orleans       1\n",
      "Orlando           1\n",
      "Honolulu          1\n",
      "Name: count, dtype: int64\n"
     ]
    }
   ],
   "source": [
    "kota_counts = df['Kota'].value_counts()\n",
    "print(kota_counts)"
   ]
  },
  {
   "cell_type": "markdown",
   "id": "4ceb4691",
   "metadata": {},
   "source": [
    "## 8. Tambahkan kolom baru bernama Jenis Kelamin dengan nilai acak \"Laki-laki\" dan \"Perempuan\""
   ]
  },
  {
   "cell_type": "code",
   "execution_count": 51,
   "id": "8f2bd887",
   "metadata": {},
   "outputs": [
    {
     "name": "stdout",
     "output_type": "stream",
     "text": [
      "        Nama  Umur            Kota Jenis Kelamin\n",
      "0      Alice  25.0        New York     Laki-laki\n",
      "1        Bob  30.0     Los Angeles     Perempuan\n",
      "2    Charlie  22.0         Chicago     Laki-laki\n",
      "3      David  27.0         Houston     Perempuan\n",
      "4       Emma  29.0           Miami     Laki-laki\n",
      "5      Frank  31.0         Seattle     Perempuan\n",
      "6      Grace  20.0          Boston     Laki-laki\n",
      "7      Henry  45.0          Dallas     Perempuan\n",
      "8   Isabella  31.0   San Francisco     Perempuan\n",
      "9       Jack  28.0          Austin     Laki-laki\n",
      "10      Kate  24.0          Denver     Perempuan\n",
      "11      Liam  35.0         Phoenix     Perempuan\n",
      "12       Mia  26.0    Philadelphia     Perempuan\n",
      "13      Noah  32.0       San Diego     Perempuan\n",
      "14    Olivia  36.0      Washington     Laki-laki\n",
      "15     Peter  21.0         Atlanta     Laki-laki\n",
      "16     Quinn  23.0        Portland     Perempuan\n",
      "17    Rachel  38.0       Baltimore     Perempuan\n",
      "18    Samuel  19.0       Las Vegas     Laki-laki\n",
      "19    Taylor  34.0       Nashville     Laki-laki\n",
      "20    Ursula  37.0     Minneapolis     Perempuan\n",
      "21    Victor  40.0     New Orleans     Laki-laki\n",
      "22     Wendy  39.0         Orlando     Perempuan\n",
      "23    Xavier  42.0  Salt Lake City     Laki-laki\n",
      "24      Yara  43.0           Tampa     Perempuan\n",
      "25   Zachary  44.0     Albuquerque     Laki-laki\n",
      "26       Ava  18.0         Detroit     Laki-laki\n",
      "27  Benjamin  31.0       Charlotte     Laki-laki\n",
      "28     Chloe  27.0    Indianapolis     Laki-laki\n",
      "29    Daniel  25.0        Columbus     Perempuan\n",
      "30     Emily  22.0    Jacksonville     Perempuan\n",
      "31     Fiona  31.0     Kansas City     Perempuan\n",
      "32    George  30.0       Milwaukee     Laki-laki\n",
      "33    Hannah  24.0   Oklahoma City     Laki-laki\n",
      "34     Isaac  31.0         Memphis     Laki-laki\n",
      "35     Julia  26.0      Louisville     Perempuan\n",
      "36     Kevin  21.0           Omaha     Laki-laki\n",
      "37      Lily  33.0         Raleigh     Laki-laki\n",
      "38   Matthew  35.0       Cleveland     Laki-laki\n",
      "39      Nora  37.0      Pittsburgh     Laki-laki\n",
      "40     Oscar  39.0      Cincinnati     Laki-laki\n",
      "41  Penelope  41.0         Buffalo     Perempuan\n",
      "42    Quincy  20.0        Hartford     Perempuan\n",
      "43   Rebecca  42.0        Richmond     Laki-laki\n",
      "44   Stephen  36.0          Austin     Laki-laki\n",
      "45      Tara  32.0     San Antonio     Laki-laki\n",
      "46   Ulysses  34.0        San Jose     Laki-laki\n",
      "47    Violet  38.0      Sacramento     Laki-laki\n",
      "48   William  23.0       Anchorage     Laki-laki\n",
      "49    Xander  19.0        Honolulu     Laki-laki\n"
     ]
    }
   ],
   "source": [
    "def generate_jenis_kelamin():\n",
    "    return random.choice([\"Laki-laki\", \"Perempuan\"])\n",
    "df['Jenis Kelamin'] = df.apply(lambda row: generate_jenis_kelamin(), axis=1)\n",
    "print(df)"
   ]
  },
  {
   "cell_type": "markdown",
   "id": "e24d4140",
   "metadata": {},
   "source": [
    "## 9. Ganti nama kolom Kota menjadi Lokasi"
   ]
  },
  {
   "cell_type": "code",
   "execution_count": 54,
   "id": "4fe90806",
   "metadata": {},
   "outputs": [
    {
     "name": "stdout",
     "output_type": "stream",
     "text": [
      "        Nama  Umur          Lokasi Jenis Kelamin\n",
      "0      Alice  25.0        New York     Laki-laki\n",
      "1        Bob  30.0     Los Angeles     Perempuan\n",
      "2    Charlie  22.0         Chicago     Laki-laki\n",
      "3      David  27.0         Houston     Perempuan\n",
      "4       Emma  29.0           Miami     Laki-laki\n",
      "5      Frank  31.0         Seattle     Perempuan\n",
      "6      Grace  20.0          Boston     Laki-laki\n",
      "7      Henry  45.0          Dallas     Perempuan\n",
      "8   Isabella  31.0   San Francisco     Perempuan\n",
      "9       Jack  28.0          Austin     Laki-laki\n",
      "10      Kate  24.0          Denver     Perempuan\n",
      "11      Liam  35.0         Phoenix     Perempuan\n",
      "12       Mia  26.0    Philadelphia     Perempuan\n",
      "13      Noah  32.0       San Diego     Perempuan\n",
      "14    Olivia  36.0      Washington     Laki-laki\n",
      "15     Peter  21.0         Atlanta     Laki-laki\n",
      "16     Quinn  23.0        Portland     Perempuan\n",
      "17    Rachel  38.0       Baltimore     Perempuan\n",
      "18    Samuel  19.0       Las Vegas     Laki-laki\n",
      "19    Taylor  34.0       Nashville     Laki-laki\n",
      "20    Ursula  37.0     Minneapolis     Perempuan\n",
      "21    Victor  40.0     New Orleans     Laki-laki\n",
      "22     Wendy  39.0         Orlando     Perempuan\n",
      "23    Xavier  42.0  Salt Lake City     Laki-laki\n",
      "24      Yara  43.0           Tampa     Perempuan\n",
      "25   Zachary  44.0     Albuquerque     Laki-laki\n",
      "26       Ava  18.0         Detroit     Laki-laki\n",
      "27  Benjamin  31.0       Charlotte     Laki-laki\n",
      "28     Chloe  27.0    Indianapolis     Laki-laki\n",
      "29    Daniel  25.0        Columbus     Perempuan\n",
      "30     Emily  22.0    Jacksonville     Perempuan\n",
      "31     Fiona  31.0     Kansas City     Perempuan\n",
      "32    George  30.0       Milwaukee     Laki-laki\n",
      "33    Hannah  24.0   Oklahoma City     Laki-laki\n",
      "34     Isaac  31.0         Memphis     Laki-laki\n",
      "35     Julia  26.0      Louisville     Perempuan\n",
      "36     Kevin  21.0           Omaha     Laki-laki\n",
      "37      Lily  33.0         Raleigh     Laki-laki\n",
      "38   Matthew  35.0       Cleveland     Laki-laki\n",
      "39      Nora  37.0      Pittsburgh     Laki-laki\n",
      "40     Oscar  39.0      Cincinnati     Laki-laki\n",
      "41  Penelope  41.0         Buffalo     Perempuan\n",
      "42    Quincy  20.0        Hartford     Perempuan\n",
      "43   Rebecca  42.0        Richmond     Laki-laki\n",
      "44   Stephen  36.0          Austin     Laki-laki\n",
      "45      Tara  32.0     San Antonio     Laki-laki\n",
      "46   Ulysses  34.0        San Jose     Laki-laki\n",
      "47    Violet  38.0      Sacramento     Laki-laki\n",
      "48   William  23.0       Anchorage     Laki-laki\n",
      "49    Xander  19.0        Honolulu     Laki-laki\n"
     ]
    }
   ],
   "source": [
    "df.rename(columns={'Kota': 'Lokasi'}, inplace=True)\n",
    "print(df)"
   ]
  },
  {
   "cell_type": "markdown",
   "id": "371c75c6",
   "metadata": {},
   "source": [
    "## 10. Urutkan DataFrame berdasarkan Umur secara menaik"
   ]
  },
  {
   "cell_type": "code",
   "execution_count": 57,
   "id": "15de3a8e",
   "metadata": {},
   "outputs": [
    {
     "name": "stdout",
     "output_type": "stream",
     "text": [
      "        Nama  Umur          Lokasi Jenis Kelamin\n",
      "26       Ava  18.0         Detroit     Laki-laki\n",
      "49    Xander  19.0        Honolulu     Laki-laki\n",
      "18    Samuel  19.0       Las Vegas     Laki-laki\n",
      "42    Quincy  20.0        Hartford     Perempuan\n",
      "6      Grace  20.0          Boston     Laki-laki\n",
      "36     Kevin  21.0           Omaha     Laki-laki\n",
      "15     Peter  21.0         Atlanta     Laki-laki\n",
      "2    Charlie  22.0         Chicago     Laki-laki\n",
      "30     Emily  22.0    Jacksonville     Perempuan\n",
      "48   William  23.0       Anchorage     Laki-laki\n",
      "16     Quinn  23.0        Portland     Perempuan\n",
      "33    Hannah  24.0   Oklahoma City     Laki-laki\n",
      "10      Kate  24.0          Denver     Perempuan\n",
      "29    Daniel  25.0        Columbus     Perempuan\n",
      "0      Alice  25.0        New York     Laki-laki\n",
      "12       Mia  26.0    Philadelphia     Perempuan\n",
      "35     Julia  26.0      Louisville     Perempuan\n",
      "3      David  27.0         Houston     Perempuan\n",
      "28     Chloe  27.0    Indianapolis     Laki-laki\n",
      "9       Jack  28.0          Austin     Laki-laki\n",
      "4       Emma  29.0           Miami     Laki-laki\n",
      "32    George  30.0       Milwaukee     Laki-laki\n",
      "1        Bob  30.0     Los Angeles     Perempuan\n",
      "34     Isaac  31.0         Memphis     Laki-laki\n",
      "31     Fiona  31.0     Kansas City     Perempuan\n",
      "5      Frank  31.0         Seattle     Perempuan\n",
      "8   Isabella  31.0   San Francisco     Perempuan\n",
      "27  Benjamin  31.0       Charlotte     Laki-laki\n",
      "45      Tara  32.0     San Antonio     Laki-laki\n",
      "13      Noah  32.0       San Diego     Perempuan\n",
      "37      Lily  33.0         Raleigh     Laki-laki\n",
      "46   Ulysses  34.0        San Jose     Laki-laki\n",
      "19    Taylor  34.0       Nashville     Laki-laki\n",
      "11      Liam  35.0         Phoenix     Perempuan\n",
      "38   Matthew  35.0       Cleveland     Laki-laki\n",
      "14    Olivia  36.0      Washington     Laki-laki\n",
      "44   Stephen  36.0          Austin     Laki-laki\n",
      "20    Ursula  37.0     Minneapolis     Perempuan\n",
      "39      Nora  37.0      Pittsburgh     Laki-laki\n",
      "17    Rachel  38.0       Baltimore     Perempuan\n",
      "47    Violet  38.0      Sacramento     Laki-laki\n",
      "22     Wendy  39.0         Orlando     Perempuan\n",
      "40     Oscar  39.0      Cincinnati     Laki-laki\n",
      "21    Victor  40.0     New Orleans     Laki-laki\n",
      "41  Penelope  41.0         Buffalo     Perempuan\n",
      "23    Xavier  42.0  Salt Lake City     Laki-laki\n",
      "43   Rebecca  42.0        Richmond     Laki-laki\n",
      "24      Yara  43.0           Tampa     Perempuan\n",
      "25   Zachary  44.0     Albuquerque     Laki-laki\n",
      "7      Henry  45.0          Dallas     Perempuan\n"
     ]
    }
   ],
   "source": [
    "df.sorted = df.sort_values(by='Umur', ascending=True)\n",
    "print(df.sorted)"
   ]
  },
  {
   "cell_type": "markdown",
   "id": "613e0fb5",
   "metadata": {},
   "source": [
    "## 11. Ganti semua nilai \"New York\" dalam kolom Lokasi dengan \"NYC\""
   ]
  },
  {
   "cell_type": "code",
   "execution_count": 61,
   "id": "7385f6f8",
   "metadata": {},
   "outputs": [
    {
     "name": "stdout",
     "output_type": "stream",
     "text": [
      "        Nama  Umur          Lokasi Jenis Kelamin\n",
      "0      Alice  25.0             NYC     Laki-laki\n",
      "1        Bob  30.0     Los Angeles     Perempuan\n",
      "2    Charlie  22.0         Chicago     Laki-laki\n",
      "3      David  27.0         Houston     Perempuan\n",
      "4       Emma  29.0           Miami     Laki-laki\n",
      "5      Frank  31.0         Seattle     Perempuan\n",
      "6      Grace  20.0          Boston     Laki-laki\n",
      "7      Henry  45.0          Dallas     Perempuan\n",
      "8   Isabella  31.0   San Francisco     Perempuan\n",
      "9       Jack  28.0          Austin     Laki-laki\n",
      "10      Kate  24.0          Denver     Perempuan\n",
      "11      Liam  35.0         Phoenix     Perempuan\n",
      "12       Mia  26.0    Philadelphia     Perempuan\n",
      "13      Noah  32.0       San Diego     Perempuan\n",
      "14    Olivia  36.0      Washington     Laki-laki\n",
      "15     Peter  21.0         Atlanta     Laki-laki\n",
      "16     Quinn  23.0        Portland     Perempuan\n",
      "17    Rachel  38.0       Baltimore     Perempuan\n",
      "18    Samuel  19.0       Las Vegas     Laki-laki\n",
      "19    Taylor  34.0       Nashville     Laki-laki\n",
      "20    Ursula  37.0     Minneapolis     Perempuan\n",
      "21    Victor  40.0     New Orleans     Laki-laki\n",
      "22     Wendy  39.0         Orlando     Perempuan\n",
      "23    Xavier  42.0  Salt Lake City     Laki-laki\n",
      "24      Yara  43.0           Tampa     Perempuan\n",
      "25   Zachary  44.0     Albuquerque     Laki-laki\n",
      "26       Ava  18.0         Detroit     Laki-laki\n",
      "27  Benjamin  31.0       Charlotte     Laki-laki\n",
      "28     Chloe  27.0    Indianapolis     Laki-laki\n",
      "29    Daniel  25.0        Columbus     Perempuan\n",
      "30     Emily  22.0    Jacksonville     Perempuan\n",
      "31     Fiona  31.0     Kansas City     Perempuan\n",
      "32    George  30.0       Milwaukee     Laki-laki\n",
      "33    Hannah  24.0   Oklahoma City     Laki-laki\n",
      "34     Isaac  31.0         Memphis     Laki-laki\n",
      "35     Julia  26.0      Louisville     Perempuan\n",
      "36     Kevin  21.0           Omaha     Laki-laki\n",
      "37      Lily  33.0         Raleigh     Laki-laki\n",
      "38   Matthew  35.0       Cleveland     Laki-laki\n",
      "39      Nora  37.0      Pittsburgh     Laki-laki\n",
      "40     Oscar  39.0      Cincinnati     Laki-laki\n",
      "41  Penelope  41.0         Buffalo     Perempuan\n",
      "42    Quincy  20.0        Hartford     Perempuan\n",
      "43   Rebecca  42.0        Richmond     Laki-laki\n",
      "44   Stephen  36.0          Austin     Laki-laki\n",
      "45      Tara  32.0     San Antonio     Laki-laki\n",
      "46   Ulysses  34.0        San Jose     Laki-laki\n",
      "47    Violet  38.0      Sacramento     Laki-laki\n",
      "48   William  23.0       Anchorage     Laki-laki\n",
      "49    Xander  19.0        Honolulu     Laki-laki\n"
     ]
    }
   ],
   "source": [
    "df['Lokasi'] = df['Lokasi'].replace('New York', 'NYC')\n",
    "print(df)"
   ]
  },
  {
   "cell_type": "markdown",
   "id": "dd0f85d1",
   "metadata": {},
   "source": [
    "## 12. Kelompokkan DataFrame berdasarkan Lokasi dan hitung median Umur di setiap kelompok. (hint: pelajari groupby dan agg/aggreate)"
   ]
  },
  {
   "cell_type": "code",
   "execution_count": 62,
   "id": "725a5e8a",
   "metadata": {},
   "outputs": [
    {
     "name": "stdout",
     "output_type": "stream",
     "text": [
      "                median_umur\n",
      "Lokasi                     \n",
      "Albuquerque            44.0\n",
      "Anchorage              23.0\n",
      "Atlanta                21.0\n",
      "Austin                 32.0\n",
      "Baltimore              38.0\n",
      "Boston                 20.0\n",
      "Buffalo                41.0\n",
      "Charlotte              31.0\n",
      "Chicago                22.0\n",
      "Cincinnati             39.0\n",
      "Cleveland              35.0\n",
      "Columbus               25.0\n",
      "Dallas                 45.0\n",
      "Denver                 24.0\n",
      "Detroit                18.0\n",
      "Hartford               20.0\n",
      "Honolulu               19.0\n",
      "Houston                27.0\n",
      "Indianapolis           27.0\n",
      "Jacksonville           22.0\n",
      "Kansas City            31.0\n",
      "Las Vegas              19.0\n",
      "Los Angeles            30.0\n",
      "Louisville             26.0\n",
      "Memphis                31.0\n",
      "Miami                  29.0\n",
      "Milwaukee              30.0\n",
      "Minneapolis            37.0\n",
      "NYC                    25.0\n",
      "Nashville              34.0\n",
      "New Orleans            40.0\n",
      "Oklahoma City          24.0\n",
      "Omaha                  21.0\n",
      "Orlando                39.0\n",
      "Philadelphia           26.0\n",
      "Phoenix                35.0\n",
      "Pittsburgh             37.0\n",
      "Portland               23.0\n",
      "Raleigh                33.0\n",
      "Richmond               42.0\n",
      "Sacramento             38.0\n",
      "Salt Lake City         42.0\n",
      "San Antonio            32.0\n",
      "San Diego              32.0\n",
      "San Francisco          31.0\n",
      "San Jose               34.0\n",
      "Seattle                31.0\n",
      "Tampa                  43.0\n",
      "Washington             36.0\n"
     ]
    }
   ],
   "source": [
    "grouped_data = df.groupby('Lokasi')['Umur'].agg(median_umur='median')\n",
    "print(grouped_data)"
   ]
  },
  {
   "cell_type": "markdown",
   "id": "33733349",
   "metadata": {},
   "source": [
    "## 13. Buat DataFrame baru hanya dengan baris-baris di mana Umur ganjil"
   ]
  },
  {
   "cell_type": "code",
   "execution_count": 64,
   "id": "92f01f8c",
   "metadata": {},
   "outputs": [
    {
     "name": "stdout",
     "output_type": "stream",
     "text": [
      "        Nama  Umur         Lokasi Jenis Kelamin\n",
      "0      Alice  25.0            NYC     Laki-laki\n",
      "3      David  27.0        Houston     Perempuan\n",
      "4       Emma  29.0          Miami     Laki-laki\n",
      "5      Frank  31.0        Seattle     Perempuan\n",
      "7      Henry  45.0         Dallas     Perempuan\n",
      "8   Isabella  31.0  San Francisco     Perempuan\n",
      "11      Liam  35.0        Phoenix     Perempuan\n",
      "15     Peter  21.0        Atlanta     Laki-laki\n",
      "16     Quinn  23.0       Portland     Perempuan\n",
      "18    Samuel  19.0      Las Vegas     Laki-laki\n",
      "20    Ursula  37.0    Minneapolis     Perempuan\n",
      "22     Wendy  39.0        Orlando     Perempuan\n",
      "24      Yara  43.0          Tampa     Perempuan\n",
      "27  Benjamin  31.0      Charlotte     Laki-laki\n",
      "28     Chloe  27.0   Indianapolis     Laki-laki\n",
      "29    Daniel  25.0       Columbus     Perempuan\n",
      "31     Fiona  31.0    Kansas City     Perempuan\n",
      "34     Isaac  31.0        Memphis     Laki-laki\n",
      "36     Kevin  21.0          Omaha     Laki-laki\n",
      "37      Lily  33.0        Raleigh     Laki-laki\n",
      "38   Matthew  35.0      Cleveland     Laki-laki\n",
      "39      Nora  37.0     Pittsburgh     Laki-laki\n",
      "40     Oscar  39.0     Cincinnati     Laki-laki\n",
      "41  Penelope  41.0        Buffalo     Perempuan\n",
      "48   William  23.0      Anchorage     Laki-laki\n",
      "49    Xander  19.0       Honolulu     Laki-laki\n"
     ]
    }
   ],
   "source": [
    "df_odd_umur = df[df['Umur'] % 2 != 0]\n",
    "print(df_odd_umur)"
   ]
  },
  {
   "cell_type": "markdown",
   "id": "e1c6b7ab",
   "metadata": {},
   "source": [
    "## 14. Simpan DataFrame yang sudah dimodifikasi menjadi file CSV baru"
   ]
  },
  {
   "cell_type": "code",
   "execution_count": 65,
   "id": "208cfa61",
   "metadata": {},
   "outputs": [],
   "source": [
    "output_csv_path = os.path.join(os.path.expanduser(\"~\"), 'Downloads', 'modified_data.csv')\n",
    "df.to_csv(output_csv_path, index=False)"
   ]
  },
  {
   "cell_type": "markdown",
   "id": "ac4cbf95",
   "metadata": {},
   "source": [
    "## 15. Terapkan fungsi yang mengonversi nama-nama dalam kolom Nama menjadi huruf kecil"
   ]
  },
  {
   "cell_type": "code",
   "execution_count": 67,
   "id": "7287c1c1",
   "metadata": {},
   "outputs": [
    {
     "name": "stdout",
     "output_type": "stream",
     "text": [
      "        Nama  Umur          Lokasi Jenis Kelamin\n",
      "0      alice  25.0             NYC     Laki-laki\n",
      "1        bob  30.0     Los Angeles     Perempuan\n",
      "2    charlie  22.0         Chicago     Laki-laki\n",
      "3      david  27.0         Houston     Perempuan\n",
      "4       emma  29.0           Miami     Laki-laki\n",
      "5      frank  31.0         Seattle     Perempuan\n",
      "6      grace  20.0          Boston     Laki-laki\n",
      "7      henry  45.0          Dallas     Perempuan\n",
      "8   isabella  31.0   San Francisco     Perempuan\n",
      "9       jack  28.0          Austin     Laki-laki\n",
      "10      kate  24.0          Denver     Perempuan\n",
      "11      liam  35.0         Phoenix     Perempuan\n",
      "12       mia  26.0    Philadelphia     Perempuan\n",
      "13      noah  32.0       San Diego     Perempuan\n",
      "14    olivia  36.0      Washington     Laki-laki\n",
      "15     peter  21.0         Atlanta     Laki-laki\n",
      "16     quinn  23.0        Portland     Perempuan\n",
      "17    rachel  38.0       Baltimore     Perempuan\n",
      "18    samuel  19.0       Las Vegas     Laki-laki\n",
      "19    taylor  34.0       Nashville     Laki-laki\n",
      "20    ursula  37.0     Minneapolis     Perempuan\n",
      "21    victor  40.0     New Orleans     Laki-laki\n",
      "22     wendy  39.0         Orlando     Perempuan\n",
      "23    xavier  42.0  Salt Lake City     Laki-laki\n",
      "24      yara  43.0           Tampa     Perempuan\n",
      "25   zachary  44.0     Albuquerque     Laki-laki\n",
      "26       ava  18.0         Detroit     Laki-laki\n",
      "27  benjamin  31.0       Charlotte     Laki-laki\n",
      "28     chloe  27.0    Indianapolis     Laki-laki\n",
      "29    daniel  25.0        Columbus     Perempuan\n",
      "30     emily  22.0    Jacksonville     Perempuan\n",
      "31     fiona  31.0     Kansas City     Perempuan\n",
      "32    george  30.0       Milwaukee     Laki-laki\n",
      "33    hannah  24.0   Oklahoma City     Laki-laki\n",
      "34     isaac  31.0         Memphis     Laki-laki\n",
      "35     julia  26.0      Louisville     Perempuan\n",
      "36     kevin  21.0           Omaha     Laki-laki\n",
      "37      lily  33.0         Raleigh     Laki-laki\n",
      "38   matthew  35.0       Cleveland     Laki-laki\n",
      "39      nora  37.0      Pittsburgh     Laki-laki\n",
      "40     oscar  39.0      Cincinnati     Laki-laki\n",
      "41  penelope  41.0         Buffalo     Perempuan\n",
      "42    quincy  20.0        Hartford     Perempuan\n",
      "43   rebecca  42.0        Richmond     Laki-laki\n",
      "44   stephen  36.0          Austin     Laki-laki\n",
      "45      tara  32.0     San Antonio     Laki-laki\n",
      "46   ulysses  34.0        San Jose     Laki-laki\n",
      "47    violet  38.0      Sacramento     Laki-laki\n",
      "48   william  23.0       Anchorage     Laki-laki\n",
      "49    xander  19.0        Honolulu     Laki-laki\n"
     ]
    }
   ],
   "source": [
    "df['Nama'] = df['Nama'].str.lower()\n",
    "print(df)"
   ]
  },
  {
   "cell_type": "markdown",
   "id": "e179e030",
   "metadata": {},
   "source": [
    "## 16. Hitung persentil ke-25 dari kolom Umur"
   ]
  },
  {
   "cell_type": "code",
   "execution_count": 68,
   "id": "15aba2ac",
   "metadata": {},
   "outputs": [
    {
     "name": "stdout",
     "output_type": "stream",
     "text": [
      "24.25\n"
     ]
    }
   ],
   "source": [
    "quartile_25 = df['Umur'].quantile(0.25)\n",
    "print(quartile_25)"
   ]
  },
  {
   "cell_type": "markdown",
   "id": "e0e1774a",
   "metadata": {},
   "source": [
    "## 17. Hitung dan tampilkan rata-rata umur untuk setiap kombinasi unik Lokasi dan Jenis Kelamin. (hint: pelajari groupby dan agg/aggreate)"
   ]
  },
  {
   "cell_type": "code",
   "execution_count": 91,
   "id": "6e510523",
   "metadata": {},
   "outputs": [
    {
     "name": "stdout",
     "output_type": "stream",
     "text": [
      "                              mean_umur\n",
      "Lokasi         Jenis Kelamin           \n",
      "Albuquerque    Laki-laki           44.0\n",
      "Anchorage      Laki-laki           23.0\n",
      "Atlanta        Laki-laki           21.0\n",
      "Austin         Laki-laki           32.0\n",
      "Baltimore      Perempuan           38.0\n",
      "Boston         Laki-laki           20.0\n",
      "Buffalo        Perempuan           41.0\n",
      "CHI            Laki-laki           22.0\n",
      "Charlotte      Laki-laki           31.0\n",
      "Cincinnati     Laki-laki           39.0\n",
      "Cleveland      Laki-laki           35.0\n",
      "Columbus       Perempuan           25.0\n",
      "Dallas         Perempuan           45.0\n",
      "Denver         Perempuan           24.0\n",
      "Detroit        Laki-laki           18.0\n",
      "Hartford       Perempuan           20.0\n",
      "Honolulu       Laki-laki           19.0\n",
      "Houston        Perempuan           27.0\n",
      "Indianapolis   Laki-laki           27.0\n",
      "Jacksonville   Perempuan           22.0\n",
      "Kansas City    Perempuan           31.0\n",
      "Las Vegas      Laki-laki           19.0\n",
      "Los Angeles    Perempuan           30.0\n",
      "Louisville     Perempuan           26.0\n",
      "Memphis        Laki-laki           31.0\n",
      "Miami          Laki-laki           29.0\n",
      "Milwaukee      Laki-laki           30.0\n",
      "Minneapolis    Perempuan           37.0\n",
      "NYC            Laki-laki           25.0\n",
      "Nashville      Laki-laki           34.0\n",
      "New Orleans    Laki-laki           40.0\n",
      "Oklahoma City  Laki-laki           24.0\n",
      "Omaha          Laki-laki           21.0\n",
      "Orlando        Perempuan           39.0\n",
      "Philadelphia   Perempuan           26.0\n",
      "Phoenix        Perempuan           35.0\n",
      "Pittsburgh     Laki-laki           37.0\n",
      "Portland       Perempuan           23.0\n",
      "Raleigh        Laki-laki           33.0\n",
      "Richmond       Laki-laki           42.0\n",
      "Sacramento     Laki-laki           38.0\n",
      "Salt Lake City Laki-laki           42.0\n",
      "San Antonio    Laki-laki           32.0\n",
      "San Diego      Perempuan           32.0\n",
      "San Francisco  Perempuan           31.0\n",
      "San Jose       Laki-laki           34.0\n",
      "Seattle        Perempuan           31.0\n",
      "Tampa          Perempuan           43.0\n",
      "Washington     Laki-laki           36.0\n"
     ]
    }
   ],
   "source": [
    "grouped_data = df.groupby(['Lokasi', 'Jenis Kelamin'])['Umur'].agg(mean_umur='mean')\n",
    "print(grouped_data)"
   ]
  },
  {
   "cell_type": "markdown",
   "id": "52b14fe1",
   "metadata": {},
   "source": [
    "## 18. Hapus baris-baris duplikat berdasarkan kolom Lokasi"
   ]
  },
  {
   "cell_type": "code",
   "execution_count": 70,
   "id": "fe518da9",
   "metadata": {},
   "outputs": [
    {
     "name": "stdout",
     "output_type": "stream",
     "text": [
      "        Nama  Umur          Lokasi Jenis Kelamin\n",
      "0      alice  25.0             NYC     Laki-laki\n",
      "1        bob  30.0     Los Angeles     Perempuan\n",
      "2    charlie  22.0         Chicago     Laki-laki\n",
      "3      david  27.0         Houston     Perempuan\n",
      "4       emma  29.0           Miami     Laki-laki\n",
      "5      frank  31.0         Seattle     Perempuan\n",
      "6      grace  20.0          Boston     Laki-laki\n",
      "7      henry  45.0          Dallas     Perempuan\n",
      "8   isabella  31.0   San Francisco     Perempuan\n",
      "9       jack  28.0          Austin     Laki-laki\n",
      "10      kate  24.0          Denver     Perempuan\n",
      "11      liam  35.0         Phoenix     Perempuan\n",
      "12       mia  26.0    Philadelphia     Perempuan\n",
      "13      noah  32.0       San Diego     Perempuan\n",
      "14    olivia  36.0      Washington     Laki-laki\n",
      "15     peter  21.0         Atlanta     Laki-laki\n",
      "16     quinn  23.0        Portland     Perempuan\n",
      "17    rachel  38.0       Baltimore     Perempuan\n",
      "18    samuel  19.0       Las Vegas     Laki-laki\n",
      "19    taylor  34.0       Nashville     Laki-laki\n",
      "20    ursula  37.0     Minneapolis     Perempuan\n",
      "21    victor  40.0     New Orleans     Laki-laki\n",
      "22     wendy  39.0         Orlando     Perempuan\n",
      "23    xavier  42.0  Salt Lake City     Laki-laki\n",
      "24      yara  43.0           Tampa     Perempuan\n",
      "25   zachary  44.0     Albuquerque     Laki-laki\n",
      "26       ava  18.0         Detroit     Laki-laki\n",
      "27  benjamin  31.0       Charlotte     Laki-laki\n",
      "28     chloe  27.0    Indianapolis     Laki-laki\n",
      "29    daniel  25.0        Columbus     Perempuan\n",
      "30     emily  22.0    Jacksonville     Perempuan\n",
      "31     fiona  31.0     Kansas City     Perempuan\n",
      "32    george  30.0       Milwaukee     Laki-laki\n",
      "33    hannah  24.0   Oklahoma City     Laki-laki\n",
      "34     isaac  31.0         Memphis     Laki-laki\n",
      "35     julia  26.0      Louisville     Perempuan\n",
      "36     kevin  21.0           Omaha     Laki-laki\n",
      "37      lily  33.0         Raleigh     Laki-laki\n",
      "38   matthew  35.0       Cleveland     Laki-laki\n",
      "39      nora  37.0      Pittsburgh     Laki-laki\n",
      "40     oscar  39.0      Cincinnati     Laki-laki\n",
      "41  penelope  41.0         Buffalo     Perempuan\n",
      "42    quincy  20.0        Hartford     Perempuan\n",
      "43   rebecca  42.0        Richmond     Laki-laki\n",
      "45      tara  32.0     San Antonio     Laki-laki\n",
      "46   ulysses  34.0        San Jose     Laki-laki\n",
      "47    violet  38.0      Sacramento     Laki-laki\n",
      "48   william  23.0       Anchorage     Laki-laki\n",
      "49    xander  19.0        Honolulu     Laki-laki\n"
     ]
    }
   ],
   "source": [
    "df_unique = df.drop_duplicates(subset=['Lokasi'])\n",
    "print(df_unique)"
   ]
  },
  {
   "cell_type": "markdown",
   "id": "3a6d91c2",
   "metadata": {},
   "source": [
    "## 19. Gunakan fungsi apply untuk mengubah semua nilai Umur menjadi string"
   ]
  },
  {
   "cell_type": "code",
   "execution_count": 92,
   "id": "44e05275",
   "metadata": {},
   "outputs": [
    {
     "name": "stdout",
     "output_type": "stream",
     "text": [
      "        Nama  Umur          Lokasi Jenis Kelamin\n",
      "0      alice  25.0             NYC     Laki-laki\n",
      "1        bob  30.0     Los Angeles     Perempuan\n",
      "2    charlie  22.0             CHI     Laki-laki\n",
      "3      david  27.0         Houston     Perempuan\n",
      "4       emma  29.0           Miami     Laki-laki\n",
      "5      frank  31.0         Seattle     Perempuan\n",
      "6      grace  20.0          Boston     Laki-laki\n",
      "7      henry  45.0          Dallas     Perempuan\n",
      "8   isabella  31.0   San Francisco     Perempuan\n",
      "9       jack  28.0          Austin     Laki-laki\n",
      "10      kate  24.0          Denver     Perempuan\n",
      "11      liam  35.0         Phoenix     Perempuan\n",
      "12       mia  26.0    Philadelphia     Perempuan\n",
      "13      noah  32.0       San Diego     Perempuan\n",
      "14    olivia  36.0      Washington     Laki-laki\n",
      "15     peter  21.0         Atlanta     Laki-laki\n",
      "16     quinn  23.0        Portland     Perempuan\n",
      "17    rachel  38.0       Baltimore     Perempuan\n",
      "18    samuel  19.0       Las Vegas     Laki-laki\n",
      "19    taylor  34.0       Nashville     Laki-laki\n",
      "20    ursula  37.0     Minneapolis     Perempuan\n",
      "21    victor  40.0     New Orleans     Laki-laki\n",
      "22     wendy  39.0         Orlando     Perempuan\n",
      "23    xavier  42.0  Salt Lake City     Laki-laki\n",
      "24      yara  43.0           Tampa     Perempuan\n",
      "25   zachary  44.0     Albuquerque     Laki-laki\n",
      "26       ava  18.0         Detroit     Laki-laki\n",
      "27  benjamin  31.0       Charlotte     Laki-laki\n",
      "28     chloe  27.0    Indianapolis     Laki-laki\n",
      "29    daniel  25.0        Columbus     Perempuan\n",
      "30     emily  22.0    Jacksonville     Perempuan\n",
      "31     fiona  31.0     Kansas City     Perempuan\n",
      "32    george  30.0       Milwaukee     Laki-laki\n",
      "33    hannah  24.0   Oklahoma City     Laki-laki\n",
      "34     isaac  31.0         Memphis     Laki-laki\n",
      "35     julia  26.0      Louisville     Perempuan\n",
      "36     kevin  21.0           Omaha     Laki-laki\n",
      "37      lily  33.0         Raleigh     Laki-laki\n",
      "38   matthew  35.0       Cleveland     Laki-laki\n",
      "39      nora  37.0      Pittsburgh     Laki-laki\n",
      "40     oscar  39.0      Cincinnati     Laki-laki\n",
      "41  penelope  41.0         Buffalo     Perempuan\n",
      "42    quincy  20.0        Hartford     Perempuan\n",
      "43   rebecca  42.0        Richmond     Laki-laki\n",
      "44   stephen  36.0          Austin     Laki-laki\n",
      "45      tara  32.0     San Antonio     Laki-laki\n",
      "46   ulysses  34.0        San Jose     Laki-laki\n",
      "47    violet  38.0      Sacramento     Laki-laki\n",
      "48   william  23.0       Anchorage     Laki-laki\n",
      "49    xander  19.0        Honolulu     Laki-laki\n"
     ]
    }
   ],
   "source": [
    "df['Umur'] = df['Umur'].apply(str)\n",
    "print(df)"
   ]
  },
  {
   "cell_type": "markdown",
   "id": "643f22e5",
   "metadata": {},
   "source": [
    "## 20. Hitung dan tampilkan usia maksimum untuk setiap Lokasi"
   ]
  },
  {
   "cell_type": "code",
   "execution_count": 73,
   "id": "17d1eeae",
   "metadata": {},
   "outputs": [
    {
     "name": "stdout",
     "output_type": "stream",
     "text": [
      "Lokasi\n",
      "Albuquerque       44.0\n",
      "Anchorage         23.0\n",
      "Atlanta           21.0\n",
      "Austin            36.0\n",
      "Baltimore         38.0\n",
      "Boston            20.0\n",
      "Buffalo           41.0\n",
      "Charlotte         31.0\n",
      "Chicago           22.0\n",
      "Cincinnati        39.0\n",
      "Cleveland         35.0\n",
      "Columbus          25.0\n",
      "Dallas            45.0\n",
      "Denver            24.0\n",
      "Detroit           18.0\n",
      "Hartford          20.0\n",
      "Honolulu          19.0\n",
      "Houston           27.0\n",
      "Indianapolis      27.0\n",
      "Jacksonville      22.0\n",
      "Kansas City       31.0\n",
      "Las Vegas         19.0\n",
      "Los Angeles       30.0\n",
      "Louisville        26.0\n",
      "Memphis           31.0\n",
      "Miami             29.0\n",
      "Milwaukee         30.0\n",
      "Minneapolis       37.0\n",
      "NYC               25.0\n",
      "Nashville         34.0\n",
      "New Orleans       40.0\n",
      "Oklahoma City     24.0\n",
      "Omaha             21.0\n",
      "Orlando           39.0\n",
      "Philadelphia      26.0\n",
      "Phoenix           35.0\n",
      "Pittsburgh        37.0\n",
      "Portland          23.0\n",
      "Raleigh           33.0\n",
      "Richmond          42.0\n",
      "Sacramento        38.0\n",
      "Salt Lake City    42.0\n",
      "San Antonio       32.0\n",
      "San Diego         32.0\n",
      "San Francisco     31.0\n",
      "San Jose          34.0\n",
      "Seattle           31.0\n",
      "Tampa             43.0\n",
      "Washington        36.0\n",
      "Name: Umur, dtype: object\n"
     ]
    }
   ],
   "source": [
    "grouped_data = df.groupby('Lokasi')['Umur'].max()\n",
    "print(grouped_data)"
   ]
  },
  {
   "cell_type": "markdown",
   "id": "7e673f77",
   "metadata": {},
   "source": [
    "## 21. Ganti semua kemunculan \"Chicago\" dalam kolom Lokasi dengan \"CHI\""
   ]
  },
  {
   "cell_type": "code",
   "execution_count": 74,
   "id": "e7c4d448",
   "metadata": {},
   "outputs": [
    {
     "name": "stdout",
     "output_type": "stream",
     "text": [
      "        Nama  Umur          Lokasi Jenis Kelamin\n",
      "0      alice  25.0             NYC     Laki-laki\n",
      "1        bob  30.0     Los Angeles     Perempuan\n",
      "2    charlie  22.0             CHI     Laki-laki\n",
      "3      david  27.0         Houston     Perempuan\n",
      "4       emma  29.0           Miami     Laki-laki\n",
      "5      frank  31.0         Seattle     Perempuan\n",
      "6      grace  20.0          Boston     Laki-laki\n",
      "7      henry  45.0          Dallas     Perempuan\n",
      "8   isabella  31.0   San Francisco     Perempuan\n",
      "9       jack  28.0          Austin     Laki-laki\n",
      "10      kate  24.0          Denver     Perempuan\n",
      "11      liam  35.0         Phoenix     Perempuan\n",
      "12       mia  26.0    Philadelphia     Perempuan\n",
      "13      noah  32.0       San Diego     Perempuan\n",
      "14    olivia  36.0      Washington     Laki-laki\n",
      "15     peter  21.0         Atlanta     Laki-laki\n",
      "16     quinn  23.0        Portland     Perempuan\n",
      "17    rachel  38.0       Baltimore     Perempuan\n",
      "18    samuel  19.0       Las Vegas     Laki-laki\n",
      "19    taylor  34.0       Nashville     Laki-laki\n",
      "20    ursula  37.0     Minneapolis     Perempuan\n",
      "21    victor  40.0     New Orleans     Laki-laki\n",
      "22     wendy  39.0         Orlando     Perempuan\n",
      "23    xavier  42.0  Salt Lake City     Laki-laki\n",
      "24      yara  43.0           Tampa     Perempuan\n",
      "25   zachary  44.0     Albuquerque     Laki-laki\n",
      "26       ava  18.0         Detroit     Laki-laki\n",
      "27  benjamin  31.0       Charlotte     Laki-laki\n",
      "28     chloe  27.0    Indianapolis     Laki-laki\n",
      "29    daniel  25.0        Columbus     Perempuan\n",
      "30     emily  22.0    Jacksonville     Perempuan\n",
      "31     fiona  31.0     Kansas City     Perempuan\n",
      "32    george  30.0       Milwaukee     Laki-laki\n",
      "33    hannah  24.0   Oklahoma City     Laki-laki\n",
      "34     isaac  31.0         Memphis     Laki-laki\n",
      "35     julia  26.0      Louisville     Perempuan\n",
      "36     kevin  21.0           Omaha     Laki-laki\n",
      "37      lily  33.0         Raleigh     Laki-laki\n",
      "38   matthew  35.0       Cleveland     Laki-laki\n",
      "39      nora  37.0      Pittsburgh     Laki-laki\n",
      "40     oscar  39.0      Cincinnati     Laki-laki\n",
      "41  penelope  41.0         Buffalo     Perempuan\n",
      "42    quincy  20.0        Hartford     Perempuan\n",
      "43   rebecca  42.0        Richmond     Laki-laki\n",
      "44   stephen  36.0          Austin     Laki-laki\n",
      "45      tara  32.0     San Antonio     Laki-laki\n",
      "46   ulysses  34.0        San Jose     Laki-laki\n",
      "47    violet  38.0      Sacramento     Laki-laki\n",
      "48   william  23.0       Anchorage     Laki-laki\n",
      "49    xander  19.0        Honolulu     Laki-laki\n"
     ]
    }
   ],
   "source": [
    "df['Lokasi'] = df['Lokasi'].replace('Chicago', 'CHI')\n",
    "print(df)"
   ]
  },
  {
   "cell_type": "markdown",
   "id": "92d0bb7c",
   "metadata": {},
   "source": [
    "## 22. Hitung persentase masing-masing nilai unik dalam kolom Lokasi."
   ]
  },
  {
   "cell_type": "code",
   "execution_count": 79,
   "id": "b5536d27",
   "metadata": {},
   "outputs": [
    {
     "name": "stdout",
     "output_type": "stream",
     "text": [
      "Lokasi\n",
      "Austin            4.0\n",
      "NYC               2.0\n",
      "Raleigh           2.0\n",
      "Charlotte         2.0\n",
      "Indianapolis      2.0\n",
      "Columbus          2.0\n",
      "Jacksonville      2.0\n",
      "Kansas City       2.0\n",
      "Milwaukee         2.0\n",
      "Oklahoma City     2.0\n",
      "Memphis           2.0\n",
      "Louisville        2.0\n",
      "Omaha             2.0\n",
      "Cleveland         2.0\n",
      "Albuquerque       2.0\n",
      "Pittsburgh        2.0\n",
      "Cincinnati        2.0\n",
      "Buffalo           2.0\n",
      "Hartford          2.0\n",
      "Richmond          2.0\n",
      "San Antonio       2.0\n",
      "San Jose          2.0\n",
      "Sacramento        2.0\n",
      "Anchorage         2.0\n",
      "Detroit           2.0\n",
      "Tampa             2.0\n",
      "Los Angeles       2.0\n",
      "Philadelphia      2.0\n",
      "CHI               2.0\n",
      "Houston           2.0\n",
      "Miami             2.0\n",
      "Seattle           2.0\n",
      "Boston            2.0\n",
      "Dallas            2.0\n",
      "San Francisco     2.0\n",
      "Denver            2.0\n",
      "Phoenix           2.0\n",
      "San Diego         2.0\n",
      "Salt Lake City    2.0\n",
      "Washington        2.0\n",
      "Atlanta           2.0\n",
      "Portland          2.0\n",
      "Baltimore         2.0\n",
      "Las Vegas         2.0\n",
      "Nashville         2.0\n",
      "Minneapolis       2.0\n",
      "New Orleans       2.0\n",
      "Orlando           2.0\n",
      "Honolulu          2.0\n",
      "Name: count, dtype: float64\n"
     ]
    }
   ],
   "source": [
    "value_counts = df['Lokasi'].value_counts()\n",
    "total_data = len(df)\n",
    "percentage = (value_counts / total_data) * 100\n",
    "print(percentage)"
   ]
  },
  {
   "cell_type": "code",
   "execution_count": null,
   "id": "ec4bf50c",
   "metadata": {},
   "outputs": [],
   "source": []
  }
 ],
 "metadata": {
  "kernelspec": {
   "display_name": "Python 3 (ipykernel)",
   "language": "python",
   "name": "python3"
  },
  "language_info": {
   "codemirror_mode": {
    "name": "ipython",
    "version": 3
   },
   "file_extension": ".py",
   "mimetype": "text/x-python",
   "name": "python",
   "nbconvert_exporter": "python",
   "pygments_lexer": "ipython3",
   "version": "3.8.0"
  }
 },
 "nbformat": 4,
 "nbformat_minor": 5
}
