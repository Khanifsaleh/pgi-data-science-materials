{
 "cells": [
  {
   "cell_type": "code",
   "execution_count": 11,
   "id": "9ab86ec5",
   "metadata": {},
   "outputs": [
    {
     "name": "stdout",
     "output_type": "stream",
     "text": [
      "Deret hasil: [0, 1, 1, 2, 3, 5, 8, 13, 21, 34]\n"
     ]
    }
   ],
   "source": [
    "def generate_fibonacci_like_series(bilangan_pertama, bilangan_kedua, panjang_deret):\n",
    "    deret = [bilangan_pertama, bilangan_kedua]\n",
    "    \n",
    "    for _ in range(panjang_deret - 2):\n",
    "        next_bilangan = deret[-1] + deret[-2]\n",
    "        deret.append(next_bilangan)\n",
    "    \n",
    "    return deret\n",
    "\n",
    "bilangan_pertama = 0 \n",
    "bilangan_kedua = 1\n",
    "panjang_deret = 10\n",
    "\n",
    "hasil_deret = generate_fibonacci_like_series(bilangan_pertama, bilangan_kedua, panjang_deret)\n",
    "print(\"Deret hasil:\", hasil_deret)\n"
   ]
  },
  {
   "cell_type": "code",
   "execution_count": 12,
   "id": "d1f626f3",
   "metadata": {},
   "outputs": [
    {
     "name": "stdout",
     "output_type": "stream",
     "text": [
      "Angka 2 muncul sebanyak 12 kali dalam rentang [1, 30]\n",
      "Bilangan yang mengandung angka tersebut: [2, 12, 20, 21, 22, 23, 24, 25, 26, 27, 28, 29]\n"
     ]
    }
   ],
   "source": [
    "def count_occurrences_in_range(batas_bawah, batas_atas, angka):\n",
    "    count = 0\n",
    "    angka_muncul = []\n",
    "\n",
    "    for num in range(batas_bawah, batas_atas + 1):\n",
    "        if str(angka) in str(num):\n",
    "            count += 1\n",
    "            angka_muncul.append(num)\n",
    "\n",
    "    return count, angka_muncul\n",
    "\n",
    "batas_bawah = 1\n",
    "batas_atas = 30\n",
    "angka = 2\n",
    "\n",
    "jumlah_muncul, angka_muncul = count_occurrences_in_range(batas_bawah, batas_atas, angka)\n",
    "print(f\"Angka {angka} muncul sebanyak {jumlah_muncul} kali dalam rentang [{batas_bawah}, {batas_atas}]\")\n",
    "print(\"Bilangan yang mengandung angka tersebut:\", angka_muncul)\n"
   ]
  }
 ],
 "metadata": {
  "kernelspec": {
   "display_name": "Python 3 (ipykernel)",
   "language": "python",
   "name": "python3"
  },
  "language_info": {
   "codemirror_mode": {
    "name": "ipython",
    "version": 3
   },
   "file_extension": ".py",
   "mimetype": "text/x-python",
   "name": "python",
   "nbconvert_exporter": "python",
   "pygments_lexer": "ipython3",
   "version": "3.8.0"
  }
 },
 "nbformat": 4,
 "nbformat_minor": 5
}
